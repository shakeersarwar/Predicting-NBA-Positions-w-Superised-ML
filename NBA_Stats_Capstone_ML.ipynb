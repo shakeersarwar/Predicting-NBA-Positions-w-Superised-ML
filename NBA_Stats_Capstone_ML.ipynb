{
 "cells": [
  {
   "cell_type": "code",
   "execution_count": 1,
   "id": "f496b24f",
   "metadata": {},
   "outputs": [],
   "source": [
    "# Initial Imports:\n",
    "import pandas as pd\n",
    "import numpy as np\n",
    "from pathlib import Path\n",
    "import warnings\n",
    "warnings.filterwarnings('ignore')\n",
    "\n",
    "%matplotlib inline\n",
    "#import plotly.express as px\n",
    "#import hvplot.pandas\n",
    "import matplotlib.pyplot as plt\n",
    "import seaborn as sns\n",
    "\n",
    "# For Data Manipulation:\n",
    "from sklearn.model_selection import train_test_split\n",
    "from sklearn.preprocessing import StandardScaler\n",
    "from sklearn.decomposition import PCA\n",
    "\n",
    "# For Decision Tree:\n",
    "from sklearn import tree\n",
    "\n",
    "# For Random Forest:\n",
    "from sklearn.ensemble import RandomForestClassifier\n",
    "\n",
    "# For SVM:\n",
    "from sklearn import svm\n",
    "from sklearn.svm import SVC\n",
    "from matplotlib import style\n",
    "style.use('ggplot')\n",
    "\n",
    "# For Gradient Boosted Trees:\n",
    "from sklearn.ensemble import GradientBoostingClassifier\n",
    "\n",
    "# For evaluation:\n",
    "from sklearn.metrics import confusion_matrix, classification_report, accuracy_score"
   ]
  },
  {
   "cell_type": "markdown",
   "id": "f1582555",
   "metadata": {},
   "source": [
    "# Data Pre-Processing:"
   ]
  },
  {
   "cell_type": "code",
   "execution_count": 2,
   "id": "05858261",
   "metadata": {},
   "outputs": [
    {
     "data": {
      "text/html": [
       "<div>\n",
       "<style scoped>\n",
       "    .dataframe tbody tr th:only-of-type {\n",
       "        vertical-align: middle;\n",
       "    }\n",
       "\n",
       "    .dataframe tbody tr th {\n",
       "        vertical-align: top;\n",
       "    }\n",
       "\n",
       "    .dataframe thead th {\n",
       "        text-align: right;\n",
       "    }\n",
       "</style>\n",
       "<table border=\"1\" class=\"dataframe\">\n",
       "  <thead>\n",
       "    <tr style=\"text-align: right;\">\n",
       "      <th></th>\n",
       "      <th>Player</th>\n",
       "      <th>Pos</th>\n",
       "      <th>Age</th>\n",
       "      <th>Tm</th>\n",
       "      <th>G</th>\n",
       "      <th>GS</th>\n",
       "      <th>MP</th>\n",
       "      <th>FG</th>\n",
       "      <th>FGA</th>\n",
       "      <th>FG%</th>\n",
       "      <th>3P</th>\n",
       "      <th>3PA</th>\n",
       "      <th>3P%</th>\n",
       "      <th>2P</th>\n",
       "      <th>2PA</th>\n",
       "      <th>2P%</th>\n",
       "      <th>FT</th>\n",
       "      <th>FTA</th>\n",
       "      <th>FT%</th>\n",
       "      <th>ORB</th>\n",
       "      <th>DRB</th>\n",
       "      <th>TRB</th>\n",
       "      <th>AST</th>\n",
       "      <th>STL</th>\n",
       "      <th>BLK</th>\n",
       "      <th>TOV</th>\n",
       "      <th>PF</th>\n",
       "      <th>PTS</th>\n",
       "    </tr>\n",
       "  </thead>\n",
       "  <tbody>\n",
       "    <tr>\n",
       "      <th>0</th>\n",
       "      <td>Quincy Acy</td>\n",
       "      <td>PF</td>\n",
       "      <td>24</td>\n",
       "      <td>NYK</td>\n",
       "      <td>68</td>\n",
       "      <td>22</td>\n",
       "      <td>1287</td>\n",
       "      <td>4.3</td>\n",
       "      <td>9.3</td>\n",
       "      <td>0.459</td>\n",
       "      <td>0.5</td>\n",
       "      <td>1.7</td>\n",
       "      <td>0.300</td>\n",
       "      <td>3.7</td>\n",
       "      <td>7.6</td>\n",
       "      <td>0.494</td>\n",
       "      <td>2.1</td>\n",
       "      <td>2.7</td>\n",
       "      <td>0.784</td>\n",
       "      <td>2.2</td>\n",
       "      <td>6.2</td>\n",
       "      <td>8.4</td>\n",
       "      <td>1.9</td>\n",
       "      <td>0.8</td>\n",
       "      <td>0.6</td>\n",
       "      <td>1.7</td>\n",
       "      <td>4.1</td>\n",
       "      <td>11.1</td>\n",
       "    </tr>\n",
       "    <tr>\n",
       "      <th>1</th>\n",
       "      <td>Jordan Adams</td>\n",
       "      <td>SG</td>\n",
       "      <td>20</td>\n",
       "      <td>MEM</td>\n",
       "      <td>30</td>\n",
       "      <td>0</td>\n",
       "      <td>248</td>\n",
       "      <td>5.1</td>\n",
       "      <td>12.5</td>\n",
       "      <td>0.407</td>\n",
       "      <td>1.5</td>\n",
       "      <td>3.6</td>\n",
       "      <td>0.400</td>\n",
       "      <td>3.6</td>\n",
       "      <td>8.9</td>\n",
       "      <td>0.410</td>\n",
       "      <td>2.0</td>\n",
       "      <td>3.3</td>\n",
       "      <td>0.609</td>\n",
       "      <td>1.3</td>\n",
       "      <td>2.8</td>\n",
       "      <td>4.1</td>\n",
       "      <td>2.3</td>\n",
       "      <td>2.3</td>\n",
       "      <td>1.0</td>\n",
       "      <td>2.0</td>\n",
       "      <td>3.5</td>\n",
       "      <td>13.6</td>\n",
       "    </tr>\n",
       "    <tr>\n",
       "      <th>2</th>\n",
       "      <td>Steven Adams</td>\n",
       "      <td>C</td>\n",
       "      <td>21</td>\n",
       "      <td>OKC</td>\n",
       "      <td>70</td>\n",
       "      <td>67</td>\n",
       "      <td>1771</td>\n",
       "      <td>4.4</td>\n",
       "      <td>8.1</td>\n",
       "      <td>0.544</td>\n",
       "      <td>0.0</td>\n",
       "      <td>0.0</td>\n",
       "      <td>0.000</td>\n",
       "      <td>4.4</td>\n",
       "      <td>8.1</td>\n",
       "      <td>0.547</td>\n",
       "      <td>2.1</td>\n",
       "      <td>4.2</td>\n",
       "      <td>0.502</td>\n",
       "      <td>4.0</td>\n",
       "      <td>6.6</td>\n",
       "      <td>10.6</td>\n",
       "      <td>1.3</td>\n",
       "      <td>0.8</td>\n",
       "      <td>1.7</td>\n",
       "      <td>2.0</td>\n",
       "      <td>4.5</td>\n",
       "      <td>10.9</td>\n",
       "    </tr>\n",
       "    <tr>\n",
       "      <th>3</th>\n",
       "      <td>Jeff Adrien</td>\n",
       "      <td>PF</td>\n",
       "      <td>28</td>\n",
       "      <td>MIN</td>\n",
       "      <td>17</td>\n",
       "      <td>0</td>\n",
       "      <td>215</td>\n",
       "      <td>3.2</td>\n",
       "      <td>7.4</td>\n",
       "      <td>0.432</td>\n",
       "      <td>0.0</td>\n",
       "      <td>0.0</td>\n",
       "      <td>NaN</td>\n",
       "      <td>3.2</td>\n",
       "      <td>7.4</td>\n",
       "      <td>0.432</td>\n",
       "      <td>3.7</td>\n",
       "      <td>6.4</td>\n",
       "      <td>0.579</td>\n",
       "      <td>3.9</td>\n",
       "      <td>9.0</td>\n",
       "      <td>12.9</td>\n",
       "      <td>2.5</td>\n",
       "      <td>0.7</td>\n",
       "      <td>1.5</td>\n",
       "      <td>1.5</td>\n",
       "      <td>5.0</td>\n",
       "      <td>10.0</td>\n",
       "    </tr>\n",
       "    <tr>\n",
       "      <th>4</th>\n",
       "      <td>Arron Afflalo</td>\n",
       "      <td>SG</td>\n",
       "      <td>29</td>\n",
       "      <td>TOT</td>\n",
       "      <td>78</td>\n",
       "      <td>72</td>\n",
       "      <td>2502</td>\n",
       "      <td>5.4</td>\n",
       "      <td>12.7</td>\n",
       "      <td>0.424</td>\n",
       "      <td>1.7</td>\n",
       "      <td>4.8</td>\n",
       "      <td>0.354</td>\n",
       "      <td>3.7</td>\n",
       "      <td>7.9</td>\n",
       "      <td>0.466</td>\n",
       "      <td>2.4</td>\n",
       "      <td>2.8</td>\n",
       "      <td>0.843</td>\n",
       "      <td>0.4</td>\n",
       "      <td>3.2</td>\n",
       "      <td>3.6</td>\n",
       "      <td>1.9</td>\n",
       "      <td>0.6</td>\n",
       "      <td>0.1</td>\n",
       "      <td>1.7</td>\n",
       "      <td>2.4</td>\n",
       "      <td>14.9</td>\n",
       "    </tr>\n",
       "  </tbody>\n",
       "</table>\n",
       "</div>"
      ],
      "text/plain": [
       "          Player Pos  Age   Tm   G  GS    MP   FG   FGA    FG%   3P  3PA  \\\n",
       "0     Quincy Acy  PF   24  NYK  68  22  1287  4.3   9.3  0.459  0.5  1.7   \n",
       "1   Jordan Adams  SG   20  MEM  30   0   248  5.1  12.5  0.407  1.5  3.6   \n",
       "2   Steven Adams   C   21  OKC  70  67  1771  4.4   8.1  0.544  0.0  0.0   \n",
       "3    Jeff Adrien  PF   28  MIN  17   0   215  3.2   7.4  0.432  0.0  0.0   \n",
       "4  Arron Afflalo  SG   29  TOT  78  72  2502  5.4  12.7  0.424  1.7  4.8   \n",
       "\n",
       "     3P%   2P  2PA    2P%   FT  FTA    FT%  ORB  DRB   TRB  AST  STL  BLK  \\\n",
       "0  0.300  3.7  7.6  0.494  2.1  2.7  0.784  2.2  6.2   8.4  1.9  0.8  0.6   \n",
       "1  0.400  3.6  8.9  0.410  2.0  3.3  0.609  1.3  2.8   4.1  2.3  2.3  1.0   \n",
       "2  0.000  4.4  8.1  0.547  2.1  4.2  0.502  4.0  6.6  10.6  1.3  0.8  1.7   \n",
       "3    NaN  3.2  7.4  0.432  3.7  6.4  0.579  3.9  9.0  12.9  2.5  0.7  1.5   \n",
       "4  0.354  3.7  7.9  0.466  2.4  2.8  0.843  0.4  3.2   3.6  1.9  0.6  0.1   \n",
       "\n",
       "   TOV   PF   PTS  \n",
       "0  1.7  4.1  11.1  \n",
       "1  2.0  3.5  13.6  \n",
       "2  2.0  4.5  10.9  \n",
       "3  1.5  5.0  10.0  \n",
       "4  1.7  2.4  14.9  "
      ]
     },
     "execution_count": 2,
     "metadata": {},
     "output_type": "execute_result"
    }
   ],
   "source": [
    "# Read in 1st CSV/Season:\n",
    "season_2014_2015_csvpath = Path(r'C:\\Users\\Shakeer\\OneDrive\\Documents\\NBA Stats - Capstone\\Players Stats Per36 14-15.csv')\n",
    "season_2014_2015_df = pd.read_csv(season_2014_2015_csvpath, encoding=\"ISO-8859-1\")\n",
    "\n",
    "# Read in 2nd CSV/Season:\n",
    "season_2015_2016_csvpath = Path(r'C:\\Users\\Shakeer\\OneDrive\\Documents\\NBA Stats - Capstone\\Players Stats Per36 15-16.csv')\n",
    "season_2015_2016_df = pd.read_csv(season_2015_2016_csvpath, encoding=\"ISO-8859-1\")\n",
    "\n",
    "# Read in 3rd CSV/Season:\n",
    "season_2016_2017_csvpath = Path(r'C:\\Users\\Shakeer\\OneDrive\\Documents\\NBA Stats - Capstone\\Players Stats Per36 16-17.csv')\n",
    "season_2016_2017_df = pd.read_csv(season_2016_2017_csvpath, encoding=\"ISO-8859-1\")\n",
    "\n",
    "# Read in 4th CSV/Season:\n",
    "season_2017_2018_csvpath = Path(r'C:\\Users\\Shakeer\\OneDrive\\Documents\\NBA Stats - Capstone\\Players Stats Per36 17-18.csv')\n",
    "season_2017_2018_df = pd.read_csv(season_2017_2018_csvpath, encoding=\"ISO-8859-1\")\n",
    "\n",
    "# Read in 5th CSV/Season:\n",
    "season_2018_2019_csvpath = Path(r'C:\\Users\\Shakeer\\OneDrive\\Documents\\NBA Stats - Capstone\\Players Stats Per36 18-19.csv')\n",
    "season_2018_2019_df = pd.read_csv(season_2018_2019_csvpath, encoding=\"ISO-8859-1\")\n",
    "\n",
    "# Read in 6th CSVCSV/Season:\n",
    "season_2019_2020_csvpath = Path(r'C:\\Users\\Shakeer\\OneDrive\\Documents\\NBA Stats - Capstone\\Players Stats Per36 19-20.csv')\n",
    "season_2019_2020_df = pd.read_csv(season_2019_2020_csvpath, encoding=\"ISO-8859-1\")\n",
    "\n",
    "# Read in 7th CSV/Season:\n",
    "season_2020_2021_csvpath = Path(r'C:\\Users\\Shakeer\\OneDrive\\Documents\\NBA Stats - Capstone\\Players Stats Per36 20-21.csv')\n",
    "season_2020_2021_df = pd.read_csv(season_2020_2021_csvpath, encoding=\"ISO-8859-1\")\n",
    "\n",
    "# Read in 8th CSV/Season:\n",
    "season_2021_2022_csvpath = Path(r'C:\\Users\\Shakeer\\OneDrive\\Documents\\NBA Stats - Capstone\\Players Stats Per36 21-22.csv')\n",
    "season_2021_2022_df = pd.read_csv(season_2021_2022_csvpath, encoding=\"ISO-8859-1\")\n",
    "\n",
    "# Concatenate all seasons into one DataFrame:\n",
    "original_df = pd.concat([season_2014_2015_df, season_2015_2016_df, season_2016_2017_df, season_2017_2018_df, season_2018_2019_df, season_2019_2020_df, season_2020_2021_df, season_2021_2022_df])\n",
    "\n",
    "# Set Pandas option to show all DataFrame columns (without showing truncated ... in middle):\n",
    "pd.set_option('display.max_rows', None, 'display.max_columns', None)\n",
    "\n",
    "# Preview original DataFrame:\n",
    "original_df.head()"
   ]
  },
  {
   "cell_type": "code",
   "execution_count": 3,
   "id": "eb5bb115",
   "metadata": {},
   "outputs": [],
   "source": [
    "# Create pre-conversion \"shape\" variable:\n",
    "shape_pre_conversion = original_df.shape"
   ]
  },
  {
   "cell_type": "code",
   "execution_count": 4,
   "id": "0a234dfe",
   "metadata": {},
   "outputs": [
    {
     "data": {
      "text/html": [
       "<div>\n",
       "<style scoped>\n",
       "    .dataframe tbody tr th:only-of-type {\n",
       "        vertical-align: middle;\n",
       "    }\n",
       "\n",
       "    .dataframe tbody tr th {\n",
       "        vertical-align: top;\n",
       "    }\n",
       "\n",
       "    .dataframe thead th {\n",
       "        text-align: right;\n",
       "    }\n",
       "</style>\n",
       "<table border=\"1\" class=\"dataframe\">\n",
       "  <thead>\n",
       "    <tr style=\"text-align: right;\">\n",
       "      <th></th>\n",
       "      <th>Player</th>\n",
       "      <th>Pos</th>\n",
       "      <th>Age</th>\n",
       "      <th>Tm</th>\n",
       "      <th>G</th>\n",
       "      <th>GS</th>\n",
       "      <th>MP</th>\n",
       "      <th>FG</th>\n",
       "      <th>FGA</th>\n",
       "      <th>FG%</th>\n",
       "      <th>3P</th>\n",
       "      <th>3PA</th>\n",
       "      <th>3P%</th>\n",
       "      <th>2P</th>\n",
       "      <th>2PA</th>\n",
       "      <th>2P%</th>\n",
       "      <th>FT</th>\n",
       "      <th>FTA</th>\n",
       "      <th>FT%</th>\n",
       "      <th>ORB</th>\n",
       "      <th>DRB</th>\n",
       "      <th>TRB</th>\n",
       "      <th>AST</th>\n",
       "      <th>STL</th>\n",
       "      <th>BLK</th>\n",
       "      <th>TOV</th>\n",
       "      <th>PF</th>\n",
       "      <th>PTS</th>\n",
       "    </tr>\n",
       "  </thead>\n",
       "  <tbody>\n",
       "    <tr>\n",
       "      <th>0</th>\n",
       "      <td>Quincy Acy</td>\n",
       "      <td>PF</td>\n",
       "      <td>24</td>\n",
       "      <td>NYK</td>\n",
       "      <td>68</td>\n",
       "      <td>22</td>\n",
       "      <td>1287</td>\n",
       "      <td>4.3</td>\n",
       "      <td>9.3</td>\n",
       "      <td>0.459</td>\n",
       "      <td>0.5</td>\n",
       "      <td>1.7</td>\n",
       "      <td>0.300</td>\n",
       "      <td>3.7</td>\n",
       "      <td>7.6</td>\n",
       "      <td>0.494</td>\n",
       "      <td>2.1</td>\n",
       "      <td>2.7</td>\n",
       "      <td>0.784</td>\n",
       "      <td>2.2</td>\n",
       "      <td>6.2</td>\n",
       "      <td>8.4</td>\n",
       "      <td>1.9</td>\n",
       "      <td>0.8</td>\n",
       "      <td>0.6</td>\n",
       "      <td>1.7</td>\n",
       "      <td>4.1</td>\n",
       "      <td>11.1</td>\n",
       "    </tr>\n",
       "    <tr>\n",
       "      <th>2</th>\n",
       "      <td>Steven Adams</td>\n",
       "      <td>C</td>\n",
       "      <td>21</td>\n",
       "      <td>OKC</td>\n",
       "      <td>70</td>\n",
       "      <td>67</td>\n",
       "      <td>1771</td>\n",
       "      <td>4.4</td>\n",
       "      <td>8.1</td>\n",
       "      <td>0.544</td>\n",
       "      <td>0.0</td>\n",
       "      <td>0.0</td>\n",
       "      <td>0.000</td>\n",
       "      <td>4.4</td>\n",
       "      <td>8.1</td>\n",
       "      <td>0.547</td>\n",
       "      <td>2.1</td>\n",
       "      <td>4.2</td>\n",
       "      <td>0.502</td>\n",
       "      <td>4.0</td>\n",
       "      <td>6.6</td>\n",
       "      <td>10.6</td>\n",
       "      <td>1.3</td>\n",
       "      <td>0.8</td>\n",
       "      <td>1.7</td>\n",
       "      <td>2.0</td>\n",
       "      <td>4.5</td>\n",
       "      <td>10.9</td>\n",
       "    </tr>\n",
       "    <tr>\n",
       "      <th>4</th>\n",
       "      <td>Arron Afflalo</td>\n",
       "      <td>SG</td>\n",
       "      <td>29</td>\n",
       "      <td>TOT</td>\n",
       "      <td>78</td>\n",
       "      <td>72</td>\n",
       "      <td>2502</td>\n",
       "      <td>5.4</td>\n",
       "      <td>12.7</td>\n",
       "      <td>0.424</td>\n",
       "      <td>1.7</td>\n",
       "      <td>4.8</td>\n",
       "      <td>0.354</td>\n",
       "      <td>3.7</td>\n",
       "      <td>7.9</td>\n",
       "      <td>0.466</td>\n",
       "      <td>2.4</td>\n",
       "      <td>2.8</td>\n",
       "      <td>0.843</td>\n",
       "      <td>0.4</td>\n",
       "      <td>3.2</td>\n",
       "      <td>3.6</td>\n",
       "      <td>1.9</td>\n",
       "      <td>0.6</td>\n",
       "      <td>0.1</td>\n",
       "      <td>1.7</td>\n",
       "      <td>2.4</td>\n",
       "      <td>14.9</td>\n",
       "    </tr>\n",
       "    <tr>\n",
       "      <th>5</th>\n",
       "      <td>Arron Afflalo</td>\n",
       "      <td>SG</td>\n",
       "      <td>29</td>\n",
       "      <td>DEN</td>\n",
       "      <td>53</td>\n",
       "      <td>53</td>\n",
       "      <td>1750</td>\n",
       "      <td>5.8</td>\n",
       "      <td>13.5</td>\n",
       "      <td>0.428</td>\n",
       "      <td>1.7</td>\n",
       "      <td>5.0</td>\n",
       "      <td>0.337</td>\n",
       "      <td>4.1</td>\n",
       "      <td>8.5</td>\n",
       "      <td>0.481</td>\n",
       "      <td>2.6</td>\n",
       "      <td>3.1</td>\n",
       "      <td>0.841</td>\n",
       "      <td>0.4</td>\n",
       "      <td>3.3</td>\n",
       "      <td>3.7</td>\n",
       "      <td>2.1</td>\n",
       "      <td>0.7</td>\n",
       "      <td>0.1</td>\n",
       "      <td>1.7</td>\n",
       "      <td>2.2</td>\n",
       "      <td>15.9</td>\n",
       "    </tr>\n",
       "    <tr>\n",
       "      <th>7</th>\n",
       "      <td>Alexis Ajinça</td>\n",
       "      <td>C</td>\n",
       "      <td>26</td>\n",
       "      <td>NOP</td>\n",
       "      <td>68</td>\n",
       "      <td>8</td>\n",
       "      <td>957</td>\n",
       "      <td>6.8</td>\n",
       "      <td>12.4</td>\n",
       "      <td>0.550</td>\n",
       "      <td>0.0</td>\n",
       "      <td>0.0</td>\n",
       "      <td>NaN</td>\n",
       "      <td>6.8</td>\n",
       "      <td>12.4</td>\n",
       "      <td>0.550</td>\n",
       "      <td>3.0</td>\n",
       "      <td>3.7</td>\n",
       "      <td>0.818</td>\n",
       "      <td>3.9</td>\n",
       "      <td>7.9</td>\n",
       "      <td>11.8</td>\n",
       "      <td>1.8</td>\n",
       "      <td>0.8</td>\n",
       "      <td>1.9</td>\n",
       "      <td>2.6</td>\n",
       "      <td>5.7</td>\n",
       "      <td>16.7</td>\n",
       "    </tr>\n",
       "  </tbody>\n",
       "</table>\n",
       "</div>"
      ],
      "text/plain": [
       "          Player Pos  Age   Tm   G  GS    MP   FG   FGA    FG%   3P  3PA  \\\n",
       "0     Quincy Acy  PF   24  NYK  68  22  1287  4.3   9.3  0.459  0.5  1.7   \n",
       "2   Steven Adams   C   21  OKC  70  67  1771  4.4   8.1  0.544  0.0  0.0   \n",
       "4  Arron Afflalo  SG   29  TOT  78  72  2502  5.4  12.7  0.424  1.7  4.8   \n",
       "5  Arron Afflalo  SG   29  DEN  53  53  1750  5.8  13.5  0.428  1.7  5.0   \n",
       "7  Alexis Ajinça   C   26  NOP  68   8   957  6.8  12.4  0.550  0.0  0.0   \n",
       "\n",
       "     3P%   2P   2PA    2P%   FT  FTA    FT%  ORB  DRB   TRB  AST  STL  BLK  \\\n",
       "0  0.300  3.7   7.6  0.494  2.1  2.7  0.784  2.2  6.2   8.4  1.9  0.8  0.6   \n",
       "2  0.000  4.4   8.1  0.547  2.1  4.2  0.502  4.0  6.6  10.6  1.3  0.8  1.7   \n",
       "4  0.354  3.7   7.9  0.466  2.4  2.8  0.843  0.4  3.2   3.6  1.9  0.6  0.1   \n",
       "5  0.337  4.1   8.5  0.481  2.6  3.1  0.841  0.4  3.3   3.7  2.1  0.7  0.1   \n",
       "7    NaN  6.8  12.4  0.550  3.0  3.7  0.818  3.9  7.9  11.8  1.8  0.8  1.9   \n",
       "\n",
       "   TOV   PF   PTS  \n",
       "0  1.7  4.1  11.1  \n",
       "2  2.0  4.5  10.9  \n",
       "4  1.7  2.4  14.9  \n",
       "5  1.7  2.2  15.9  \n",
       "7  2.6  5.7  16.7  "
      ]
     },
     "execution_count": 4,
     "metadata": {},
     "output_type": "execute_result"
    }
   ],
   "source": [
    "# Filter DataFrame to only include rows with at least 820 Minutes Played (10 min/game * 82/games)\n",
    "# Rows containing players with less than 820 minutes played would unfairly skew the data.\n",
    "# For instance, if a player plays only 1 minute for a team and scores 2 points, his Points Per 36 Minutes would be 72;\n",
    "# clearly not a fair representation.\n",
    "\n",
    "original_df = original_df[original_df.MP >= 820]\n",
    "original_df.head()"
   ]
  },
  {
   "cell_type": "markdown",
   "id": "dd76b706",
   "metadata": {},
   "source": [
    "#### Note that numbers represent stats/36 min, not stats/game. This ensures that the averages are more on scale. By this, I mean that the stats for a player who has a small number of minutes/game (but still made the cut because they played enough total minutes) does not skew the data. By scaling all the statistics to be per minute, the players' statistics are a fairer representation of the role they play on the team."
   ]
  },
  {
   "cell_type": "code",
   "execution_count": 5,
   "id": "baa20d3a",
   "metadata": {},
   "outputs": [
    {
     "data": {
      "text/html": [
       "<div>\n",
       "<style scoped>\n",
       "    .dataframe tbody tr th:only-of-type {\n",
       "        vertical-align: middle;\n",
       "    }\n",
       "\n",
       "    .dataframe tbody tr th {\n",
       "        vertical-align: top;\n",
       "    }\n",
       "\n",
       "    .dataframe thead th {\n",
       "        text-align: right;\n",
       "    }\n",
       "</style>\n",
       "<table border=\"1\" class=\"dataframe\">\n",
       "  <thead>\n",
       "    <tr style=\"text-align: right;\">\n",
       "      <th></th>\n",
       "      <th>PTS</th>\n",
       "      <th>TRB</th>\n",
       "      <th>ORB</th>\n",
       "      <th>AST</th>\n",
       "      <th>STL</th>\n",
       "      <th>BLK</th>\n",
       "      <th>FG</th>\n",
       "      <th>FGA</th>\n",
       "      <th>FG%</th>\n",
       "      <th>3P</th>\n",
       "      <th>3PA</th>\n",
       "      <th>3P%</th>\n",
       "      <th>2P</th>\n",
       "      <th>2PA</th>\n",
       "      <th>2P%</th>\n",
       "      <th>FT</th>\n",
       "      <th>FTA</th>\n",
       "      <th>FT%</th>\n",
       "      <th>PF</th>\n",
       "      <th>TOV</th>\n",
       "      <th>Pos</th>\n",
       "    </tr>\n",
       "  </thead>\n",
       "  <tbody>\n",
       "    <tr>\n",
       "      <th>0</th>\n",
       "      <td>11.1</td>\n",
       "      <td>8.4</td>\n",
       "      <td>2.2</td>\n",
       "      <td>1.9</td>\n",
       "      <td>0.8</td>\n",
       "      <td>0.6</td>\n",
       "      <td>4.3</td>\n",
       "      <td>9.3</td>\n",
       "      <td>0.46</td>\n",
       "      <td>0.5</td>\n",
       "      <td>1.7</td>\n",
       "      <td>0.30</td>\n",
       "      <td>3.7</td>\n",
       "      <td>7.6</td>\n",
       "      <td>0.49</td>\n",
       "      <td>2.1</td>\n",
       "      <td>2.7</td>\n",
       "      <td>0.78</td>\n",
       "      <td>4.1</td>\n",
       "      <td>1.7</td>\n",
       "      <td>PF</td>\n",
       "    </tr>\n",
       "    <tr>\n",
       "      <th>2</th>\n",
       "      <td>10.9</td>\n",
       "      <td>10.6</td>\n",
       "      <td>4.0</td>\n",
       "      <td>1.3</td>\n",
       "      <td>0.8</td>\n",
       "      <td>1.7</td>\n",
       "      <td>4.4</td>\n",
       "      <td>8.1</td>\n",
       "      <td>0.54</td>\n",
       "      <td>0.0</td>\n",
       "      <td>0.0</td>\n",
       "      <td>0.00</td>\n",
       "      <td>4.4</td>\n",
       "      <td>8.1</td>\n",
       "      <td>0.55</td>\n",
       "      <td>2.1</td>\n",
       "      <td>4.2</td>\n",
       "      <td>0.50</td>\n",
       "      <td>4.5</td>\n",
       "      <td>2.0</td>\n",
       "      <td>C</td>\n",
       "    </tr>\n",
       "    <tr>\n",
       "      <th>4</th>\n",
       "      <td>14.9</td>\n",
       "      <td>3.6</td>\n",
       "      <td>0.4</td>\n",
       "      <td>1.9</td>\n",
       "      <td>0.6</td>\n",
       "      <td>0.1</td>\n",
       "      <td>5.4</td>\n",
       "      <td>12.7</td>\n",
       "      <td>0.42</td>\n",
       "      <td>1.7</td>\n",
       "      <td>4.8</td>\n",
       "      <td>0.35</td>\n",
       "      <td>3.7</td>\n",
       "      <td>7.9</td>\n",
       "      <td>0.47</td>\n",
       "      <td>2.4</td>\n",
       "      <td>2.8</td>\n",
       "      <td>0.84</td>\n",
       "      <td>2.4</td>\n",
       "      <td>1.7</td>\n",
       "      <td>SG</td>\n",
       "    </tr>\n",
       "    <tr>\n",
       "      <th>5</th>\n",
       "      <td>15.9</td>\n",
       "      <td>3.7</td>\n",
       "      <td>0.4</td>\n",
       "      <td>2.1</td>\n",
       "      <td>0.7</td>\n",
       "      <td>0.1</td>\n",
       "      <td>5.8</td>\n",
       "      <td>13.5</td>\n",
       "      <td>0.43</td>\n",
       "      <td>1.7</td>\n",
       "      <td>5.0</td>\n",
       "      <td>0.34</td>\n",
       "      <td>4.1</td>\n",
       "      <td>8.5</td>\n",
       "      <td>0.48</td>\n",
       "      <td>2.6</td>\n",
       "      <td>3.1</td>\n",
       "      <td>0.84</td>\n",
       "      <td>2.2</td>\n",
       "      <td>1.7</td>\n",
       "      <td>SG</td>\n",
       "    </tr>\n",
       "    <tr>\n",
       "      <th>10</th>\n",
       "      <td>23.8</td>\n",
       "      <td>10.4</td>\n",
       "      <td>2.5</td>\n",
       "      <td>1.8</td>\n",
       "      <td>0.7</td>\n",
       "      <td>1.0</td>\n",
       "      <td>9.4</td>\n",
       "      <td>20.3</td>\n",
       "      <td>0.47</td>\n",
       "      <td>0.5</td>\n",
       "      <td>1.5</td>\n",
       "      <td>0.35</td>\n",
       "      <td>8.9</td>\n",
       "      <td>18.8</td>\n",
       "      <td>0.48</td>\n",
       "      <td>4.4</td>\n",
       "      <td>5.2</td>\n",
       "      <td>0.84</td>\n",
       "      <td>1.8</td>\n",
       "      <td>1.7</td>\n",
       "      <td>PF</td>\n",
       "    </tr>\n",
       "  </tbody>\n",
       "</table>\n",
       "</div>"
      ],
      "text/plain": [
       "     PTS   TRB  ORB  AST  STL  BLK   FG   FGA   FG%   3P  3PA   3P%   2P  \\\n",
       "0   11.1   8.4  2.2  1.9  0.8  0.6  4.3   9.3  0.46  0.5  1.7  0.30  3.7   \n",
       "2   10.9  10.6  4.0  1.3  0.8  1.7  4.4   8.1  0.54  0.0  0.0  0.00  4.4   \n",
       "4   14.9   3.6  0.4  1.9  0.6  0.1  5.4  12.7  0.42  1.7  4.8  0.35  3.7   \n",
       "5   15.9   3.7  0.4  2.1  0.7  0.1  5.8  13.5  0.43  1.7  5.0  0.34  4.1   \n",
       "10  23.8  10.4  2.5  1.8  0.7  1.0  9.4  20.3  0.47  0.5  1.5  0.35  8.9   \n",
       "\n",
       "     2PA   2P%   FT  FTA   FT%   PF  TOV Pos  \n",
       "0    7.6  0.49  2.1  2.7  0.78  4.1  1.7  PF  \n",
       "2    8.1  0.55  2.1  4.2  0.50  4.5  2.0   C  \n",
       "4    7.9  0.47  2.4  2.8  0.84  2.4  1.7  SG  \n",
       "5    8.5  0.48  2.6  3.1  0.84  2.2  1.7  SG  \n",
       "10  18.8  0.48  4.4  5.2  0.84  1.8  1.7  PF  "
      ]
     },
     "execution_count": 5,
     "metadata": {},
     "output_type": "execute_result"
    }
   ],
   "source": [
    "# Slice original dataframe into new dataframe with relevant columns, while appropriately ordering columns:\n",
    "df = original_df[['PTS', 'TRB', 'ORB', 'AST', 'STL', 'BLK', 'FG', 'FGA', 'FG%', '3P', '3PA', '3P%', '2P', '2PA', '2P%', 'FT', 'FTA', 'FT%', 'PF', 'TOV', 'Pos']]\n",
    "\n",
    "# Drop nulls:\n",
    "df = df.dropna()\n",
    "\n",
    "# Convert mixed positions, like \"C-PF\" and \"PF-SF\" into one of the 5 main basketball positions:\n",
    "df = df.replace(\"C-PF\",\"C\")\n",
    "df = df.replace(\"PF-SF\",\"PF\")\n",
    "df = df.replace(\"SF-SG\",\"SF\")\n",
    "df = df.replace(\"SG-PG\",\"SG\")\n",
    "df = df.replace(\"PF-C\",\"PF\")\n",
    "df = df.replace(\"PG-SG\",\"PG\")\n",
    "df = df.replace(\"SF-PF\",\"SF\")\n",
    "df = df.replace(\"SG-SF\",\"SG\")\n",
    "df = df.replace(\"SG-PF\",\"SG\")\n",
    "df = df.replace(\"SF-C\",\"SF\")\n",
    "\n",
    "# Round all numerical columns to show 2 decimals max:\n",
    "df = df.round({'PTS': 2})\n",
    "df = df.round({'TRB': 2})\n",
    "df = df.round({'ORB': 2})\n",
    "df = df.round({'AST': 2})\n",
    "df = df.round({'STL': 2})\n",
    "df = df.round({'BLK': 2})\n",
    "df = df.round({'FG': 2})\n",
    "df = df.round({'FGA': 2})\n",
    "df = df.round({'FG%': 2})\n",
    "df = df.round({'3P': 2})\n",
    "df = df.round({'3PA': 2})\n",
    "df = df.round({'3P%': 2})\n",
    "df = df.round({'2P': 2})\n",
    "df = df.round({'2PA': 2})\n",
    "df = df.round({'2P%': 2})\n",
    "df = df.round({'FT': 2})\n",
    "df = df.round({'FTA': 2})\n",
    "df = df.round({'FT%': 2})\n",
    "df = df.round({'PF': 2})\n",
    "df = df.round({'TOV': 2})\n",
    "\n",
    "# Confirm new DataFrame:\n",
    "df.head()"
   ]
  },
  {
   "cell_type": "code",
   "execution_count": 6,
   "id": "ac497e75",
   "metadata": {},
   "outputs": [
    {
     "name": "stdout",
     "output_type": "stream",
     "text": [
      "Shape Pre-Conversion: (5364, 28)\n",
      "Shape Post-Conversion: (2532, 21)\n"
     ]
    }
   ],
   "source": [
    "shape_post_conversion = df.shape\n",
    "\n",
    "print(f'Shape Pre-Conversion: {shape_pre_conversion}')\n",
    "print(f'Shape Post-Conversion: {shape_post_conversion}')"
   ]
  },
  {
   "cell_type": "code",
   "execution_count": 7,
   "id": "b62f9614",
   "metadata": {},
   "outputs": [
    {
     "data": {
      "text/plain": [
       "SG    607\n",
       "PG    535\n",
       "PF    530\n",
       "SF    464\n",
       "C     396\n",
       "Name: Pos, dtype: int64"
      ]
     },
     "execution_count": 7,
     "metadata": {},
     "output_type": "execute_result"
    }
   ],
   "source": [
    "# Check how many of each position in y-dataset:\n",
    "df.loc[:, 'Pos'].value_counts()"
   ]
  },
  {
   "cell_type": "markdown",
   "id": "04779cd9",
   "metadata": {},
   "source": [
    "# Data Visualization:"
   ]
  },
  {
   "cell_type": "code",
   "execution_count": 8,
   "id": "384b8ac4",
   "metadata": {},
   "outputs": [
    {
     "data": {
      "text/html": [
       "<div>\n",
       "<style scoped>\n",
       "    .dataframe tbody tr th:only-of-type {\n",
       "        vertical-align: middle;\n",
       "    }\n",
       "\n",
       "    .dataframe tbody tr th {\n",
       "        vertical-align: top;\n",
       "    }\n",
       "\n",
       "    .dataframe thead th {\n",
       "        text-align: right;\n",
       "    }\n",
       "</style>\n",
       "<table border=\"1\" class=\"dataframe\">\n",
       "  <thead>\n",
       "    <tr style=\"text-align: right;\">\n",
       "      <th></th>\n",
       "      <th>PTS</th>\n",
       "      <th>TRB</th>\n",
       "      <th>ORB</th>\n",
       "      <th>AST</th>\n",
       "      <th>STL</th>\n",
       "      <th>BLK</th>\n",
       "      <th>FG</th>\n",
       "      <th>FGA</th>\n",
       "      <th>FG%</th>\n",
       "      <th>3P</th>\n",
       "      <th>3PA</th>\n",
       "      <th>3P%</th>\n",
       "      <th>2P</th>\n",
       "      <th>2PA</th>\n",
       "      <th>2P%</th>\n",
       "      <th>FT</th>\n",
       "      <th>FTA</th>\n",
       "      <th>FT%</th>\n",
       "      <th>PF</th>\n",
       "      <th>TOV</th>\n",
       "    </tr>\n",
       "    <tr>\n",
       "      <th>Pos</th>\n",
       "      <th></th>\n",
       "      <th></th>\n",
       "      <th></th>\n",
       "      <th></th>\n",
       "      <th></th>\n",
       "      <th></th>\n",
       "      <th></th>\n",
       "      <th></th>\n",
       "      <th></th>\n",
       "      <th></th>\n",
       "      <th></th>\n",
       "      <th></th>\n",
       "      <th></th>\n",
       "      <th></th>\n",
       "      <th></th>\n",
       "      <th></th>\n",
       "      <th></th>\n",
       "      <th></th>\n",
       "      <th></th>\n",
       "      <th></th>\n",
       "    </tr>\n",
       "  </thead>\n",
       "  <tbody>\n",
       "    <tr>\n",
       "      <th>C</th>\n",
       "      <td>16.397980</td>\n",
       "      <td>10.792929</td>\n",
       "      <td>3.226010</td>\n",
       "      <td>2.508333</td>\n",
       "      <td>0.973990</td>\n",
       "      <td>1.503535</td>\n",
       "      <td>6.452778</td>\n",
       "      <td>12.179798</td>\n",
       "      <td>0.537424</td>\n",
       "      <td>0.618182</td>\n",
       "      <td>1.788384</td>\n",
       "      <td>0.242753</td>\n",
       "      <td>5.833586</td>\n",
       "      <td>10.391667</td>\n",
       "      <td>0.567045</td>\n",
       "      <td>2.868939</td>\n",
       "      <td>4.048232</td>\n",
       "      <td>0.711212</td>\n",
       "      <td>3.838131</td>\n",
       "      <td>2.083333</td>\n",
       "    </tr>\n",
       "    <tr>\n",
       "      <th>PF</th>\n",
       "      <td>15.356604</td>\n",
       "      <td>7.862642</td>\n",
       "      <td>1.860377</td>\n",
       "      <td>2.513962</td>\n",
       "      <td>1.025660</td>\n",
       "      <td>0.841132</td>\n",
       "      <td>5.759811</td>\n",
       "      <td>12.417170</td>\n",
       "      <td>0.462038</td>\n",
       "      <td>1.471887</td>\n",
       "      <td>4.152075</td>\n",
       "      <td>0.326679</td>\n",
       "      <td>4.292642</td>\n",
       "      <td>8.265283</td>\n",
       "      <td>0.516755</td>\n",
       "      <td>2.357170</td>\n",
       "      <td>3.144340</td>\n",
       "      <td>0.745736</td>\n",
       "      <td>3.173396</td>\n",
       "      <td>1.776415</td>\n",
       "    </tr>\n",
       "    <tr>\n",
       "      <th>PG</th>\n",
       "      <td>16.518879</td>\n",
       "      <td>4.471963</td>\n",
       "      <td>0.757944</td>\n",
       "      <td>6.283178</td>\n",
       "      <td>1.356449</td>\n",
       "      <td>0.338131</td>\n",
       "      <td>5.978692</td>\n",
       "      <td>13.748972</td>\n",
       "      <td>0.432804</td>\n",
       "      <td>1.760935</td>\n",
       "      <td>4.970280</td>\n",
       "      <td>0.342542</td>\n",
       "      <td>4.213271</td>\n",
       "      <td>8.782804</td>\n",
       "      <td>0.476879</td>\n",
       "      <td>2.800935</td>\n",
       "      <td>3.476449</td>\n",
       "      <td>0.795664</td>\n",
       "      <td>2.665981</td>\n",
       "      <td>2.583551</td>\n",
       "    </tr>\n",
       "    <tr>\n",
       "      <th>SF</th>\n",
       "      <td>14.909052</td>\n",
       "      <td>5.658190</td>\n",
       "      <td>1.118966</td>\n",
       "      <td>2.633836</td>\n",
       "      <td>1.190302</td>\n",
       "      <td>0.548707</td>\n",
       "      <td>5.398707</td>\n",
       "      <td>12.138362</td>\n",
       "      <td>0.443190</td>\n",
       "      <td>1.799569</td>\n",
       "      <td>5.027802</td>\n",
       "      <td>0.349634</td>\n",
       "      <td>3.596552</td>\n",
       "      <td>7.114871</td>\n",
       "      <td>0.507004</td>\n",
       "      <td>2.314655</td>\n",
       "      <td>2.945259</td>\n",
       "      <td>0.774806</td>\n",
       "      <td>2.820043</td>\n",
       "      <td>1.664655</td>\n",
       "    </tr>\n",
       "    <tr>\n",
       "      <th>SG</th>\n",
       "      <td>16.089951</td>\n",
       "      <td>4.383690</td>\n",
       "      <td>0.750247</td>\n",
       "      <td>3.278089</td>\n",
       "      <td>1.154366</td>\n",
       "      <td>0.406425</td>\n",
       "      <td>5.800824</td>\n",
       "      <td>13.475124</td>\n",
       "      <td>0.429605</td>\n",
       "      <td>2.197529</td>\n",
       "      <td>6.016969</td>\n",
       "      <td>0.358913</td>\n",
       "      <td>3.600329</td>\n",
       "      <td>7.459308</td>\n",
       "      <td>0.483394</td>\n",
       "      <td>2.288797</td>\n",
       "      <td>2.845799</td>\n",
       "      <td>0.798402</td>\n",
       "      <td>2.633608</td>\n",
       "      <td>1.850412</td>\n",
       "    </tr>\n",
       "  </tbody>\n",
       "</table>\n",
       "</div>"
      ],
      "text/plain": [
       "           PTS        TRB       ORB       AST       STL       BLK        FG  \\\n",
       "Pos                                                                           \n",
       "C    16.397980  10.792929  3.226010  2.508333  0.973990  1.503535  6.452778   \n",
       "PF   15.356604   7.862642  1.860377  2.513962  1.025660  0.841132  5.759811   \n",
       "PG   16.518879   4.471963  0.757944  6.283178  1.356449  0.338131  5.978692   \n",
       "SF   14.909052   5.658190  1.118966  2.633836  1.190302  0.548707  5.398707   \n",
       "SG   16.089951   4.383690  0.750247  3.278089  1.154366  0.406425  5.800824   \n",
       "\n",
       "           FGA       FG%        3P       3PA       3P%        2P        2PA  \\\n",
       "Pos                                                                           \n",
       "C    12.179798  0.537424  0.618182  1.788384  0.242753  5.833586  10.391667   \n",
       "PF   12.417170  0.462038  1.471887  4.152075  0.326679  4.292642   8.265283   \n",
       "PG   13.748972  0.432804  1.760935  4.970280  0.342542  4.213271   8.782804   \n",
       "SF   12.138362  0.443190  1.799569  5.027802  0.349634  3.596552   7.114871   \n",
       "SG   13.475124  0.429605  2.197529  6.016969  0.358913  3.600329   7.459308   \n",
       "\n",
       "          2P%        FT       FTA       FT%        PF       TOV  \n",
       "Pos                                                              \n",
       "C    0.567045  2.868939  4.048232  0.711212  3.838131  2.083333  \n",
       "PF   0.516755  2.357170  3.144340  0.745736  3.173396  1.776415  \n",
       "PG   0.476879  2.800935  3.476449  0.795664  2.665981  2.583551  \n",
       "SF   0.507004  2.314655  2.945259  0.774806  2.820043  1.664655  \n",
       "SG   0.483394  2.288797  2.845799  0.798402  2.633608  1.850412  "
      ]
     },
     "execution_count": 8,
     "metadata": {},
     "output_type": "execute_result"
    }
   ],
   "source": [
    "# Groupby \"position\" and calculate average of each column, per position:\n",
    "summary_df = df.groupby('Pos').mean()\n",
    "summary_df.head()"
   ]
  },
  {
   "cell_type": "markdown",
   "id": "d33db5b5",
   "metadata": {},
   "source": [
    "#### We can glean useful information from the above chart. We see that in terms of, say, PTS, there is not much difference position-by-position: each averages about 15 points/36 minutes. However we see serious differences in a few categories, which are the ones we would expect; most namely, TRB (Total Rebounds) and AST (Assists). While point guards take the ball up the court and distribute the ball, leading to assists (PG's average 6.3 assists while C's average 2.5 assists), centers are taller and have a more rebound-heavy responsibility (C's average 10.8 rebounds while PG's average 4.5 rebounds). This gives a good idea about what to expect in the model, especially in terms of what the model deems to be the most important features that help determine a player's position."
   ]
  },
  {
   "cell_type": "code",
   "execution_count": 9,
   "id": "e446bb4c",
   "metadata": {},
   "outputs": [
    {
     "data": {
      "text/plain": [
       "<AxesSubplot:title={'center':'Bar Chart of Main Stats across all 5 Positions'}, xlabel='Pos'>"
      ]
     },
     "execution_count": 9,
     "metadata": {},
     "output_type": "execute_result"
    },
    {
     "data": {
      "image/png": "[encoded data removed]",
      "text/plain": [
       "<Figure size 864x576 with 1 Axes>"
      ]
     },
     "metadata": {},
     "output_type": "display_data"
    }
   ],
   "source": [
    "# Visualization 1 of 2:\n",
    "bar_chart_df = summary_df[['PTS', 'TRB', 'AST', 'STL', 'BLK', 'TOV']]\n",
    "bar_chart_df.plot(kind='bar', figsize = (12, 8), title='Bar Chart of Main Stats across all 5 Positions')"
   ]
  },
  {
   "cell_type": "markdown",
   "id": "bf622b41",
   "metadata": {},
   "source": [
    "#### This simple bar plot shows the six main basketball statistics - Points, Rebounds, Assists, Steals, Blocks, and Turnovers - and how they are distributed among the five positions. As mentioned above, points/36 minutes do not differ that greatly position-by-position; rebounds and assists, however, vary greatly. We can also see in yellow that centers average signficantly more blocks than other positions - blocks in general are hard to come by, so while centers average only 1.5 blocks/36 minutes, point guards average only .34 blocks/36 minutes, meaning in this particular dataset, centers average 341% more blocks/36 minutes relative to point guards. This feature could potentially be deemed one of the more important ones by the upcoming models."
   ]
  },
  {
   "cell_type": "code",
   "execution_count": 10,
   "id": "cb657226",
   "metadata": {},
   "outputs": [
    {
     "data": {
      "text/plain": [
       "<seaborn.axisgrid.PairGrid at 0x1d2e3e57550>"
      ]
     },
     "execution_count": 10,
     "metadata": {},
     "output_type": "execute_result"
    },
    {
     "data": {
      "image/png": "[encoded data removed]",
      "text/plain": [
       "<Figure size 914x864 with 42 Axes>"
      ]
     },
     "metadata": {},
     "output_type": "display_data"
    }
   ],
   "source": [
    "# Visualization 2 of 2:\n",
    "sns_df = df[['PTS', 'TRB', 'AST', 'STL', 'BLK', 'TOV','Pos']].head(300)\n",
    "sns_df = sns_df.reset_index()\n",
    "sns_df = sns_df.drop('index', axis=1)\n",
    "\n",
    "sns_plot = sns.pairplot(sns_df, hue='Pos', size=2)\n",
    "sns_plot"
   ]
  },
  {
   "cell_type": "code",
   "execution_count": 145,
   "id": "d918b336",
   "metadata": {},
   "outputs": [
    {
     "data": {
      "text/html": [
       "<div>\n",
       "<style scoped>\n",
       "    .dataframe tbody tr th:only-of-type {\n",
       "        vertical-align: middle;\n",
       "    }\n",
       "\n",
       "    .dataframe tbody tr th {\n",
       "        vertical-align: top;\n",
       "    }\n",
       "\n",
       "    .dataframe thead th {\n",
       "        text-align: right;\n",
       "    }\n",
       "</style>\n",
       "<table border=\"1\" class=\"dataframe\">\n",
       "  <thead>\n",
       "    <tr style=\"text-align: right;\">\n",
       "      <th></th>\n",
       "      <th>TRB</th>\n",
       "      <th>AST</th>\n",
       "      <th>STL</th>\n",
       "      <th>BLK</th>\n",
       "      <th>2P%</th>\n",
       "      <th>FT</th>\n",
       "      <th>FTA</th>\n",
       "      <th>FT%</th>\n",
       "      <th>PF</th>\n",
       "      <th>Pos</th>\n",
       "    </tr>\n",
       "  </thead>\n",
       "  <tbody>\n",
       "    <tr>\n",
       "      <th>0</th>\n",
       "      <td>8.4</td>\n",
       "      <td>1.9</td>\n",
       "      <td>0.8</td>\n",
       "      <td>0.6</td>\n",
       "      <td>0.49</td>\n",
       "      <td>2.1</td>\n",
       "      <td>2.7</td>\n",
       "      <td>0.78</td>\n",
       "      <td>4.1</td>\n",
       "      <td>PF</td>\n",
       "    </tr>\n",
       "    <tr>\n",
       "      <th>2</th>\n",
       "      <td>10.6</td>\n",
       "      <td>1.3</td>\n",
       "      <td>0.8</td>\n",
       "      <td>1.7</td>\n",
       "      <td>0.55</td>\n",
       "      <td>2.1</td>\n",
       "      <td>4.2</td>\n",
       "      <td>0.50</td>\n",
       "      <td>4.5</td>\n",
       "      <td>C</td>\n",
       "    </tr>\n",
       "    <tr>\n",
       "      <th>4</th>\n",
       "      <td>3.6</td>\n",
       "      <td>1.9</td>\n",
       "      <td>0.6</td>\n",
       "      <td>0.1</td>\n",
       "      <td>0.47</td>\n",
       "      <td>2.4</td>\n",
       "      <td>2.8</td>\n",
       "      <td>0.84</td>\n",
       "      <td>2.4</td>\n",
       "      <td>SG</td>\n",
       "    </tr>\n",
       "    <tr>\n",
       "      <th>5</th>\n",
       "      <td>3.7</td>\n",
       "      <td>2.1</td>\n",
       "      <td>0.7</td>\n",
       "      <td>0.1</td>\n",
       "      <td>0.48</td>\n",
       "      <td>2.6</td>\n",
       "      <td>3.1</td>\n",
       "      <td>0.84</td>\n",
       "      <td>2.2</td>\n",
       "      <td>SG</td>\n",
       "    </tr>\n",
       "    <tr>\n",
       "      <th>10</th>\n",
       "      <td>10.4</td>\n",
       "      <td>1.8</td>\n",
       "      <td>0.7</td>\n",
       "      <td>1.0</td>\n",
       "      <td>0.48</td>\n",
       "      <td>4.4</td>\n",
       "      <td>5.2</td>\n",
       "      <td>0.84</td>\n",
       "      <td>1.8</td>\n",
       "      <td>PF</td>\n",
       "    </tr>\n",
       "  </tbody>\n",
       "</table>\n",
       "</div>"
      ],
      "text/plain": [
       "     TRB  AST  STL  BLK   2P%   FT  FTA   FT%   PF Pos\n",
       "0    8.4  1.9  0.8  0.6  0.49  2.1  2.7  0.78  4.1  PF\n",
       "2   10.6  1.3  0.8  1.7  0.55  2.1  4.2  0.50  4.5   C\n",
       "4    3.6  1.9  0.6  0.1  0.47  2.4  2.8  0.84  2.4  SG\n",
       "5    3.7  2.1  0.7  0.1  0.48  2.6  3.1  0.84  2.2  SG\n",
       "10  10.4  1.8  0.7  1.0  0.48  4.4  5.2  0.84  1.8  PF"
      ]
     },
     "execution_count": 145,
     "metadata": {},
     "output_type": "execute_result"
    }
   ],
   "source": [
    "df_anova = df.copy()\n",
    "\n",
    "df_anova['Pos'] = np.where((df_anova.Pos == 'PG'), 1 ,\n",
    "                           (np.where((df_anova.Pos == 'SG'), 2 ,\n",
    "                           (np.where((df_anova.Pos == 'SF'), 3 ,\n",
    "                           (np.where((df_anova.Pos == 'PF'), 4 , 5)))))))\n",
    "df_anova.head()\n",
    "\n",
    "from scipy.stats import pearsonr\n",
    "import pandas as pd\n",
    "\n",
    "def calculate_pvalues(df_anova):\n",
    "    df_anova = df_anova.dropna()._get_numeric_data()\n",
    "    dfcols_anova = pd.DataFrame(columns=df_anova.columns)\n",
    "    pvalues = dfcols_anova.transpose().join(dfcols_anova, how='outer')\n",
    "    for r in df_anova.columns:\n",
    "        for c in df_anova.columns:\n",
    "            pvalues[r][c] = round(pearsonr(df_anova[r], df_anova[c])[1], 4)\n",
    "    return pvalues\n",
    "\n",
    "calculate_pvalues(df_anova)\n",
    "\n",
    "df_anova.to_csv('df_anova.csv', index = False)\n",
    "\n",
    "df2 = df[['TRB', 'AST', 'STL', 'BLK', '2P%', 'FT', 'FTA', 'FT%', 'PF', 'Pos' ]]\n",
    "df2.head()"
   ]
  },
  {
   "cell_type": "markdown",
   "id": "41cf4d40",
   "metadata": {},
   "source": [
    "#### Here we see scatter plots of all possible x/y-axis combinations. The first thing I notice is the general positive correlation in these graphs - meaning, as the x-axis values increase, so do the y-values. This makes sense to me, as it tells me that the better a player is at one particular category, chances are, they are also good at other statistical categories (good players don't just do one thing well). However, with TRB and AST, it appears the opposite is true: generally speaking, the more assists a player has, or the more rebounds, the less of the other stat they will have.\n",
    "#### The diagonal gives us insight into the distribution of each variable, broken down by position - it helps visualize the ranges in values by position. Looking at the TRB vs. TRB intersection, for example, we see that centers have a longer tail than other positions, while for the AST metric, point guards have a longer tail than other positions - the longer tail indicates a wider distribution, a larger range of values). While most categories have varied distributions, the PTS distribution remains relatively steady across all five positions."
   ]
  },
  {
   "cell_type": "markdown",
   "id": "4b806470",
   "metadata": {},
   "source": [
    "# Decision Tree (1 of 3):\n",
    "\n",
    "### This model will use all features, and will not use PCA transformation on X-data."
   ]
  },
  {
   "cell_type": "code",
   "execution_count": 147,
   "id": "331c7151",
   "metadata": {},
   "outputs": [
    {
     "name": "stdout",
     "output_type": "stream",
     "text": [
      "X_train: (1899, 20)\n",
      "y_train: (1899, 1)\n",
      "X_test: (633, 20)\n",
      "y_test: (633, 1)\n"
     ]
    }
   ],
   "source": [
    "# New clean dataframe:\n",
    "df_decision_tree1 = df.copy()\n",
    "\n",
    "# Set X (features) and y (target):\n",
    "X = df_decision_tree1.drop('Pos', axis=1)\n",
    "y = df_decision_tree1.loc[:, 'Pos']\n",
    "\n",
    "# Manually encode y-labels to make them more meaningful for the confusion matrix during evaluation:\n",
    "position_dictionary = {\n",
    "    \"PG\": 1,\n",
    "    \"SG\": 2,\n",
    "    \"SF\": 3,\n",
    "    \"PF\": 4,\n",
    "    \"C\": 5}\n",
    "\n",
    "y = y.map(position_dictionary).values.reshape(-1,1)\n",
    "\n",
    "# Split X and y into X_train, X_test, y_train, y_test and check shape of each:\n",
    "X_train, X_test, y_train, y_test = train_test_split(X, y, random_state=1, stratify=y)\n",
    "print('X_train:', X_train.shape)\n",
    "print('y_train:', y_train.shape)\n",
    "print('X_test:', X_test.shape)\n",
    "print('y_test:', y_test.shape)"
   ]
  },
  {
   "cell_type": "code",
   "execution_count": 13,
   "id": "e5c1c729",
   "metadata": {},
   "outputs": [],
   "source": [
    "# Scale X-data:\n",
    "scaler = StandardScaler()\n",
    "X_scaler = scaler.fit(X_train)\n",
    "\n",
    "X_train_scaled = X_scaler.transform(X_train)\n",
    "X_test_scaled = X_scaler.transform(X_test)"
   ]
  },
  {
   "cell_type": "code",
   "execution_count": 14,
   "id": "12e2523c",
   "metadata": {},
   "outputs": [],
   "source": [
    "# Create, fit and predict Decision Tree Model:\n",
    "dt1_model = tree.DecisionTreeClassifier(random_state=1)\n",
    "dt1_model = dt1_model.fit(X_train_scaled, y_train)\n",
    "predictions = dt1_model.predict(X_test_scaled)"
   ]
  },
  {
   "cell_type": "code",
   "execution_count": 15,
   "id": "0fd50793",
   "metadata": {},
   "outputs": [
    {
     "data": {
      "text/plain": [
       "0.5924170616113744"
      ]
     },
     "execution_count": 15,
     "metadata": {},
     "output_type": "execute_result"
    }
   ],
   "source": [
    "# Print accuracy score:\n",
    "dt1_accuracy_score = accuracy_score(y_test, predictions)\n",
    "dt1_accuracy_score"
   ]
  },
  {
   "cell_type": "code",
   "execution_count": 16,
   "id": "0ab600e3",
   "metadata": {},
   "outputs": [
    {
     "data": {
      "image/png": "[encoded data removed]",
      "text/plain": [
       "<Figure size 648x504 with 2 Axes>"
      ]
     },
     "metadata": {},
     "output_type": "display_data"
    }
   ],
   "source": [
    "# Define Custom Confusion Matrix function that plots Heatmap of Actuals vs. Predictions:\n",
    "\n",
    "def confusion_matrix_heatmap(y_test, predictions):\n",
    "    \"\"\"This plots the confusion matrix\"\"\"\n",
    "    warnings.filterwarnings('ignore')\n",
    "\n",
    "    cm = confusion_matrix(y_test, predictions)\n",
    "\n",
    "    # Plot Heatmap:\n",
    "    f, ax = plt.subplots(figsize=(9, 7))\n",
    "    heat_map = sns.heatmap(cm, annot=True, fmt=\"d\", linewidths=1, ax=ax, cmap=sns.cubehelix_palette(50), xticklabels=position_dictionary.keys(), yticklabels=position_dictionary.keys())\n",
    "\n",
    "    # Set X and Y Labels:\n",
    "    heat_map.set_xlabel(\"# Predicted\")\n",
    "    heat_map.set_ylabel(\"# Actual\")\n",
    "    \n",
    "# Print confusion matrix:\n",
    "cm1 = confusion_matrix_heatmap(y_test, predictions)"
   ]
  },
  {
   "cell_type": "markdown",
   "id": "68b5110d",
   "metadata": {},
   "source": [
    "#### The confusion matrix is a helpful way to visualize the model's accuracy. We can see in the above, for instance, that out of the 134 point guards included in the Testing Dataset (103+13+9+8+1), the model correctly predicted \"point guard\" 103 times. 13 times it thought the point guard was a shooting guard, 9 times it thought the point guard was a small forward, 8 times it thought the point guard was a power forward, and 1 time it thought the point guard was a center. That distribution makes sense - as the differing responsibilities of the positions increased, the model was less likely to predict that the point guard was that position."
   ]
  },
  {
   "cell_type": "code",
   "execution_count": 17,
   "id": "e9e07418",
   "metadata": {},
   "outputs": [
    {
     "name": "stdout",
     "output_type": "stream",
     "text": [
      "              precision    recall  f1-score   support\n",
      "\n",
      "          PG       0.77      0.77      0.77       134\n",
      "          SG       0.58      0.55      0.57       152\n",
      "          SF       0.38      0.43      0.40       116\n",
      "          PF       0.52      0.49      0.51       132\n",
      "           C       0.74      0.74      0.74        99\n",
      "\n",
      "    accuracy                           0.59       633\n",
      "   macro avg       0.60      0.60      0.60       633\n",
      "weighted avg       0.60      0.59      0.59       633\n",
      "\n"
     ]
    }
   ],
   "source": [
    "# Print classification report:\n",
    "dt1_class_report = classification_report(y_test, predictions, target_names = ['PG', 'SG', 'SF', 'PF', 'C'])\n",
    "print(dt1_class_report)"
   ]
  },
  {
   "cell_type": "markdown",
   "id": "26986488",
   "metadata": {},
   "source": [
    "### What do these scores mean?\n",
    "#### Precision: Accuracy of positive predictions: The model positively predicted a position (meaning it said it is this position as opposed to it is NOT that position) at a 60% rate.\n",
    "\n",
    "#### Recall: Fraction of positives that were correctly identified: The model caught 60% of the positive cases.\n",
    "\n",
    "#### F1 Score: The percentage of positive predictions correctly predicted: The model correctly predicted 60% of the positive predictions.\n",
    "\n",
    "#### Support: Number of occurrences in the dataset, AKA, the number of rows in the dataset. This dataset contained 633 rows of data and therefore had a Support score of 633."
   ]
  },
  {
   "cell_type": "code",
   "execution_count": 18,
   "id": "497c14f5",
   "metadata": {},
   "outputs": [
    {
     "data": {
      "text/html": [
       "<div>\n",
       "<style scoped>\n",
       "    .dataframe tbody tr th:only-of-type {\n",
       "        vertical-align: middle;\n",
       "    }\n",
       "\n",
       "    .dataframe tbody tr th {\n",
       "        vertical-align: top;\n",
       "    }\n",
       "\n",
       "    .dataframe thead th {\n",
       "        text-align: right;\n",
       "    }\n",
       "</style>\n",
       "<table border=\"1\" class=\"dataframe\">\n",
       "  <thead>\n",
       "    <tr style=\"text-align: right;\">\n",
       "      <th></th>\n",
       "      <th>Importance</th>\n",
       "    </tr>\n",
       "  </thead>\n",
       "  <tbody>\n",
       "    <tr>\n",
       "      <th>TRB</th>\n",
       "      <td>0.234745</td>\n",
       "    </tr>\n",
       "    <tr>\n",
       "      <th>AST</th>\n",
       "      <td>0.187726</td>\n",
       "    </tr>\n",
       "    <tr>\n",
       "      <th>ORB</th>\n",
       "      <td>0.072603</td>\n",
       "    </tr>\n",
       "    <tr>\n",
       "      <th>BLK</th>\n",
       "      <td>0.044798</td>\n",
       "    </tr>\n",
       "    <tr>\n",
       "      <th>FT%</th>\n",
       "      <td>0.043533</td>\n",
       "    </tr>\n",
       "    <tr>\n",
       "      <th>PF</th>\n",
       "      <td>0.042900</td>\n",
       "    </tr>\n",
       "    <tr>\n",
       "      <th>FG%</th>\n",
       "      <td>0.040563</td>\n",
       "    </tr>\n",
       "    <tr>\n",
       "      <th>2P%</th>\n",
       "      <td>0.037831</td>\n",
       "    </tr>\n",
       "    <tr>\n",
       "      <th>STL</th>\n",
       "      <td>0.036804</td>\n",
       "    </tr>\n",
       "    <tr>\n",
       "      <th>FGA</th>\n",
       "      <td>0.036772</td>\n",
       "    </tr>\n",
       "    <tr>\n",
       "      <th>FTA</th>\n",
       "      <td>0.036067</td>\n",
       "    </tr>\n",
       "    <tr>\n",
       "      <th>TOV</th>\n",
       "      <td>0.033015</td>\n",
       "    </tr>\n",
       "    <tr>\n",
       "      <th>PTS</th>\n",
       "      <td>0.030044</td>\n",
       "    </tr>\n",
       "    <tr>\n",
       "      <th>2PA</th>\n",
       "      <td>0.028264</td>\n",
       "    </tr>\n",
       "    <tr>\n",
       "      <th>3PA</th>\n",
       "      <td>0.020144</td>\n",
       "    </tr>\n",
       "    <tr>\n",
       "      <th>3P%</th>\n",
       "      <td>0.018302</td>\n",
       "    </tr>\n",
       "    <tr>\n",
       "      <th>FT</th>\n",
       "      <td>0.014335</td>\n",
       "    </tr>\n",
       "    <tr>\n",
       "      <th>FG</th>\n",
       "      <td>0.014257</td>\n",
       "    </tr>\n",
       "    <tr>\n",
       "      <th>3P</th>\n",
       "      <td>0.013652</td>\n",
       "    </tr>\n",
       "    <tr>\n",
       "      <th>2P</th>\n",
       "      <td>0.013646</td>\n",
       "    </tr>\n",
       "  </tbody>\n",
       "</table>\n",
       "</div>"
      ],
      "text/plain": [
       "     Importance\n",
       "TRB    0.234745\n",
       "AST    0.187726\n",
       "ORB    0.072603\n",
       "BLK    0.044798\n",
       "FT%    0.043533\n",
       "PF     0.042900\n",
       "FG%    0.040563\n",
       "2P%    0.037831\n",
       "STL    0.036804\n",
       "FGA    0.036772\n",
       "FTA    0.036067\n",
       "TOV    0.033015\n",
       "PTS    0.030044\n",
       "2PA    0.028264\n",
       "3PA    0.020144\n",
       "3P%    0.018302\n",
       "FT     0.014335\n",
       "FG     0.014257\n",
       "3P     0.013652\n",
       "2P     0.013646"
      ]
     },
     "execution_count": 18,
     "metadata": {},
     "output_type": "execute_result"
    }
   ],
   "source": [
    "# List features ordered by feature importance:\n",
    "dt1_importances = pd.DataFrame(dt1_model.feature_importances_, index = X_train.columns, columns=['Importance']).sort_values('Importance', ascending=False)\n",
    "dt1_importances"
   ]
  },
  {
   "cell_type": "markdown",
   "id": "c32e7e6c",
   "metadata": {},
   "source": [
    "#### We can see that Decision Tree 1 deemed TRB, AST, ORB, BLK, FT% and PF to be the 6 most important features that help the model predict positions. It deemed 3PA, 3P%, FT, FG, 3P and 2P to be the least important features. This makes sense - the categories in which average stats differ greatly position-by-position (like TRB and AST) the model deems to be important, while categories in which average stats do not differ greatly position-by-position (like FG and FT) the model deems to be unhelpful toward making predictions."
   ]
  },
  {
   "cell_type": "markdown",
   "id": "9f32701b",
   "metadata": {},
   "source": [
    "# Decision Tree (2 of 3):\n",
    "### This model will use all features, like Decision Tree 1, but will also use PCA transformation of X-data to reduce dataset dimensions."
   ]
  },
  {
   "cell_type": "code",
   "execution_count": 19,
   "id": "e27400e5",
   "metadata": {},
   "outputs": [
    {
     "data": {
      "text/html": [
       "<div>\n",
       "<style scoped>\n",
       "    .dataframe tbody tr th:only-of-type {\n",
       "        vertical-align: middle;\n",
       "    }\n",
       "\n",
       "    .dataframe tbody tr th {\n",
       "        vertical-align: top;\n",
       "    }\n",
       "\n",
       "    .dataframe thead th {\n",
       "        text-align: right;\n",
       "    }\n",
       "</style>\n",
       "<table border=\"1\" class=\"dataframe\">\n",
       "  <thead>\n",
       "    <tr style=\"text-align: right;\">\n",
       "      <th></th>\n",
       "      <th>PTS</th>\n",
       "      <th>TRB</th>\n",
       "      <th>ORB</th>\n",
       "      <th>AST</th>\n",
       "      <th>STL</th>\n",
       "      <th>BLK</th>\n",
       "      <th>FG</th>\n",
       "      <th>FGA</th>\n",
       "      <th>FG%</th>\n",
       "      <th>3P</th>\n",
       "      <th>3PA</th>\n",
       "      <th>3P%</th>\n",
       "      <th>2P</th>\n",
       "      <th>2PA</th>\n",
       "      <th>2P%</th>\n",
       "      <th>FT</th>\n",
       "      <th>FTA</th>\n",
       "      <th>FT%</th>\n",
       "      <th>PF</th>\n",
       "      <th>TOV</th>\n",
       "      <th>Pos</th>\n",
       "    </tr>\n",
       "  </thead>\n",
       "  <tbody>\n",
       "    <tr>\n",
       "      <th>0</th>\n",
       "      <td>11.1</td>\n",
       "      <td>8.4</td>\n",
       "      <td>2.2</td>\n",
       "      <td>1.9</td>\n",
       "      <td>0.8</td>\n",
       "      <td>0.6</td>\n",
       "      <td>4.3</td>\n",
       "      <td>9.3</td>\n",
       "      <td>0.46</td>\n",
       "      <td>0.5</td>\n",
       "      <td>1.7</td>\n",
       "      <td>0.30</td>\n",
       "      <td>3.7</td>\n",
       "      <td>7.6</td>\n",
       "      <td>0.49</td>\n",
       "      <td>2.1</td>\n",
       "      <td>2.7</td>\n",
       "      <td>0.78</td>\n",
       "      <td>4.1</td>\n",
       "      <td>1.7</td>\n",
       "      <td>PF</td>\n",
       "    </tr>\n",
       "    <tr>\n",
       "      <th>2</th>\n",
       "      <td>10.9</td>\n",
       "      <td>10.6</td>\n",
       "      <td>4.0</td>\n",
       "      <td>1.3</td>\n",
       "      <td>0.8</td>\n",
       "      <td>1.7</td>\n",
       "      <td>4.4</td>\n",
       "      <td>8.1</td>\n",
       "      <td>0.54</td>\n",
       "      <td>0.0</td>\n",
       "      <td>0.0</td>\n",
       "      <td>0.00</td>\n",
       "      <td>4.4</td>\n",
       "      <td>8.1</td>\n",
       "      <td>0.55</td>\n",
       "      <td>2.1</td>\n",
       "      <td>4.2</td>\n",
       "      <td>0.50</td>\n",
       "      <td>4.5</td>\n",
       "      <td>2.0</td>\n",
       "      <td>C</td>\n",
       "    </tr>\n",
       "    <tr>\n",
       "      <th>4</th>\n",
       "      <td>14.9</td>\n",
       "      <td>3.6</td>\n",
       "      <td>0.4</td>\n",
       "      <td>1.9</td>\n",
       "      <td>0.6</td>\n",
       "      <td>0.1</td>\n",
       "      <td>5.4</td>\n",
       "      <td>12.7</td>\n",
       "      <td>0.42</td>\n",
       "      <td>1.7</td>\n",
       "      <td>4.8</td>\n",
       "      <td>0.35</td>\n",
       "      <td>3.7</td>\n",
       "      <td>7.9</td>\n",
       "      <td>0.47</td>\n",
       "      <td>2.4</td>\n",
       "      <td>2.8</td>\n",
       "      <td>0.84</td>\n",
       "      <td>2.4</td>\n",
       "      <td>1.7</td>\n",
       "      <td>SG</td>\n",
       "    </tr>\n",
       "    <tr>\n",
       "      <th>5</th>\n",
       "      <td>15.9</td>\n",
       "      <td>3.7</td>\n",
       "      <td>0.4</td>\n",
       "      <td>2.1</td>\n",
       "      <td>0.7</td>\n",
       "      <td>0.1</td>\n",
       "      <td>5.8</td>\n",
       "      <td>13.5</td>\n",
       "      <td>0.43</td>\n",
       "      <td>1.7</td>\n",
       "      <td>5.0</td>\n",
       "      <td>0.34</td>\n",
       "      <td>4.1</td>\n",
       "      <td>8.5</td>\n",
       "      <td>0.48</td>\n",
       "      <td>2.6</td>\n",
       "      <td>3.1</td>\n",
       "      <td>0.84</td>\n",
       "      <td>2.2</td>\n",
       "      <td>1.7</td>\n",
       "      <td>SG</td>\n",
       "    </tr>\n",
       "    <tr>\n",
       "      <th>10</th>\n",
       "      <td>23.8</td>\n",
       "      <td>10.4</td>\n",
       "      <td>2.5</td>\n",
       "      <td>1.8</td>\n",
       "      <td>0.7</td>\n",
       "      <td>1.0</td>\n",
       "      <td>9.4</td>\n",
       "      <td>20.3</td>\n",
       "      <td>0.47</td>\n",
       "      <td>0.5</td>\n",
       "      <td>1.5</td>\n",
       "      <td>0.35</td>\n",
       "      <td>8.9</td>\n",
       "      <td>18.8</td>\n",
       "      <td>0.48</td>\n",
       "      <td>4.4</td>\n",
       "      <td>5.2</td>\n",
       "      <td>0.84</td>\n",
       "      <td>1.8</td>\n",
       "      <td>1.7</td>\n",
       "      <td>PF</td>\n",
       "    </tr>\n",
       "  </tbody>\n",
       "</table>\n",
       "</div>"
      ],
      "text/plain": [
       "     PTS   TRB  ORB  AST  STL  BLK   FG   FGA   FG%   3P  3PA   3P%   2P  \\\n",
       "0   11.1   8.4  2.2  1.9  0.8  0.6  4.3   9.3  0.46  0.5  1.7  0.30  3.7   \n",
       "2   10.9  10.6  4.0  1.3  0.8  1.7  4.4   8.1  0.54  0.0  0.0  0.00  4.4   \n",
       "4   14.9   3.6  0.4  1.9  0.6  0.1  5.4  12.7  0.42  1.7  4.8  0.35  3.7   \n",
       "5   15.9   3.7  0.4  2.1  0.7  0.1  5.8  13.5  0.43  1.7  5.0  0.34  4.1   \n",
       "10  23.8  10.4  2.5  1.8  0.7  1.0  9.4  20.3  0.47  0.5  1.5  0.35  8.9   \n",
       "\n",
       "     2PA   2P%   FT  FTA   FT%   PF  TOV Pos  \n",
       "0    7.6  0.49  2.1  2.7  0.78  4.1  1.7  PF  \n",
       "2    8.1  0.55  2.1  4.2  0.50  4.5  2.0   C  \n",
       "4    7.9  0.47  2.4  2.8  0.84  2.4  1.7  SG  \n",
       "5    8.5  0.48  2.6  3.1  0.84  2.2  1.7  SG  \n",
       "10  18.8  0.48  4.4  5.2  0.84  1.8  1.7  PF  "
      ]
     },
     "execution_count": 19,
     "metadata": {},
     "output_type": "execute_result"
    }
   ],
   "source": [
    "# New clean dataframe:\n",
    "df2_decision_tree = df.copy()\n",
    "df2_decision_tree.head()"
   ]
  },
  {
   "cell_type": "code",
   "execution_count": 20,
   "id": "20d60499",
   "metadata": {},
   "outputs": [],
   "source": [
    "# Set X (features) and y (target):\n",
    "X = df2_decision_tree.drop('Pos', axis=1)\n",
    "y = df2_decision_tree.loc[:, 'Pos']"
   ]
  },
  {
   "cell_type": "code",
   "execution_count": 21,
   "id": "3977c0da",
   "metadata": {},
   "outputs": [
    {
     "data": {
      "text/plain": [
       "SG    607\n",
       "PG    535\n",
       "PF    530\n",
       "SF    464\n",
       "C     396\n",
       "Name: Pos, dtype: int64"
      ]
     },
     "execution_count": 21,
     "metadata": {},
     "output_type": "execute_result"
    }
   ],
   "source": [
    "# Check how many of each position in y-dataset:\n",
    "y.value_counts()"
   ]
  },
  {
   "cell_type": "code",
   "execution_count": 22,
   "id": "6d0c8180",
   "metadata": {},
   "outputs": [],
   "source": [
    "# Apply position_dictionary established in Decision Tree 1 to this model:\n",
    "y = y.map(position_dictionary).values.reshape(-1,1)"
   ]
  },
  {
   "cell_type": "code",
   "execution_count": 23,
   "id": "c063709e",
   "metadata": {},
   "outputs": [
    {
     "name": "stdout",
     "output_type": "stream",
     "text": [
      "X_train: (1899, 20)\n",
      "y_train: (1899, 1)\n",
      "X_test: (633, 20)\n",
      "y_test: (633, 1)\n"
     ]
    }
   ],
   "source": [
    "# Split the X and y into X_train, X_test, y_train, y_test and check shape of each:\n",
    "X_train, X_test, y_train, y_test = train_test_split(X, y, random_state=1, stratify=y)\n",
    "print('X_train:', X_train.shape)\n",
    "print('y_train:', y_train.shape)\n",
    "print('X_test:', X_test.shape)\n",
    "print('y_test:', y_test.shape)"
   ]
  },
  {
   "cell_type": "code",
   "execution_count": 24,
   "id": "b50eb96f",
   "metadata": {},
   "outputs": [],
   "source": [
    "# Scale X-data before using PCA to reduce dimensions:\n",
    "scaler = StandardScaler()\n",
    "X_scaler = scaler.fit(X_train)\n",
    "\n",
    "X_train_scaled = X_scaler.transform(X_train)\n",
    "X_test_scaled = X_scaler.transform(X_test)"
   ]
  },
  {
   "cell_type": "code",
   "execution_count": 25,
   "id": "3d477588",
   "metadata": {},
   "outputs": [
    {
     "data": {
      "text/html": [
       "<div>\n",
       "<style scoped>\n",
       "    .dataframe tbody tr th:only-of-type {\n",
       "        vertical-align: middle;\n",
       "    }\n",
       "\n",
       "    .dataframe tbody tr th {\n",
       "        vertical-align: top;\n",
       "    }\n",
       "\n",
       "    .dataframe thead th {\n",
       "        text-align: right;\n",
       "    }\n",
       "</style>\n",
       "<table border=\"1\" class=\"dataframe\">\n",
       "  <thead>\n",
       "    <tr style=\"text-align: right;\">\n",
       "      <th></th>\n",
       "      <th>PC1</th>\n",
       "      <th>PC2</th>\n",
       "      <th>PC3</th>\n",
       "    </tr>\n",
       "  </thead>\n",
       "  <tbody>\n",
       "    <tr>\n",
       "      <th>0</th>\n",
       "      <td>1.405757</td>\n",
       "      <td>-1.158506</td>\n",
       "      <td>0.381929</td>\n",
       "    </tr>\n",
       "    <tr>\n",
       "      <th>1</th>\n",
       "      <td>1.153175</td>\n",
       "      <td>-1.581844</td>\n",
       "      <td>0.179647</td>\n",
       "    </tr>\n",
       "    <tr>\n",
       "      <th>2</th>\n",
       "      <td>-3.183667</td>\n",
       "      <td>0.483626</td>\n",
       "      <td>-1.267886</td>\n",
       "    </tr>\n",
       "    <tr>\n",
       "      <th>3</th>\n",
       "      <td>-3.855896</td>\n",
       "      <td>1.146708</td>\n",
       "      <td>-0.152094</td>\n",
       "    </tr>\n",
       "    <tr>\n",
       "      <th>4</th>\n",
       "      <td>1.311024</td>\n",
       "      <td>-1.582752</td>\n",
       "      <td>0.499617</td>\n",
       "    </tr>\n",
       "  </tbody>\n",
       "</table>\n",
       "</div>"
      ],
      "text/plain": [
       "        PC1       PC2       PC3\n",
       "0  1.405757 -1.158506  0.381929\n",
       "1  1.153175 -1.581844  0.179647\n",
       "2 -3.183667  0.483626 -1.267886\n",
       "3 -3.855896  1.146708 -0.152094\n",
       "4  1.311024 -1.582752  0.499617"
      ]
     },
     "execution_count": 25,
     "metadata": {},
     "output_type": "execute_result"
    }
   ],
   "source": [
    "# Now, use PCA to reduce dimensions:\n",
    "pca = PCA(n_components=3)\n",
    "X_pca = pca.fit(X_train_scaled)\n",
    "\n",
    "X_train_pca = X_pca.transform(X_train_scaled)\n",
    "X_test_pca = X_pca.transform(X_test_scaled)\n",
    "\n",
    "X_train_pca_df = pd.DataFrame(data = X_train_pca, columns = [\"PC1\", \"PC2\", \"PC3\"])\n",
    "X_test_pca_df = pd.DataFrame(data = X_test_pca, columns = [\"PC1\", \"PC2\", \"PC3\"])\n",
    "\n",
    "X_train_pca_df.head()"
   ]
  },
  {
   "cell_type": "code",
   "execution_count": 26,
   "id": "df84de52",
   "metadata": {},
   "outputs": [
    {
     "data": {
      "text/plain": [
       "array([0.33354838, 0.28291195, 0.09040357])"
      ]
     },
     "execution_count": 26,
     "metadata": {},
     "output_type": "execute_result"
    }
   ],
   "source": [
    "pca.explained_variance_ratio_"
   ]
  },
  {
   "cell_type": "markdown",
   "id": "8e806171",
   "metadata": {},
   "source": [
    "#### According to the above Explained Variance Ratio, we have 70% of the information captured in this model."
   ]
  },
  {
   "cell_type": "code",
   "execution_count": 27,
   "id": "cd61644d",
   "metadata": {},
   "outputs": [],
   "source": [
    "# Create, fit, and predict Decision Tree 2 Model:\n",
    "dt2_model = tree.DecisionTreeClassifier(random_state=1)\n",
    "dt2_model = dt2_model.fit(X_train_pca, y_train)\n",
    "predictions = dt2_model.predict(X_test_pca)"
   ]
  },
  {
   "cell_type": "code",
   "execution_count": 28,
   "id": "e6f7f357",
   "metadata": {},
   "outputs": [
    {
     "data": {
      "text/plain": [
       "0.48183254344391785"
      ]
     },
     "execution_count": 28,
     "metadata": {},
     "output_type": "execute_result"
    }
   ],
   "source": [
    "# Print accuracy score:\n",
    "dt2_accuracy_score = accuracy_score(y_test, predictions)\n",
    "dt2_accuracy_score"
   ]
  },
  {
   "cell_type": "code",
   "execution_count": 29,
   "id": "f226ae63",
   "metadata": {},
   "outputs": [
    {
     "data": {
      "image/png": "[encoded data removed]",
      "text/plain": [
       "<Figure size 648x504 with 2 Axes>"
      ]
     },
     "metadata": {},
     "output_type": "display_data"
    }
   ],
   "source": [
    "# Print confusion matrix using pre-defined function:\n",
    "cm2 = confusion_matrix_heatmap(y_test, predictions)"
   ]
  },
  {
   "cell_type": "markdown",
   "id": "ef1451df",
   "metadata": {},
   "source": [
    "#### The confusion matrix is a helpful way to visualize the model's accuracy. We can see in the above, for instance, that out of the 134 point guards included in the Testing Dataset (86+31+12+4+1), the model correctly predicted \"point guard\" 86 times. 31 times it thought the point guard was a shooting guard, 12 times it thought the point guard was a small forward, 4 times it thought the point guard was a power forward, and 1 time it thought the point guard was a center. That distribution makes sense - as the differing responsibilities of the positions increased, the model was less likely to predict that the point guard was that position."
   ]
  },
  {
   "cell_type": "code",
   "execution_count": 30,
   "id": "99a3df6b",
   "metadata": {},
   "outputs": [
    {
     "name": "stdout",
     "output_type": "stream",
     "text": [
      "              precision    recall  f1-score   support\n",
      "\n",
      "          PG       0.59      0.64      0.62       134\n",
      "          SG       0.44      0.45      0.44       152\n",
      "          SF       0.31      0.31      0.31       116\n",
      "          PF       0.42      0.39      0.41       132\n",
      "           C       0.66      0.64      0.65        99\n",
      "\n",
      "    accuracy                           0.48       633\n",
      "   macro avg       0.49      0.49      0.49       633\n",
      "weighted avg       0.48      0.48      0.48       633\n",
      "\n"
     ]
    }
   ],
   "source": [
    "# Print classification report:\n",
    "dt2_class_report = classification_report(y_test, predictions, target_names = ['PG', 'SG', 'SF', 'PF', 'C'])\n",
    "print(dt2_class_report)"
   ]
  },
  {
   "cell_type": "markdown",
   "id": "d7cc9168",
   "metadata": {},
   "source": [
    "#### A Feature Importance table cannot be run on X-data that has been PCA transformed, as the original features no longer exist."
   ]
  },
  {
   "cell_type": "markdown",
   "id": "c8cbf7d4",
   "metadata": {},
   "source": [
    "# Decision Tree Comparison:\n",
    "### Compare Decision Tree Results (did PCA Transformation of the X-data improve or worsen model?)"
   ]
  },
  {
   "cell_type": "code",
   "execution_count": 31,
   "id": "f8013e13",
   "metadata": {},
   "outputs": [
    {
     "name": "stdout",
     "output_type": "stream",
     "text": [
      "Decision Tree 1 Accuracy Score (no PCA): 0.5924170616113744. \n",
      "Decision Tree 2 Accuracy Score (with PCA): 0.48183254344391785.\n"
     ]
    }
   ],
   "source": [
    "print(f'Decision Tree 1 Accuracy Score (no PCA): {dt1_accuracy_score}. \\nDecision Tree 2 Accuracy Score (with PCA): {dt2_accuracy_score}.')"
   ]
  },
  {
   "cell_type": "code",
   "execution_count": 32,
   "id": "2a77fa32",
   "metadata": {},
   "outputs": [
    {
     "name": "stdout",
     "output_type": "stream",
     "text": [
      "DT1 Class. Report (no PCA):               precision    recall  f1-score   support\n",
      "\n",
      "          PG       0.77      0.77      0.77       134\n",
      "          SG       0.58      0.55      0.57       152\n",
      "          SF       0.38      0.43      0.40       116\n",
      "          PF       0.52      0.49      0.51       132\n",
      "           C       0.74      0.74      0.74        99\n",
      "\n",
      "    accuracy                           0.59       633\n",
      "   macro avg       0.60      0.60      0.60       633\n",
      "weighted avg       0.60      0.59      0.59       633\n",
      ". \n",
      "DT2 Class. Report (with PCA):               precision    recall  f1-score   support\n",
      "\n",
      "          PG       0.59      0.64      0.62       134\n",
      "          SG       0.44      0.45      0.44       152\n",
      "          SF       0.31      0.31      0.31       116\n",
      "          PF       0.42      0.39      0.41       132\n",
      "           C       0.66      0.64      0.65        99\n",
      "\n",
      "    accuracy                           0.48       633\n",
      "   macro avg       0.49      0.49      0.49       633\n",
      "weighted avg       0.48      0.48      0.48       633\n",
      ".\n"
     ]
    }
   ],
   "source": [
    "print(f'DT1 Class. Report (no PCA): {dt1_class_report}. \\nDT2 Class. Report (with PCA): {dt2_class_report}.')"
   ]
  },
  {
   "cell_type": "markdown",
   "id": "945705cd",
   "metadata": {},
   "source": [
    "#### Based on the above results, it appears that the model without PCA transformation of X-data is a better model than the one with PCA transformation.\n",
    "- 59.2% accuracy vs. 48.2% accuracy.\n",
    "- 60% precision vs. 49% precision.\n",
    "- 60% recall vs. 49% recall.\n",
    "- 60% f1 score vs. 49% F1 score.\n",
    "\n",
    "#### Therefore, in my third and final Decision Tree, I will not use PCA transformation."
   ]
  },
  {
   "cell_type": "markdown",
   "id": "c3054acf",
   "metadata": {},
   "source": [
    "# Decision Tree (3 of 3):\n",
    "### This model will use the top 6 features, identified by Decision Tree 1's \"Feature Importance\" table, and based on the previous results, will not incorporate PCA transformation."
   ]
  },
  {
   "cell_type": "code",
   "execution_count": 33,
   "id": "c4bf5429",
   "metadata": {},
   "outputs": [
    {
     "data": {
      "text/html": [
       "<div>\n",
       "<style scoped>\n",
       "    .dataframe tbody tr th:only-of-type {\n",
       "        vertical-align: middle;\n",
       "    }\n",
       "\n",
       "    .dataframe tbody tr th {\n",
       "        vertical-align: top;\n",
       "    }\n",
       "\n",
       "    .dataframe thead th {\n",
       "        text-align: right;\n",
       "    }\n",
       "</style>\n",
       "<table border=\"1\" class=\"dataframe\">\n",
       "  <thead>\n",
       "    <tr style=\"text-align: right;\">\n",
       "      <th></th>\n",
       "      <th>Importance</th>\n",
       "    </tr>\n",
       "  </thead>\n",
       "  <tbody>\n",
       "    <tr>\n",
       "      <th>TRB</th>\n",
       "      <td>0.234745</td>\n",
       "    </tr>\n",
       "    <tr>\n",
       "      <th>AST</th>\n",
       "      <td>0.187726</td>\n",
       "    </tr>\n",
       "    <tr>\n",
       "      <th>ORB</th>\n",
       "      <td>0.072603</td>\n",
       "    </tr>\n",
       "    <tr>\n",
       "      <th>BLK</th>\n",
       "      <td>0.044798</td>\n",
       "    </tr>\n",
       "    <tr>\n",
       "      <th>FT%</th>\n",
       "      <td>0.043533</td>\n",
       "    </tr>\n",
       "    <tr>\n",
       "      <th>PF</th>\n",
       "      <td>0.042900</td>\n",
       "    </tr>\n",
       "  </tbody>\n",
       "</table>\n",
       "</div>"
      ],
      "text/plain": [
       "     Importance\n",
       "TRB    0.234745\n",
       "AST    0.187726\n",
       "ORB    0.072603\n",
       "BLK    0.044798\n",
       "FT%    0.043533\n",
       "PF     0.042900"
      ]
     },
     "execution_count": 33,
     "metadata": {},
     "output_type": "execute_result"
    }
   ],
   "source": [
    "# First, remind ourselves what the first Decision Tree identified as the top 6 features:\n",
    "dt1_importances.head(6)"
   ]
  },
  {
   "cell_type": "markdown",
   "id": "951a595e",
   "metadata": {},
   "source": [
    "#### Now, re-run the Decision Tree model without using PCA data transformation, only using these top 6 features, as opposed to the 20 features used in the previous two models:"
   ]
  },
  {
   "cell_type": "code",
   "execution_count": 34,
   "id": "16725842",
   "metadata": {},
   "outputs": [
    {
     "data": {
      "text/html": [
       "<div>\n",
       "<style scoped>\n",
       "    .dataframe tbody tr th:only-of-type {\n",
       "        vertical-align: middle;\n",
       "    }\n",
       "\n",
       "    .dataframe tbody tr th {\n",
       "        vertical-align: top;\n",
       "    }\n",
       "\n",
       "    .dataframe thead th {\n",
       "        text-align: right;\n",
       "    }\n",
       "</style>\n",
       "<table border=\"1\" class=\"dataframe\">\n",
       "  <thead>\n",
       "    <tr style=\"text-align: right;\">\n",
       "      <th></th>\n",
       "      <th>TRB</th>\n",
       "      <th>AST</th>\n",
       "      <th>ORB</th>\n",
       "      <th>BLK</th>\n",
       "      <th>FT%</th>\n",
       "      <th>PF</th>\n",
       "      <th>Pos</th>\n",
       "    </tr>\n",
       "  </thead>\n",
       "  <tbody>\n",
       "    <tr>\n",
       "      <th>0</th>\n",
       "      <td>8.4</td>\n",
       "      <td>1.9</td>\n",
       "      <td>2.2</td>\n",
       "      <td>0.6</td>\n",
       "      <td>0.78</td>\n",
       "      <td>4.1</td>\n",
       "      <td>PF</td>\n",
       "    </tr>\n",
       "    <tr>\n",
       "      <th>2</th>\n",
       "      <td>10.6</td>\n",
       "      <td>1.3</td>\n",
       "      <td>4.0</td>\n",
       "      <td>1.7</td>\n",
       "      <td>0.50</td>\n",
       "      <td>4.5</td>\n",
       "      <td>C</td>\n",
       "    </tr>\n",
       "    <tr>\n",
       "      <th>4</th>\n",
       "      <td>3.6</td>\n",
       "      <td>1.9</td>\n",
       "      <td>0.4</td>\n",
       "      <td>0.1</td>\n",
       "      <td>0.84</td>\n",
       "      <td>2.4</td>\n",
       "      <td>SG</td>\n",
       "    </tr>\n",
       "    <tr>\n",
       "      <th>5</th>\n",
       "      <td>3.7</td>\n",
       "      <td>2.1</td>\n",
       "      <td>0.4</td>\n",
       "      <td>0.1</td>\n",
       "      <td>0.84</td>\n",
       "      <td>2.2</td>\n",
       "      <td>SG</td>\n",
       "    </tr>\n",
       "    <tr>\n",
       "      <th>10</th>\n",
       "      <td>10.4</td>\n",
       "      <td>1.8</td>\n",
       "      <td>2.5</td>\n",
       "      <td>1.0</td>\n",
       "      <td>0.84</td>\n",
       "      <td>1.8</td>\n",
       "      <td>PF</td>\n",
       "    </tr>\n",
       "  </tbody>\n",
       "</table>\n",
       "</div>"
      ],
      "text/plain": [
       "     TRB  AST  ORB  BLK   FT%   PF Pos\n",
       "0    8.4  1.9  2.2  0.6  0.78  4.1  PF\n",
       "2   10.6  1.3  4.0  1.7  0.50  4.5   C\n",
       "4    3.6  1.9  0.4  0.1  0.84  2.4  SG\n",
       "5    3.7  2.1  0.4  0.1  0.84  2.2  SG\n",
       "10  10.4  1.8  2.5  1.0  0.84  1.8  PF"
      ]
     },
     "execution_count": 34,
     "metadata": {},
     "output_type": "execute_result"
    }
   ],
   "source": [
    "# New clean dataframe:\n",
    "df_decision_tree3 = df.copy()\n",
    "df_decision_tree3 = df_decision_tree3[['TRB', 'AST', 'ORB', 'BLK', 'FT%', 'PF','Pos']]\n",
    "df_decision_tree3.head()"
   ]
  },
  {
   "cell_type": "code",
   "execution_count": 35,
   "id": "be97a22f",
   "metadata": {},
   "outputs": [],
   "source": [
    "# Set X (features) and y (target):\n",
    "X = df_decision_tree3.drop('Pos', axis=1)\n",
    "y = df_decision_tree3.loc[:, 'Pos']"
   ]
  },
  {
   "cell_type": "code",
   "execution_count": 36,
   "id": "03b26826",
   "metadata": {},
   "outputs": [
    {
     "data": {
      "text/plain": [
       "SG    607\n",
       "PG    535\n",
       "PF    530\n",
       "SF    464\n",
       "C     396\n",
       "Name: Pos, dtype: int64"
      ]
     },
     "execution_count": 36,
     "metadata": {},
     "output_type": "execute_result"
    }
   ],
   "source": [
    "# Check how many of each position in y-dataset:\n",
    "y.value_counts()"
   ]
  },
  {
   "cell_type": "code",
   "execution_count": 37,
   "id": "6510185a",
   "metadata": {},
   "outputs": [],
   "source": [
    "# Apply position_dictionary established in Decision Tree 1 to this model:\n",
    "y = y.map(position_dictionary).values.reshape(-1,1)"
   ]
  },
  {
   "cell_type": "code",
   "execution_count": 38,
   "id": "3a8a91a4",
   "metadata": {},
   "outputs": [
    {
     "name": "stdout",
     "output_type": "stream",
     "text": [
      "X_train: (1899, 6)\n",
      "y_train: (1899, 1)\n",
      "X_test: (633, 6)\n",
      "y_test: (633, 1)\n"
     ]
    }
   ],
   "source": [
    "# Split X and y into X_train, X_test, y_train, y_test and check shape of each:\n",
    "X_train, X_test, y_train, y_test = train_test_split(X, y, random_state=1, stratify=y)\n",
    "print('X_train:', X_train.shape)\n",
    "print('y_train:', y_train.shape)\n",
    "print('X_test:', X_test.shape)\n",
    "print('y_test:', y_test.shape)"
   ]
  },
  {
   "cell_type": "code",
   "execution_count": 39,
   "id": "3d996fb6",
   "metadata": {},
   "outputs": [],
   "source": [
    "# Scale X-data:\n",
    "scaler = StandardScaler()\n",
    "X_scaler = scaler.fit(X_train)\n",
    "\n",
    "X_train_scaled = X_scaler.transform(X_train)\n",
    "X_test_scaled = X_scaler.transform(X_test)"
   ]
  },
  {
   "cell_type": "code",
   "execution_count": 40,
   "id": "41aa20a1",
   "metadata": {},
   "outputs": [],
   "source": [
    "# Create, fit, and predict Decision Tree Model:\n",
    "dt3_model = tree.DecisionTreeClassifier(random_state=1)\n",
    "dt3_model = dt3_model.fit(X_train_scaled, y_train)\n",
    "predictions = dt3_model.predict(X_test_scaled)"
   ]
  },
  {
   "cell_type": "code",
   "execution_count": 41,
   "id": "16e06b3f",
   "metadata": {},
   "outputs": [
    {
     "data": {
      "text/plain": [
       "0.5671406003159558"
      ]
     },
     "execution_count": 41,
     "metadata": {},
     "output_type": "execute_result"
    }
   ],
   "source": [
    "# Print accuracy score:\n",
    "dt3_accuracy_score = accuracy_score(y_test, predictions)\n",
    "dt3_accuracy_score"
   ]
  },
  {
   "cell_type": "code",
   "execution_count": 42,
   "id": "22fcd43d",
   "metadata": {},
   "outputs": [
    {
     "data": {
      "image/png": "[encoded data removed]",
      "text/plain": [
       "<Figure size 648x504 with 2 Axes>"
      ]
     },
     "metadata": {},
     "output_type": "display_data"
    }
   ],
   "source": [
    "# Print confusion matrix using pre-defined function:\n",
    "cm3 = confusion_matrix_heatmap(y_test, predictions)"
   ]
  },
  {
   "cell_type": "markdown",
   "id": "19c0ee1e",
   "metadata": {},
   "source": [
    "#### The confusion matrix is a helpful way to visualize the model's accuracy. We can see in the above, for instance, that out of the 134 point guards included in the Testing Dataset (103+25+1+5+0), the model correctly predicted \"point guard\" 103 times. 25 times it thought the point guard was a shooting guard, 1 times it thought the point guard was a small forward, 5 time it thought the point guard was a power forward, and 0 times it thought the point guard was a center. That distribution makes sense - as the differing responsibilities of the positions increased, the model was less likely to predict that the point guard was that position."
   ]
  },
  {
   "cell_type": "code",
   "execution_count": 43,
   "id": "e6d01824",
   "metadata": {},
   "outputs": [
    {
     "name": "stdout",
     "output_type": "stream",
     "text": [
      "              precision    recall  f1-score   support\n",
      "\n",
      "          PG       0.71      0.77      0.74       134\n",
      "          SG       0.54      0.49      0.51       152\n",
      "          SF       0.39      0.40      0.39       116\n",
      "          PF       0.49      0.49      0.49       132\n",
      "           C       0.72      0.72      0.72        99\n",
      "\n",
      "    accuracy                           0.57       633\n",
      "   macro avg       0.57      0.57      0.57       633\n",
      "weighted avg       0.57      0.57      0.57       633\n",
      "\n"
     ]
    }
   ],
   "source": [
    "# Print classification report:\n",
    "dt3_class_report = classification_report(y_test, predictions, target_names = ['PG', 'SG', 'SF', 'PF', 'C'])\n",
    "print(dt3_class_report)"
   ]
  },
  {
   "cell_type": "markdown",
   "id": "7803a7a2",
   "metadata": {},
   "source": [
    "#### Compare the results of Decision Tree 3 to those of Decision Tree 1; did reducing features to the top 6 improve the model?"
   ]
  },
  {
   "cell_type": "code",
   "execution_count": 44,
   "id": "032c390c",
   "metadata": {},
   "outputs": [
    {
     "name": "stdout",
     "output_type": "stream",
     "text": [
      "Decision Tree 1 Accuracy Score (all 20 features): 0.5924170616113744. \n",
      "Decision Tree 3 Accuracy Score (top 6 features): 0.5671406003159558.\n"
     ]
    }
   ],
   "source": [
    "print(f'Decision Tree 1 Accuracy Score (all 20 features): {dt1_accuracy_score}. \\nDecision Tree 3 Accuracy Score (top 6 features): {dt3_accuracy_score}.')"
   ]
  },
  {
   "cell_type": "code",
   "execution_count": 45,
   "id": "cc6a76d1",
   "metadata": {},
   "outputs": [
    {
     "name": "stdout",
     "output_type": "stream",
     "text": [
      "DT1 Class. Report (all 20 features):               precision    recall  f1-score   support\n",
      "\n",
      "          PG       0.77      0.77      0.77       134\n",
      "          SG       0.58      0.55      0.57       152\n",
      "          SF       0.38      0.43      0.40       116\n",
      "          PF       0.52      0.49      0.51       132\n",
      "           C       0.74      0.74      0.74        99\n",
      "\n",
      "    accuracy                           0.59       633\n",
      "   macro avg       0.60      0.60      0.60       633\n",
      "weighted avg       0.60      0.59      0.59       633\n",
      ". \n",
      "DT3 Class. Report (top 6 features):               precision    recall  f1-score   support\n",
      "\n",
      "          PG       0.71      0.77      0.74       134\n",
      "          SG       0.54      0.49      0.51       152\n",
      "          SF       0.39      0.40      0.39       116\n",
      "          PF       0.49      0.49      0.49       132\n",
      "           C       0.72      0.72      0.72        99\n",
      "\n",
      "    accuracy                           0.57       633\n",
      "   macro avg       0.57      0.57      0.57       633\n",
      "weighted avg       0.57      0.57      0.57       633\n",
      ".\n"
     ]
    }
   ],
   "source": [
    "print(f'DT1 Class. Report (all 20 features): {dt1_class_report}. \\nDT3 Class. Report (top 6 features): {dt3_class_report}.')"
   ]
  },
  {
   "cell_type": "markdown",
   "id": "dfd4f0f7",
   "metadata": {},
   "source": [
    "#### Based on the above results, it appears that the model that uses all 20 features is slightly better than the one that uses only the top 6:\n",
    "- 59.2% accuracy vs. 56.7% accuracy.\n",
    "- 60% precision vs. 57% precision.\n",
    "- 60% recall vs. 57% recall.\n",
    "- 60% F1 score vs. 57% F1 score.\n",
    "\n",
    "# Final Decision Trees Conclusion:\n",
    "### After running the three Decision Tree models, I achieved a max accuracy score of 59% - this model used all 20 features and did not undergo PCA transformation of X-data. So we have one model with a 59% accuracy score - let's try some other models and see if we can get it to increase."
   ]
  },
  {
   "cell_type": "markdown",
   "id": "adbb6539",
   "metadata": {},
   "source": [
    "# Random Forest (1 of 2):\n",
    "### These models are more a bit more complex than Decision Trees and take it a step further - I expect better results. We will run each model twice - once using all 20 features, and next, using only the top 6 most important features deemed by the first model.\n",
    "### This first Random Forest model will use all features."
   ]
  },
  {
   "cell_type": "code",
   "execution_count": 46,
   "id": "7cb3d570",
   "metadata": {},
   "outputs": [
    {
     "data": {
      "text/html": [
       "<div>\n",
       "<style scoped>\n",
       "    .dataframe tbody tr th:only-of-type {\n",
       "        vertical-align: middle;\n",
       "    }\n",
       "\n",
       "    .dataframe tbody tr th {\n",
       "        vertical-align: top;\n",
       "    }\n",
       "\n",
       "    .dataframe thead th {\n",
       "        text-align: right;\n",
       "    }\n",
       "</style>\n",
       "<table border=\"1\" class=\"dataframe\">\n",
       "  <thead>\n",
       "    <tr style=\"text-align: right;\">\n",
       "      <th></th>\n",
       "      <th>PTS</th>\n",
       "      <th>TRB</th>\n",
       "      <th>ORB</th>\n",
       "      <th>AST</th>\n",
       "      <th>STL</th>\n",
       "      <th>BLK</th>\n",
       "      <th>FG</th>\n",
       "      <th>FGA</th>\n",
       "      <th>FG%</th>\n",
       "      <th>3P</th>\n",
       "      <th>3PA</th>\n",
       "      <th>3P%</th>\n",
       "      <th>2P</th>\n",
       "      <th>2PA</th>\n",
       "      <th>2P%</th>\n",
       "      <th>FT</th>\n",
       "      <th>FTA</th>\n",
       "      <th>FT%</th>\n",
       "      <th>PF</th>\n",
       "      <th>TOV</th>\n",
       "      <th>Pos</th>\n",
       "    </tr>\n",
       "  </thead>\n",
       "  <tbody>\n",
       "    <tr>\n",
       "      <th>0</th>\n",
       "      <td>11.1</td>\n",
       "      <td>8.4</td>\n",
       "      <td>2.2</td>\n",
       "      <td>1.9</td>\n",
       "      <td>0.8</td>\n",
       "      <td>0.6</td>\n",
       "      <td>4.3</td>\n",
       "      <td>9.3</td>\n",
       "      <td>0.46</td>\n",
       "      <td>0.5</td>\n",
       "      <td>1.7</td>\n",
       "      <td>0.30</td>\n",
       "      <td>3.7</td>\n",
       "      <td>7.6</td>\n",
       "      <td>0.49</td>\n",
       "      <td>2.1</td>\n",
       "      <td>2.7</td>\n",
       "      <td>0.78</td>\n",
       "      <td>4.1</td>\n",
       "      <td>1.7</td>\n",
       "      <td>PF</td>\n",
       "    </tr>\n",
       "    <tr>\n",
       "      <th>2</th>\n",
       "      <td>10.9</td>\n",
       "      <td>10.6</td>\n",
       "      <td>4.0</td>\n",
       "      <td>1.3</td>\n",
       "      <td>0.8</td>\n",
       "      <td>1.7</td>\n",
       "      <td>4.4</td>\n",
       "      <td>8.1</td>\n",
       "      <td>0.54</td>\n",
       "      <td>0.0</td>\n",
       "      <td>0.0</td>\n",
       "      <td>0.00</td>\n",
       "      <td>4.4</td>\n",
       "      <td>8.1</td>\n",
       "      <td>0.55</td>\n",
       "      <td>2.1</td>\n",
       "      <td>4.2</td>\n",
       "      <td>0.50</td>\n",
       "      <td>4.5</td>\n",
       "      <td>2.0</td>\n",
       "      <td>C</td>\n",
       "    </tr>\n",
       "    <tr>\n",
       "      <th>4</th>\n",
       "      <td>14.9</td>\n",
       "      <td>3.6</td>\n",
       "      <td>0.4</td>\n",
       "      <td>1.9</td>\n",
       "      <td>0.6</td>\n",
       "      <td>0.1</td>\n",
       "      <td>5.4</td>\n",
       "      <td>12.7</td>\n",
       "      <td>0.42</td>\n",
       "      <td>1.7</td>\n",
       "      <td>4.8</td>\n",
       "      <td>0.35</td>\n",
       "      <td>3.7</td>\n",
       "      <td>7.9</td>\n",
       "      <td>0.47</td>\n",
       "      <td>2.4</td>\n",
       "      <td>2.8</td>\n",
       "      <td>0.84</td>\n",
       "      <td>2.4</td>\n",
       "      <td>1.7</td>\n",
       "      <td>SG</td>\n",
       "    </tr>\n",
       "    <tr>\n",
       "      <th>5</th>\n",
       "      <td>15.9</td>\n",
       "      <td>3.7</td>\n",
       "      <td>0.4</td>\n",
       "      <td>2.1</td>\n",
       "      <td>0.7</td>\n",
       "      <td>0.1</td>\n",
       "      <td>5.8</td>\n",
       "      <td>13.5</td>\n",
       "      <td>0.43</td>\n",
       "      <td>1.7</td>\n",
       "      <td>5.0</td>\n",
       "      <td>0.34</td>\n",
       "      <td>4.1</td>\n",
       "      <td>8.5</td>\n",
       "      <td>0.48</td>\n",
       "      <td>2.6</td>\n",
       "      <td>3.1</td>\n",
       "      <td>0.84</td>\n",
       "      <td>2.2</td>\n",
       "      <td>1.7</td>\n",
       "      <td>SG</td>\n",
       "    </tr>\n",
       "    <tr>\n",
       "      <th>10</th>\n",
       "      <td>23.8</td>\n",
       "      <td>10.4</td>\n",
       "      <td>2.5</td>\n",
       "      <td>1.8</td>\n",
       "      <td>0.7</td>\n",
       "      <td>1.0</td>\n",
       "      <td>9.4</td>\n",
       "      <td>20.3</td>\n",
       "      <td>0.47</td>\n",
       "      <td>0.5</td>\n",
       "      <td>1.5</td>\n",
       "      <td>0.35</td>\n",
       "      <td>8.9</td>\n",
       "      <td>18.8</td>\n",
       "      <td>0.48</td>\n",
       "      <td>4.4</td>\n",
       "      <td>5.2</td>\n",
       "      <td>0.84</td>\n",
       "      <td>1.8</td>\n",
       "      <td>1.7</td>\n",
       "      <td>PF</td>\n",
       "    </tr>\n",
       "  </tbody>\n",
       "</table>\n",
       "</div>"
      ],
      "text/plain": [
       "     PTS   TRB  ORB  AST  STL  BLK   FG   FGA   FG%   3P  3PA   3P%   2P  \\\n",
       "0   11.1   8.4  2.2  1.9  0.8  0.6  4.3   9.3  0.46  0.5  1.7  0.30  3.7   \n",
       "2   10.9  10.6  4.0  1.3  0.8  1.7  4.4   8.1  0.54  0.0  0.0  0.00  4.4   \n",
       "4   14.9   3.6  0.4  1.9  0.6  0.1  5.4  12.7  0.42  1.7  4.8  0.35  3.7   \n",
       "5   15.9   3.7  0.4  2.1  0.7  0.1  5.8  13.5  0.43  1.7  5.0  0.34  4.1   \n",
       "10  23.8  10.4  2.5  1.8  0.7  1.0  9.4  20.3  0.47  0.5  1.5  0.35  8.9   \n",
       "\n",
       "     2PA   2P%   FT  FTA   FT%   PF  TOV Pos  \n",
       "0    7.6  0.49  2.1  2.7  0.78  4.1  1.7  PF  \n",
       "2    8.1  0.55  2.1  4.2  0.50  4.5  2.0   C  \n",
       "4    7.9  0.47  2.4  2.8  0.84  2.4  1.7  SG  \n",
       "5    8.5  0.48  2.6  3.1  0.84  2.2  1.7  SG  \n",
       "10  18.8  0.48  4.4  5.2  0.84  1.8  1.7  PF  "
      ]
     },
     "execution_count": 46,
     "metadata": {},
     "output_type": "execute_result"
    }
   ],
   "source": [
    "# New clean dataframe:\n",
    "df1_randomforest = df_decision_tree1.copy()\n",
    "df1_randomforest.head()"
   ]
  },
  {
   "cell_type": "code",
   "execution_count": 47,
   "id": "f201f78d",
   "metadata": {},
   "outputs": [],
   "source": [
    "# Set X (features) and y (target):\n",
    "X = df1_randomforest.drop('Pos', axis=1)\n",
    "y = df1_randomforest.loc[:, 'Pos']"
   ]
  },
  {
   "cell_type": "code",
   "execution_count": 48,
   "id": "b1178762",
   "metadata": {},
   "outputs": [
    {
     "data": {
      "text/plain": [
       "SG    607\n",
       "PG    535\n",
       "PF    530\n",
       "SF    464\n",
       "C     396\n",
       "Name: Pos, dtype: int64"
      ]
     },
     "execution_count": 48,
     "metadata": {},
     "output_type": "execute_result"
    }
   ],
   "source": [
    "# Check how many of each position in y-dataset:\n",
    "y.value_counts()"
   ]
  },
  {
   "cell_type": "code",
   "execution_count": 49,
   "id": "8c58d3f4",
   "metadata": {},
   "outputs": [],
   "source": [
    "# Apply position_dictionary established in Decision Tree 1 to this model:\n",
    "y = y.map(position_dictionary).values.reshape(-1,1)"
   ]
  },
  {
   "cell_type": "code",
   "execution_count": 50,
   "id": "89c8364c",
   "metadata": {},
   "outputs": [
    {
     "name": "stdout",
     "output_type": "stream",
     "text": [
      "X_train: (1899, 20)\n",
      "y_train: (1899, 1)\n",
      "X_test: (633, 20)\n",
      "y_test: (633, 1)\n"
     ]
    }
   ],
   "source": [
    "# Split the X and y into X_train, X_test, y_train, y_test and check shape of each:\n",
    "X_train, X_test, y_train, y_test = train_test_split(X, y, random_state=1, stratify=y)\n",
    "print('X_train:', X_train.shape)\n",
    "print('y_train:', y_train.shape)\n",
    "print('X_test:', X_test.shape)\n",
    "print('y_test:', y_test.shape)"
   ]
  },
  {
   "cell_type": "code",
   "execution_count": 51,
   "id": "76853dcd",
   "metadata": {},
   "outputs": [],
   "source": [
    "# Scale X-data:\n",
    "scaler = StandardScaler()\n",
    "X_scaler = scaler.fit(X_train)\n",
    "\n",
    "X_train_scaled = X_scaler.transform(X_train)\n",
    "X_test_scaled = X_scaler.transform(X_test)"
   ]
  },
  {
   "cell_type": "code",
   "execution_count": 52,
   "id": "eebf57b5",
   "metadata": {},
   "outputs": [],
   "source": [
    "# Create, fit, and predict Random Forest Model:\n",
    "rf1_model = RandomForestClassifier(n_estimators=500, random_state=1)\n",
    "rf1_model = rf1_model.fit(X_train_scaled, y_train)\n",
    "predictions = rf1_model.predict(X_test_scaled)"
   ]
  },
  {
   "cell_type": "code",
   "execution_count": 53,
   "id": "f5d17393",
   "metadata": {},
   "outputs": [
    {
     "data": {
      "text/plain": [
       "0.6919431279620853"
      ]
     },
     "execution_count": 53,
     "metadata": {},
     "output_type": "execute_result"
    }
   ],
   "source": [
    "rf1_accuracy_score = accuracy_score(y_test, predictions)\n",
    "rf1_accuracy_score"
   ]
  },
  {
   "cell_type": "code",
   "execution_count": 54,
   "id": "f9ad0753",
   "metadata": {},
   "outputs": [
    {
     "data": {
      "image/png": "[encoded data removed]",
      "text/plain": [
       "<Figure size 648x504 with 2 Axes>"
      ]
     },
     "metadata": {},
     "output_type": "display_data"
    }
   ],
   "source": [
    "# Print confusion matrix using pre-defined function:\n",
    "cm4 = confusion_matrix_heatmap(y_test, predictions)"
   ]
  },
  {
   "cell_type": "markdown",
   "id": "429e999b",
   "metadata": {},
   "source": [
    "#### The confusion matrix is a helpful way to visualize the model's accuracy. We can see in the above, for instance, that out of the 134 point guards included in the Testing Dataset (119+13+0+2+0), the model correctly predicted \"point guard\" 119 times. 13 times it thought the point guard was a shooting guard, 0 times it thought the point guard was a small forward, 2 times it thought the point guard was a power forward, and 0 times it thought the point guard was a center. That distribution makes sense - as the differing responsibilities of the positions increased, the model was less likely to predict that the point guard was that position."
   ]
  },
  {
   "cell_type": "code",
   "execution_count": 55,
   "id": "576e3856",
   "metadata": {},
   "outputs": [
    {
     "name": "stdout",
     "output_type": "stream",
     "text": [
      "              precision    recall  f1-score   support\n",
      "\n",
      "          PG       0.81      0.89      0.85       134\n",
      "          SG       0.68      0.68      0.68       152\n",
      "          SF       0.54      0.47      0.51       116\n",
      "          PF       0.60      0.61      0.61       132\n",
      "           C       0.81      0.81      0.81        99\n",
      "\n",
      "    accuracy                           0.69       633\n",
      "   macro avg       0.69      0.69      0.69       633\n",
      "weighted avg       0.69      0.69      0.69       633\n",
      "\n"
     ]
    }
   ],
   "source": [
    "# Print classification report:\n",
    "rf1_class_report = classification_report(y_test, predictions, target_names = ['PG', 'SG', 'SF', 'PF', 'C'])\n",
    "print(rf1_class_report)"
   ]
  },
  {
   "cell_type": "code",
   "execution_count": 56,
   "id": "9bdc8f01",
   "metadata": {},
   "outputs": [
    {
     "data": {
      "text/html": [
       "<div>\n",
       "<style scoped>\n",
       "    .dataframe tbody tr th:only-of-type {\n",
       "        vertical-align: middle;\n",
       "    }\n",
       "\n",
       "    .dataframe tbody tr th {\n",
       "        vertical-align: top;\n",
       "    }\n",
       "\n",
       "    .dataframe thead th {\n",
       "        text-align: right;\n",
       "    }\n",
       "</style>\n",
       "<table border=\"1\" class=\"dataframe\">\n",
       "  <thead>\n",
       "    <tr style=\"text-align: right;\">\n",
       "      <th></th>\n",
       "      <th>Importance</th>\n",
       "    </tr>\n",
       "  </thead>\n",
       "  <tbody>\n",
       "    <tr>\n",
       "      <th>TRB</th>\n",
       "      <td>0.141277</td>\n",
       "    </tr>\n",
       "    <tr>\n",
       "      <th>AST</th>\n",
       "      <td>0.139954</td>\n",
       "    </tr>\n",
       "    <tr>\n",
       "      <th>ORB</th>\n",
       "      <td>0.086776</td>\n",
       "    </tr>\n",
       "    <tr>\n",
       "      <th>BLK</th>\n",
       "      <td>0.062695</td>\n",
       "    </tr>\n",
       "    <tr>\n",
       "      <th>3PA</th>\n",
       "      <td>0.047591</td>\n",
       "    </tr>\n",
       "    <tr>\n",
       "      <th>TOV</th>\n",
       "      <td>0.045068</td>\n",
       "    </tr>\n",
       "    <tr>\n",
       "      <th>STL</th>\n",
       "      <td>0.043079</td>\n",
       "    </tr>\n",
       "    <tr>\n",
       "      <th>FG%</th>\n",
       "      <td>0.039754</td>\n",
       "    </tr>\n",
       "    <tr>\n",
       "      <th>3P</th>\n",
       "      <td>0.038491</td>\n",
       "    </tr>\n",
       "    <tr>\n",
       "      <th>2P%</th>\n",
       "      <td>0.036157</td>\n",
       "    </tr>\n",
       "    <tr>\n",
       "      <th>PF</th>\n",
       "      <td>0.035638</td>\n",
       "    </tr>\n",
       "    <tr>\n",
       "      <th>2PA</th>\n",
       "      <td>0.035061</td>\n",
       "    </tr>\n",
       "    <tr>\n",
       "      <th>FGA</th>\n",
       "      <td>0.033519</td>\n",
       "    </tr>\n",
       "    <tr>\n",
       "      <th>2P</th>\n",
       "      <td>0.032528</td>\n",
       "    </tr>\n",
       "    <tr>\n",
       "      <th>PTS</th>\n",
       "      <td>0.031837</td>\n",
       "    </tr>\n",
       "    <tr>\n",
       "      <th>FT%</th>\n",
       "      <td>0.030454</td>\n",
       "    </tr>\n",
       "    <tr>\n",
       "      <th>FG</th>\n",
       "      <td>0.030298</td>\n",
       "    </tr>\n",
       "    <tr>\n",
       "      <th>FTA</th>\n",
       "      <td>0.030078</td>\n",
       "    </tr>\n",
       "    <tr>\n",
       "      <th>3P%</th>\n",
       "      <td>0.030038</td>\n",
       "    </tr>\n",
       "    <tr>\n",
       "      <th>FT</th>\n",
       "      <td>0.029708</td>\n",
       "    </tr>\n",
       "  </tbody>\n",
       "</table>\n",
       "</div>"
      ],
      "text/plain": [
       "     Importance\n",
       "TRB    0.141277\n",
       "AST    0.139954\n",
       "ORB    0.086776\n",
       "BLK    0.062695\n",
       "3PA    0.047591\n",
       "TOV    0.045068\n",
       "STL    0.043079\n",
       "FG%    0.039754\n",
       "3P     0.038491\n",
       "2P%    0.036157\n",
       "PF     0.035638\n",
       "2PA    0.035061\n",
       "FGA    0.033519\n",
       "2P     0.032528\n",
       "PTS    0.031837\n",
       "FT%    0.030454\n",
       "FG     0.030298\n",
       "FTA    0.030078\n",
       "3P%    0.030038\n",
       "FT     0.029708"
      ]
     },
     "execution_count": 56,
     "metadata": {},
     "output_type": "execute_result"
    }
   ],
   "source": [
    "# List features ordered by feature importance:\n",
    "rf1_importances = pd.DataFrame(rf1_model.feature_importances_, index = X_train.columns, columns=['Importance']).sort_values('Importance', ascending=False)\n",
    "rf1_importances"
   ]
  },
  {
   "cell_type": "markdown",
   "id": "918e6a13",
   "metadata": {},
   "source": [
    "#### We can see that Random Forest 1 deemed TRB, AST, ORB, BLK, 3PA, and TOV to be the most important features that help the model predict positions. It deemed PTS, FT%, FG, FTA, 3P% and FT to be the least important features. This makes sense - the categories in which average stats differ greatly position-by-position (like TRB and AST) the model deems to be important, while categories in which average stats do not differ greatly position-by-position (like FG and FT) the model deems to be unhelpful toward making predictions."
   ]
  },
  {
   "cell_type": "markdown",
   "id": "2c66a8d6",
   "metadata": {},
   "source": [
    "# Random Forest (2 of 2):\n",
    "### This model will use the top 6 features, identified by Random Forest 1's \"Feature Importance\" table, rather than all 20 features."
   ]
  },
  {
   "cell_type": "code",
   "execution_count": 57,
   "id": "0e29681d",
   "metadata": {},
   "outputs": [
    {
     "data": {
      "text/html": [
       "<div>\n",
       "<style scoped>\n",
       "    .dataframe tbody tr th:only-of-type {\n",
       "        vertical-align: middle;\n",
       "    }\n",
       "\n",
       "    .dataframe tbody tr th {\n",
       "        vertical-align: top;\n",
       "    }\n",
       "\n",
       "    .dataframe thead th {\n",
       "        text-align: right;\n",
       "    }\n",
       "</style>\n",
       "<table border=\"1\" class=\"dataframe\">\n",
       "  <thead>\n",
       "    <tr style=\"text-align: right;\">\n",
       "      <th></th>\n",
       "      <th>TRB</th>\n",
       "      <th>AST</th>\n",
       "      <th>ORB</th>\n",
       "      <th>BLK</th>\n",
       "      <th>3PA</th>\n",
       "      <th>TOV</th>\n",
       "      <th>Pos</th>\n",
       "    </tr>\n",
       "  </thead>\n",
       "  <tbody>\n",
       "    <tr>\n",
       "      <th>0</th>\n",
       "      <td>8.4</td>\n",
       "      <td>1.9</td>\n",
       "      <td>2.2</td>\n",
       "      <td>0.6</td>\n",
       "      <td>1.7</td>\n",
       "      <td>1.7</td>\n",
       "      <td>PF</td>\n",
       "    </tr>\n",
       "    <tr>\n",
       "      <th>2</th>\n",
       "      <td>10.6</td>\n",
       "      <td>1.3</td>\n",
       "      <td>4.0</td>\n",
       "      <td>1.7</td>\n",
       "      <td>0.0</td>\n",
       "      <td>2.0</td>\n",
       "      <td>C</td>\n",
       "    </tr>\n",
       "    <tr>\n",
       "      <th>4</th>\n",
       "      <td>3.6</td>\n",
       "      <td>1.9</td>\n",
       "      <td>0.4</td>\n",
       "      <td>0.1</td>\n",
       "      <td>4.8</td>\n",
       "      <td>1.7</td>\n",
       "      <td>SG</td>\n",
       "    </tr>\n",
       "    <tr>\n",
       "      <th>5</th>\n",
       "      <td>3.7</td>\n",
       "      <td>2.1</td>\n",
       "      <td>0.4</td>\n",
       "      <td>0.1</td>\n",
       "      <td>5.0</td>\n",
       "      <td>1.7</td>\n",
       "      <td>SG</td>\n",
       "    </tr>\n",
       "    <tr>\n",
       "      <th>10</th>\n",
       "      <td>10.4</td>\n",
       "      <td>1.8</td>\n",
       "      <td>2.5</td>\n",
       "      <td>1.0</td>\n",
       "      <td>1.5</td>\n",
       "      <td>1.7</td>\n",
       "      <td>PF</td>\n",
       "    </tr>\n",
       "  </tbody>\n",
       "</table>\n",
       "</div>"
      ],
      "text/plain": [
       "     TRB  AST  ORB  BLK  3PA  TOV Pos\n",
       "0    8.4  1.9  2.2  0.6  1.7  1.7  PF\n",
       "2   10.6  1.3  4.0  1.7  0.0  2.0   C\n",
       "4    3.6  1.9  0.4  0.1  4.8  1.7  SG\n",
       "5    3.7  2.1  0.4  0.1  5.0  1.7  SG\n",
       "10  10.4  1.8  2.5  1.0  1.5  1.7  PF"
      ]
     },
     "execution_count": 57,
     "metadata": {},
     "output_type": "execute_result"
    }
   ],
   "source": [
    "# New clean dataframe:\n",
    "df2_randomforest = df_decision_tree1.copy()\n",
    "df2_randomforest = df2_randomforest[['TRB', 'AST', 'ORB', 'BLK', '3PA', 'TOV', 'Pos']]\n",
    "df2_randomforest.head()"
   ]
  },
  {
   "cell_type": "code",
   "execution_count": 58,
   "id": "2ec44ac1",
   "metadata": {},
   "outputs": [],
   "source": [
    "# Set X (features) and y (target):\n",
    "X = df2_randomforest.drop('Pos', axis=1)\n",
    "y = df2_randomforest.loc[:, 'Pos']"
   ]
  },
  {
   "cell_type": "code",
   "execution_count": 59,
   "id": "f09ba3df",
   "metadata": {},
   "outputs": [
    {
     "data": {
      "text/plain": [
       "SG    607\n",
       "PG    535\n",
       "PF    530\n",
       "SF    464\n",
       "C     396\n",
       "Name: Pos, dtype: int64"
      ]
     },
     "execution_count": 59,
     "metadata": {},
     "output_type": "execute_result"
    }
   ],
   "source": [
    "# Check how many of each position in y-dataset:\n",
    "y.value_counts()"
   ]
  },
  {
   "cell_type": "code",
   "execution_count": 60,
   "id": "4fbfd0f8",
   "metadata": {},
   "outputs": [],
   "source": [
    "# Apply position_dictionary established in Decision Tree 1 to this model:\n",
    "y = y.map(position_dictionary).values.reshape(-1,1)"
   ]
  },
  {
   "cell_type": "code",
   "execution_count": 61,
   "id": "21b32cea",
   "metadata": {},
   "outputs": [
    {
     "name": "stdout",
     "output_type": "stream",
     "text": [
      "X_train: (1899, 6)\n",
      "y_train: (1899, 1)\n",
      "X_test: (633, 6)\n",
      "y_test: (633, 1)\n"
     ]
    }
   ],
   "source": [
    "# Split X and y into X_train, X_test, y_train, y_test and check shape of each:\n",
    "X_train, X_test, y_train, y_test = train_test_split(X, y, random_state=1, stratify=y)\n",
    "print('X_train:', X_train.shape)\n",
    "print('y_train:', y_train.shape)\n",
    "print('X_test:', X_test.shape)\n",
    "print('y_test:', y_test.shape)"
   ]
  },
  {
   "cell_type": "code",
   "execution_count": 62,
   "id": "98be8d43",
   "metadata": {},
   "outputs": [],
   "source": [
    "# Scale X-data:\n",
    "scaler = StandardScaler()\n",
    "X_scaler = scaler.fit(X_train)\n",
    "\n",
    "X_train_scaled = X_scaler.transform(X_train)\n",
    "X_test_scaled = X_scaler.transform(X_test)"
   ]
  },
  {
   "cell_type": "code",
   "execution_count": 63,
   "id": "2a8f9cc4",
   "metadata": {},
   "outputs": [],
   "source": [
    "# Create, fit, and predict Random Forest 2 Model:\n",
    "rf2_model = RandomForestClassifier(n_estimators=500, random_state=1)\n",
    "rf2_model = rf2_model.fit(X_train_scaled, y_train)\n",
    "predictions = rf2_model.predict(X_test_scaled)"
   ]
  },
  {
   "cell_type": "code",
   "execution_count": 64,
   "id": "0bdd4c06",
   "metadata": {},
   "outputs": [
    {
     "data": {
      "text/plain": [
       "0.6619273301737757"
      ]
     },
     "execution_count": 64,
     "metadata": {},
     "output_type": "execute_result"
    }
   ],
   "source": [
    "# Print accuracy score:\n",
    "rf2_accuracy_score = accuracy_score(y_test, predictions)\n",
    "rf2_accuracy_score"
   ]
  },
  {
   "cell_type": "code",
   "execution_count": 65,
   "id": "e279eb03",
   "metadata": {},
   "outputs": [
    {
     "data": {
      "image/png": "[encoded data removed]",
      "text/plain": [
       "<Figure size 648x504 with 2 Axes>"
      ]
     },
     "metadata": {},
     "output_type": "display_data"
    }
   ],
   "source": [
    "# Print confusion matrix using pre-defined function:\n",
    "cm5 = confusion_matrix_heatmap(y_test, predictions)"
   ]
  },
  {
   "cell_type": "markdown",
   "id": "0feb7098",
   "metadata": {},
   "source": [
    "#### The confusion matrix is a helpful way to visualize the model's accuracy. We can see in the above, for instance, that out of the 134 point guards included in the Testing Dataset (113+18+2+1+0), the model correctly predicted \"point guard\" 113 times. 18 times it thought the point guard was a shooting guard, 2 times it thought the point guard was a small forward, 1 time it thought the point guard was a power forward, and 0 times it thought the point guard was a center. That distribution makes sense - as the differing responsibilities of the positions increased, the model was less likely to predict that the point guard was that position."
   ]
  },
  {
   "cell_type": "code",
   "execution_count": 66,
   "id": "f7402549",
   "metadata": {},
   "outputs": [
    {
     "name": "stdout",
     "output_type": "stream",
     "text": [
      "              precision    recall  f1-score   support\n",
      "\n",
      "          PG       0.81      0.84      0.83       134\n",
      "          SG       0.65      0.66      0.66       152\n",
      "          SF       0.47      0.47      0.47       116\n",
      "          PF       0.57      0.57      0.57       132\n",
      "           C       0.81      0.77      0.79        99\n",
      "\n",
      "    accuracy                           0.66       633\n",
      "   macro avg       0.66      0.66      0.66       633\n",
      "weighted avg       0.66      0.66      0.66       633\n",
      "\n"
     ]
    }
   ],
   "source": [
    "# Print classification report:\n",
    "rf2_class_report = classification_report(y_test, predictions, target_names = ['PG', 'SG', 'SF', 'PF', 'C'])\n",
    "print(rf2_class_report)"
   ]
  },
  {
   "cell_type": "markdown",
   "id": "84d8e54f",
   "metadata": {},
   "source": [
    "### Compare the results of Random Forest 1 to those of Random Forest 2; did reducing features to the top 6 improve the model?"
   ]
  },
  {
   "cell_type": "code",
   "execution_count": 67,
   "id": "6f3d67d0",
   "metadata": {},
   "outputs": [
    {
     "name": "stdout",
     "output_type": "stream",
     "text": [
      "Random Forest 1 Accuracy Score (all 20 features): 0.6919431279620853. \n",
      "Random Forest 2 Accuracy Score (top 6 features): 0.6619273301737757.\n"
     ]
    }
   ],
   "source": [
    "print(f'Random Forest 1 Accuracy Score (all 20 features): {rf1_accuracy_score}. \\nRandom Forest 2 Accuracy Score (top 6 features): {rf2_accuracy_score}.')"
   ]
  },
  {
   "cell_type": "code",
   "execution_count": 68,
   "id": "04b61fd0",
   "metadata": {},
   "outputs": [
    {
     "name": "stdout",
     "output_type": "stream",
     "text": [
      "RF1 Class. Report (all 20 features):               precision    recall  f1-score   support\n",
      "\n",
      "          PG       0.81      0.89      0.85       134\n",
      "          SG       0.68      0.68      0.68       152\n",
      "          SF       0.54      0.47      0.51       116\n",
      "          PF       0.60      0.61      0.61       132\n",
      "           C       0.81      0.81      0.81        99\n",
      "\n",
      "    accuracy                           0.69       633\n",
      "   macro avg       0.69      0.69      0.69       633\n",
      "weighted avg       0.69      0.69      0.69       633\n",
      ". \n",
      "RF2 Class. Report (top 6 features):               precision    recall  f1-score   support\n",
      "\n",
      "          PG       0.81      0.84      0.83       134\n",
      "          SG       0.65      0.66      0.66       152\n",
      "          SF       0.47      0.47      0.47       116\n",
      "          PF       0.57      0.57      0.57       132\n",
      "           C       0.81      0.77      0.79        99\n",
      "\n",
      "    accuracy                           0.66       633\n",
      "   macro avg       0.66      0.66      0.66       633\n",
      "weighted avg       0.66      0.66      0.66       633\n",
      ".\n"
     ]
    }
   ],
   "source": [
    "print(f'RF1 Class. Report (all 20 features): {rf1_class_report}. \\nRF2 Class. Report (top 6 features): {rf2_class_report}.')"
   ]
  },
  {
   "cell_type": "markdown",
   "id": "a24e2ca0",
   "metadata": {},
   "source": [
    "#### Based on the above results, it appears that the model that uses all 20 features is better than the one that uses only the top 6:\n",
    "- 69.2% accuracy vs. 66.2% accuracy.\n",
    "- 69% precision vs. 66% precision.\n",
    "- 69% recall vs. 66% recall.\n",
    "- 69% F1 score vs. 66% F1 score.\n",
    "\n",
    "# Final Random Forest Conclusion:\n",
    "### After running the two Random Forest models, I achieved a max accuracy score of 69% - this model used all 20 features. This is a marked improvement from the best Decision Tree accuracy score of 59%. Let's continue with some different models and see how those affect the model's performance."
   ]
  },
  {
   "cell_type": "markdown",
   "id": "958c3f08",
   "metadata": {},
   "source": [
    "# Support Vector Machine Model (SVM) (1 of 2):\n",
    "### We will run each model twice - once using all 20 features, and next, using only the top 6 most important features deemed by the first model.\n",
    "### This first SVM model will use all features."
   ]
  },
  {
   "cell_type": "code",
   "execution_count": 69,
   "id": "7ba893e2",
   "metadata": {},
   "outputs": [
    {
     "data": {
      "text/html": [
       "<div>\n",
       "<style scoped>\n",
       "    .dataframe tbody tr th:only-of-type {\n",
       "        vertical-align: middle;\n",
       "    }\n",
       "\n",
       "    .dataframe tbody tr th {\n",
       "        vertical-align: top;\n",
       "    }\n",
       "\n",
       "    .dataframe thead th {\n",
       "        text-align: right;\n",
       "    }\n",
       "</style>\n",
       "<table border=\"1\" class=\"dataframe\">\n",
       "  <thead>\n",
       "    <tr style=\"text-align: right;\">\n",
       "      <th></th>\n",
       "      <th>PTS</th>\n",
       "      <th>TRB</th>\n",
       "      <th>ORB</th>\n",
       "      <th>AST</th>\n",
       "      <th>STL</th>\n",
       "      <th>BLK</th>\n",
       "      <th>FG</th>\n",
       "      <th>FGA</th>\n",
       "      <th>FG%</th>\n",
       "      <th>3P</th>\n",
       "      <th>3PA</th>\n",
       "      <th>3P%</th>\n",
       "      <th>2P</th>\n",
       "      <th>2PA</th>\n",
       "      <th>2P%</th>\n",
       "      <th>FT</th>\n",
       "      <th>FTA</th>\n",
       "      <th>FT%</th>\n",
       "      <th>PF</th>\n",
       "      <th>TOV</th>\n",
       "      <th>Pos</th>\n",
       "    </tr>\n",
       "  </thead>\n",
       "  <tbody>\n",
       "    <tr>\n",
       "      <th>0</th>\n",
       "      <td>11.1</td>\n",
       "      <td>8.4</td>\n",
       "      <td>2.2</td>\n",
       "      <td>1.9</td>\n",
       "      <td>0.8</td>\n",
       "      <td>0.6</td>\n",
       "      <td>4.3</td>\n",
       "      <td>9.3</td>\n",
       "      <td>0.46</td>\n",
       "      <td>0.5</td>\n",
       "      <td>1.7</td>\n",
       "      <td>0.30</td>\n",
       "      <td>3.7</td>\n",
       "      <td>7.6</td>\n",
       "      <td>0.49</td>\n",
       "      <td>2.1</td>\n",
       "      <td>2.7</td>\n",
       "      <td>0.78</td>\n",
       "      <td>4.1</td>\n",
       "      <td>1.7</td>\n",
       "      <td>PF</td>\n",
       "    </tr>\n",
       "    <tr>\n",
       "      <th>2</th>\n",
       "      <td>10.9</td>\n",
       "      <td>10.6</td>\n",
       "      <td>4.0</td>\n",
       "      <td>1.3</td>\n",
       "      <td>0.8</td>\n",
       "      <td>1.7</td>\n",
       "      <td>4.4</td>\n",
       "      <td>8.1</td>\n",
       "      <td>0.54</td>\n",
       "      <td>0.0</td>\n",
       "      <td>0.0</td>\n",
       "      <td>0.00</td>\n",
       "      <td>4.4</td>\n",
       "      <td>8.1</td>\n",
       "      <td>0.55</td>\n",
       "      <td>2.1</td>\n",
       "      <td>4.2</td>\n",
       "      <td>0.50</td>\n",
       "      <td>4.5</td>\n",
       "      <td>2.0</td>\n",
       "      <td>C</td>\n",
       "    </tr>\n",
       "    <tr>\n",
       "      <th>4</th>\n",
       "      <td>14.9</td>\n",
       "      <td>3.6</td>\n",
       "      <td>0.4</td>\n",
       "      <td>1.9</td>\n",
       "      <td>0.6</td>\n",
       "      <td>0.1</td>\n",
       "      <td>5.4</td>\n",
       "      <td>12.7</td>\n",
       "      <td>0.42</td>\n",
       "      <td>1.7</td>\n",
       "      <td>4.8</td>\n",
       "      <td>0.35</td>\n",
       "      <td>3.7</td>\n",
       "      <td>7.9</td>\n",
       "      <td>0.47</td>\n",
       "      <td>2.4</td>\n",
       "      <td>2.8</td>\n",
       "      <td>0.84</td>\n",
       "      <td>2.4</td>\n",
       "      <td>1.7</td>\n",
       "      <td>SG</td>\n",
       "    </tr>\n",
       "    <tr>\n",
       "      <th>5</th>\n",
       "      <td>15.9</td>\n",
       "      <td>3.7</td>\n",
       "      <td>0.4</td>\n",
       "      <td>2.1</td>\n",
       "      <td>0.7</td>\n",
       "      <td>0.1</td>\n",
       "      <td>5.8</td>\n",
       "      <td>13.5</td>\n",
       "      <td>0.43</td>\n",
       "      <td>1.7</td>\n",
       "      <td>5.0</td>\n",
       "      <td>0.34</td>\n",
       "      <td>4.1</td>\n",
       "      <td>8.5</td>\n",
       "      <td>0.48</td>\n",
       "      <td>2.6</td>\n",
       "      <td>3.1</td>\n",
       "      <td>0.84</td>\n",
       "      <td>2.2</td>\n",
       "      <td>1.7</td>\n",
       "      <td>SG</td>\n",
       "    </tr>\n",
       "    <tr>\n",
       "      <th>10</th>\n",
       "      <td>23.8</td>\n",
       "      <td>10.4</td>\n",
       "      <td>2.5</td>\n",
       "      <td>1.8</td>\n",
       "      <td>0.7</td>\n",
       "      <td>1.0</td>\n",
       "      <td>9.4</td>\n",
       "      <td>20.3</td>\n",
       "      <td>0.47</td>\n",
       "      <td>0.5</td>\n",
       "      <td>1.5</td>\n",
       "      <td>0.35</td>\n",
       "      <td>8.9</td>\n",
       "      <td>18.8</td>\n",
       "      <td>0.48</td>\n",
       "      <td>4.4</td>\n",
       "      <td>5.2</td>\n",
       "      <td>0.84</td>\n",
       "      <td>1.8</td>\n",
       "      <td>1.7</td>\n",
       "      <td>PF</td>\n",
       "    </tr>\n",
       "  </tbody>\n",
       "</table>\n",
       "</div>"
      ],
      "text/plain": [
       "     PTS   TRB  ORB  AST  STL  BLK   FG   FGA   FG%   3P  3PA   3P%   2P  \\\n",
       "0   11.1   8.4  2.2  1.9  0.8  0.6  4.3   9.3  0.46  0.5  1.7  0.30  3.7   \n",
       "2   10.9  10.6  4.0  1.3  0.8  1.7  4.4   8.1  0.54  0.0  0.0  0.00  4.4   \n",
       "4   14.9   3.6  0.4  1.9  0.6  0.1  5.4  12.7  0.42  1.7  4.8  0.35  3.7   \n",
       "5   15.9   3.7  0.4  2.1  0.7  0.1  5.8  13.5  0.43  1.7  5.0  0.34  4.1   \n",
       "10  23.8  10.4  2.5  1.8  0.7  1.0  9.4  20.3  0.47  0.5  1.5  0.35  8.9   \n",
       "\n",
       "     2PA   2P%   FT  FTA   FT%   PF  TOV Pos  \n",
       "0    7.6  0.49  2.1  2.7  0.78  4.1  1.7  PF  \n",
       "2    8.1  0.55  2.1  4.2  0.50  4.5  2.0   C  \n",
       "4    7.9  0.47  2.4  2.8  0.84  2.4  1.7  SG  \n",
       "5    8.5  0.48  2.6  3.1  0.84  2.2  1.7  SG  \n",
       "10  18.8  0.48  4.4  5.2  0.84  1.8  1.7  PF  "
      ]
     },
     "execution_count": 69,
     "metadata": {},
     "output_type": "execute_result"
    }
   ],
   "source": [
    "# New clean dataframe:\n",
    "df1_svm1 = df_decision_tree1.copy()\n",
    "df1_svm1.head()"
   ]
  },
  {
   "cell_type": "code",
   "execution_count": 70,
   "id": "31342564",
   "metadata": {},
   "outputs": [],
   "source": [
    "# Set X (features) and y (target):\n",
    "X = df1_svm1.drop('Pos', axis=1)\n",
    "y = df1_svm1.loc[:, 'Pos']"
   ]
  },
  {
   "cell_type": "code",
   "execution_count": 71,
   "id": "f6c817da",
   "metadata": {},
   "outputs": [
    {
     "data": {
      "text/plain": [
       "SG    607\n",
       "PG    535\n",
       "PF    530\n",
       "SF    464\n",
       "C     396\n",
       "Name: Pos, dtype: int64"
      ]
     },
     "execution_count": 71,
     "metadata": {},
     "output_type": "execute_result"
    }
   ],
   "source": [
    "# Check how many of each position in y-dataset:\n",
    "y.value_counts()"
   ]
  },
  {
   "cell_type": "code",
   "execution_count": 72,
   "id": "927787b2",
   "metadata": {},
   "outputs": [],
   "source": [
    "# Apply position_dictionary established in Decision Tree 1 to this model:\n",
    "y = y.map(position_dictionary).values.reshape(-1,1)"
   ]
  },
  {
   "cell_type": "code",
   "execution_count": 73,
   "id": "4ad4c24b",
   "metadata": {},
   "outputs": [
    {
     "name": "stdout",
     "output_type": "stream",
     "text": [
      "X_train: (1899, 20)\n",
      "y_train: (1899, 1)\n",
      "X_test: (633, 20)\n",
      "y_test: (633, 1)\n"
     ]
    }
   ],
   "source": [
    "# Split the X and y into X_train, X_test, y_train, y_test and check shape of each:\n",
    "X_train, X_test, y_train, y_test = train_test_split(X, y, random_state=1, stratify=y)\n",
    "print('X_train:', X_train.shape)\n",
    "print('y_train:', y_train.shape)\n",
    "print('X_test:', X_test.shape)\n",
    "print('y_test:', y_test.shape)"
   ]
  },
  {
   "cell_type": "code",
   "execution_count": 74,
   "id": "2543eb15",
   "metadata": {},
   "outputs": [],
   "source": [
    "# Scale X-data:\n",
    "scaler = StandardScaler()\n",
    "X_scaler = scaler.fit(X_train)\n",
    "\n",
    "X_train_scaled = X_scaler.transform(X_train)\n",
    "X_test_scaled = X_scaler.transform(X_test)"
   ]
  },
  {
   "cell_type": "code",
   "execution_count": 75,
   "id": "1101df96",
   "metadata": {},
   "outputs": [],
   "source": [
    "# Create, fit, and predict Random Forest Model:\n",
    "svm1_model = svm.SVC(kernel='linear', random_state=1)\n",
    "svm1_model = svm1_model.fit(X_train_scaled, y_train)\n",
    "predictions = svm1_model.predict(X_test_scaled)"
   ]
  },
  {
   "cell_type": "code",
   "execution_count": 76,
   "id": "4e364c5c",
   "metadata": {},
   "outputs": [
    {
     "data": {
      "text/plain": [
       "0.6635071090047393"
      ]
     },
     "execution_count": 76,
     "metadata": {},
     "output_type": "execute_result"
    }
   ],
   "source": [
    "svm1_accuracy_score = accuracy_score(y_test, predictions)\n",
    "svm1_accuracy_score"
   ]
  },
  {
   "cell_type": "code",
   "execution_count": 77,
   "id": "4ae37e2d",
   "metadata": {},
   "outputs": [
    {
     "data": {
      "image/png": "[encoded data removed]",
      "text/plain": [
       "<Figure size 648x504 with 2 Axes>"
      ]
     },
     "metadata": {},
     "output_type": "display_data"
    }
   ],
   "source": [
    "# Print confusion matrix using pre-defined function:\n",
    "cm6 = confusion_matrix_heatmap(y_test, predictions)"
   ]
  },
  {
   "cell_type": "markdown",
   "id": "5cd443bc",
   "metadata": {},
   "source": [
    "#### The confusion matrix is a helpful way to visualize the model's accuracy. We can see in the above, for instance, that out of the 134 point guards included in the Testing Dataset (115+16+1+2+0), the model correctly predicted \"point guard\" 115 times. 16 times it thought the point guard was a shooting guard, 1 time it thought the point guard was a small forward, 2 times it thought the point guard was a power forward, and 0 times it thought the point guard was a center. That distribution makes sense - as the differing responsibilities of the positions increased, the model was less likely to predict that the point guard was that position."
   ]
  },
  {
   "cell_type": "code",
   "execution_count": 78,
   "id": "a9f2e3d5",
   "metadata": {},
   "outputs": [
    {
     "name": "stdout",
     "output_type": "stream",
     "text": [
      "              precision    recall  f1-score   support\n",
      "\n",
      "          PG       0.79      0.86      0.82       134\n",
      "          SG       0.66      0.66      0.66       152\n",
      "          SF       0.50      0.48      0.49       116\n",
      "          PF       0.58      0.53      0.55       132\n",
      "           C       0.76      0.79      0.78        99\n",
      "\n",
      "    accuracy                           0.66       633\n",
      "   macro avg       0.66      0.66      0.66       633\n",
      "weighted avg       0.66      0.66      0.66       633\n",
      "\n"
     ]
    }
   ],
   "source": [
    "# Print classification report:\n",
    "svm1_class_report = classification_report(y_test, predictions, target_names = ['PG', 'SG', 'SF', 'PF', 'C'])\n",
    "print(svm1_class_report)"
   ]
  },
  {
   "cell_type": "code",
   "execution_count": 79,
   "id": "3f946c5e",
   "metadata": {},
   "outputs": [
    {
     "data": {
      "image/png": "[encoded data removed]",
      "text/plain": [
       "<Figure size 432x288 with 1 Axes>"
      ]
     },
     "metadata": {},
     "output_type": "display_data"
    }
   ],
   "source": [
    "# Construct plot that displays Feature Importances (SVM Model does not have a simple Feature Importance list like Decision Trees and Random Forests):\n",
    "def f_importances(coef, names, top=-1):\n",
    "    imp = coef\n",
    "    imp, names = zip(*sorted(list(zip(imp, names))))\n",
    "\n",
    "    # Show all features\n",
    "    if top == -1:\n",
    "        top = len(names)\n",
    "\n",
    "    plt.barh(range(top), imp[::-1][0:top], align='center')\n",
    "    plt.yticks(range(top), names[::-1][0:top])\n",
    "    plt.show()\n",
    "\n",
    "feature_names = ['PTS', 'TRB', 'ORB', 'AST', 'STL', 'BLK', 'FG', 'FGA', 'FG%', '3P', '3PA', '3P%', '2P', '2PA', '2P%', 'FT', 'FTA', 'FT%', 'PF', 'TOV']\n",
    "f_importances(abs(svm1_model.coef_[0]), feature_names)"
   ]
  },
  {
   "cell_type": "markdown",
   "id": "362e1067",
   "metadata": {},
   "source": [
    "#### We can see that SVM 1 deemed AST, BLK, FGA, 2P%, 3P and TRB to be the most important features (excluding redundant 3P) that help the model predict positions. It deemed 2P, FT%, FG%, FG, 2PA and FT to be the least important features. This makes sense - the categories in which average stats differ greatly position-by-position (like BLK and AST) the model deems to be important, while categories in which average stats do not differ greatly position-by-position (like FT) the model deems to be unhelpful toward making predictions."
   ]
  },
  {
   "cell_type": "markdown",
   "id": "c06b53cb",
   "metadata": {},
   "source": [
    "# Support Vector Machine Model (SVM) (2 of 2):\n",
    "### This model will use the top 6 features (excluding 3PA due to redundency), identified by SVM 1's \"Feature Importance\" chart, rather than all features."
   ]
  },
  {
   "cell_type": "code",
   "execution_count": 80,
   "id": "f34a6fde",
   "metadata": {},
   "outputs": [
    {
     "data": {
      "text/html": [
       "<div>\n",
       "<style scoped>\n",
       "    .dataframe tbody tr th:only-of-type {\n",
       "        vertical-align: middle;\n",
       "    }\n",
       "\n",
       "    .dataframe tbody tr th {\n",
       "        vertical-align: top;\n",
       "    }\n",
       "\n",
       "    .dataframe thead th {\n",
       "        text-align: right;\n",
       "    }\n",
       "</style>\n",
       "<table border=\"1\" class=\"dataframe\">\n",
       "  <thead>\n",
       "    <tr style=\"text-align: right;\">\n",
       "      <th></th>\n",
       "      <th>AST</th>\n",
       "      <th>BLK</th>\n",
       "      <th>FGA</th>\n",
       "      <th>2P%</th>\n",
       "      <th>3P</th>\n",
       "      <th>TRB</th>\n",
       "      <th>Pos</th>\n",
       "    </tr>\n",
       "  </thead>\n",
       "  <tbody>\n",
       "    <tr>\n",
       "      <th>0</th>\n",
       "      <td>1.9</td>\n",
       "      <td>0.6</td>\n",
       "      <td>9.3</td>\n",
       "      <td>0.49</td>\n",
       "      <td>0.5</td>\n",
       "      <td>8.4</td>\n",
       "      <td>PF</td>\n",
       "    </tr>\n",
       "    <tr>\n",
       "      <th>2</th>\n",
       "      <td>1.3</td>\n",
       "      <td>1.7</td>\n",
       "      <td>8.1</td>\n",
       "      <td>0.55</td>\n",
       "      <td>0.0</td>\n",
       "      <td>10.6</td>\n",
       "      <td>C</td>\n",
       "    </tr>\n",
       "    <tr>\n",
       "      <th>4</th>\n",
       "      <td>1.9</td>\n",
       "      <td>0.1</td>\n",
       "      <td>12.7</td>\n",
       "      <td>0.47</td>\n",
       "      <td>1.7</td>\n",
       "      <td>3.6</td>\n",
       "      <td>SG</td>\n",
       "    </tr>\n",
       "    <tr>\n",
       "      <th>5</th>\n",
       "      <td>2.1</td>\n",
       "      <td>0.1</td>\n",
       "      <td>13.5</td>\n",
       "      <td>0.48</td>\n",
       "      <td>1.7</td>\n",
       "      <td>3.7</td>\n",
       "      <td>SG</td>\n",
       "    </tr>\n",
       "    <tr>\n",
       "      <th>10</th>\n",
       "      <td>1.8</td>\n",
       "      <td>1.0</td>\n",
       "      <td>20.3</td>\n",
       "      <td>0.48</td>\n",
       "      <td>0.5</td>\n",
       "      <td>10.4</td>\n",
       "      <td>PF</td>\n",
       "    </tr>\n",
       "  </tbody>\n",
       "</table>\n",
       "</div>"
      ],
      "text/plain": [
       "    AST  BLK   FGA   2P%   3P   TRB Pos\n",
       "0   1.9  0.6   9.3  0.49  0.5   8.4  PF\n",
       "2   1.3  1.7   8.1  0.55  0.0  10.6   C\n",
       "4   1.9  0.1  12.7  0.47  1.7   3.6  SG\n",
       "5   2.1  0.1  13.5  0.48  1.7   3.7  SG\n",
       "10  1.8  1.0  20.3  0.48  0.5  10.4  PF"
      ]
     },
     "execution_count": 80,
     "metadata": {},
     "output_type": "execute_result"
    }
   ],
   "source": [
    "# New clean dataframe:\n",
    "df2_svm2 = df_decision_tree1.copy()\n",
    "df2_svm2 = df2_svm2[['AST', 'BLK', 'FGA', '2P%', '3P', 'TRB', 'Pos']]\n",
    "df2_svm2.head()"
   ]
  },
  {
   "cell_type": "code",
   "execution_count": 81,
   "id": "67c5f63d",
   "metadata": {},
   "outputs": [],
   "source": [
    "# Set X (features) and y (target):\n",
    "X = df2_svm2.drop('Pos', axis=1)\n",
    "y = df2_svm2.loc[:, 'Pos']"
   ]
  },
  {
   "cell_type": "code",
   "execution_count": 82,
   "id": "bc2eb2eb",
   "metadata": {},
   "outputs": [
    {
     "data": {
      "text/plain": [
       "SG    607\n",
       "PG    535\n",
       "PF    530\n",
       "SF    464\n",
       "C     396\n",
       "Name: Pos, dtype: int64"
      ]
     },
     "execution_count": 82,
     "metadata": {},
     "output_type": "execute_result"
    }
   ],
   "source": [
    "# Check how many of each position in y-dataset:\n",
    "y.value_counts()"
   ]
  },
  {
   "cell_type": "code",
   "execution_count": 83,
   "id": "13924394",
   "metadata": {},
   "outputs": [],
   "source": [
    "# Apply position_dictionary established in Decision Tree 1 to this model:\n",
    "y = y.map(position_dictionary).values.reshape(-1,1)"
   ]
  },
  {
   "cell_type": "code",
   "execution_count": 84,
   "id": "2442c7c2",
   "metadata": {},
   "outputs": [
    {
     "name": "stdout",
     "output_type": "stream",
     "text": [
      "X_train: (1899, 6)\n",
      "y_train: (1899, 1)\n",
      "X_test: (633, 6)\n",
      "y_test: (633, 1)\n"
     ]
    }
   ],
   "source": [
    "# Split X and y into X_train, X_test, y_train, y_test and check shape of each:\n",
    "X_train, X_test, y_train, y_test = train_test_split(X, y, random_state=1, stratify=y)\n",
    "print('X_train:', X_train.shape)\n",
    "print('y_train:', y_train.shape)\n",
    "print('X_test:', X_test.shape)\n",
    "print('y_test:', y_test.shape)"
   ]
  },
  {
   "cell_type": "code",
   "execution_count": 85,
   "id": "d33614db",
   "metadata": {},
   "outputs": [],
   "source": [
    "# Scale X-data:\n",
    "scaler = StandardScaler()\n",
    "X_scaler = scaler.fit(X_train)\n",
    "\n",
    "X_train_scaled = X_scaler.transform(X_train)\n",
    "X_test_scaled = X_scaler.transform(X_test)"
   ]
  },
  {
   "cell_type": "code",
   "execution_count": 86,
   "id": "70c84ced",
   "metadata": {},
   "outputs": [],
   "source": [
    "# Create, fit, and predict SVM 2 Model:\n",
    "svm2_model = svm.SVC(kernel='linear', random_state=1)\n",
    "svm2_model = svm2_model.fit(X_train_scaled, y_train)\n",
    "predictions = svm2_model.predict(X_test_scaled)"
   ]
  },
  {
   "cell_type": "code",
   "execution_count": 87,
   "id": "12fcbd6a",
   "metadata": {},
   "outputs": [
    {
     "data": {
      "text/plain": [
       "0.6477093206951027"
      ]
     },
     "execution_count": 87,
     "metadata": {},
     "output_type": "execute_result"
    }
   ],
   "source": [
    "# Print accuracy score:\n",
    "svm2_accuracy_score = accuracy_score(y_test, predictions)\n",
    "svm2_accuracy_score"
   ]
  },
  {
   "cell_type": "code",
   "execution_count": 88,
   "id": "739ebdea",
   "metadata": {},
   "outputs": [
    {
     "data": {
      "image/png": "[encoded data removed]",
      "text/plain": [
       "<Figure size 648x504 with 2 Axes>"
      ]
     },
     "metadata": {},
     "output_type": "display_data"
    }
   ],
   "source": [
    "# Print confusion matrix using pre-defined function:\n",
    "cm7 = confusion_matrix_heatmap(y_test, predictions)"
   ]
  },
  {
   "cell_type": "markdown",
   "id": "95a85b2e",
   "metadata": {},
   "source": [
    "#### The confusion matrix is a helpful way to visualize the model's accuracy. We can see in the above, for instance, that out of the 134 point guards included in the Testing Dataset (111+21+0+2+0), the model correctly predicted \"point guard\" 111 times. 21 times it thought the point guard was a shooting guard, 0 times it thought the point guard was a small forward, 2 times it thought the point guard was a power forward, and 0 times it thought the point guard was a center. That distribution makes sense - as the differing responsibilities of the positions increased, the model was less likely to predict that the point guard was that position."
   ]
  },
  {
   "cell_type": "code",
   "execution_count": 89,
   "id": "66dd12b4",
   "metadata": {},
   "outputs": [
    {
     "name": "stdout",
     "output_type": "stream",
     "text": [
      "              precision    recall  f1-score   support\n",
      "\n",
      "          PG       0.78      0.83      0.80       134\n",
      "          SG       0.63      0.69      0.66       152\n",
      "          SF       0.51      0.43      0.47       116\n",
      "          PF       0.54      0.51      0.52       132\n",
      "           C       0.76      0.78      0.77        99\n",
      "\n",
      "    accuracy                           0.65       633\n",
      "   macro avg       0.64      0.65      0.64       633\n",
      "weighted avg       0.64      0.65      0.64       633\n",
      "\n"
     ]
    }
   ],
   "source": [
    "# Print classification report:\n",
    "svm2_class_report = classification_report(y_test, predictions, target_names = ['PG', 'SG', 'SF', 'PF', 'C'])\n",
    "print(svm2_class_report)"
   ]
  },
  {
   "cell_type": "markdown",
   "id": "af168854",
   "metadata": {},
   "source": [
    "### Compare the results of SVM 1 to those of SVM 2; did reducing features to the top 6 improve the model?"
   ]
  },
  {
   "cell_type": "code",
   "execution_count": 90,
   "id": "224e0d90",
   "metadata": {},
   "outputs": [
    {
     "name": "stdout",
     "output_type": "stream",
     "text": [
      "SVM 1 Accuracy Score (all 20 features): 0.6635071090047393. \n",
      "SVM 2 Accuracy Score (top 6 features): 0.6477093206951027.\n"
     ]
    }
   ],
   "source": [
    "print(f'SVM 1 Accuracy Score (all 20 features): {svm1_accuracy_score}. \\nSVM 2 Accuracy Score (top 6 features): {svm2_accuracy_score}.')"
   ]
  },
  {
   "cell_type": "code",
   "execution_count": 91,
   "id": "ade98335",
   "metadata": {},
   "outputs": [
    {
     "name": "stdout",
     "output_type": "stream",
     "text": [
      "SVM1 Class. Report (all 20 features):               precision    recall  f1-score   support\n",
      "\n",
      "          PG       0.79      0.86      0.82       134\n",
      "          SG       0.66      0.66      0.66       152\n",
      "          SF       0.50      0.48      0.49       116\n",
      "          PF       0.58      0.53      0.55       132\n",
      "           C       0.76      0.79      0.78        99\n",
      "\n",
      "    accuracy                           0.66       633\n",
      "   macro avg       0.66      0.66      0.66       633\n",
      "weighted avg       0.66      0.66      0.66       633\n",
      ". \n",
      "SVM2 Class. Report (top 6 features):               precision    recall  f1-score   support\n",
      "\n",
      "          PG       0.78      0.83      0.80       134\n",
      "          SG       0.63      0.69      0.66       152\n",
      "          SF       0.51      0.43      0.47       116\n",
      "          PF       0.54      0.51      0.52       132\n",
      "           C       0.76      0.78      0.77        99\n",
      "\n",
      "    accuracy                           0.65       633\n",
      "   macro avg       0.64      0.65      0.64       633\n",
      "weighted avg       0.64      0.65      0.64       633\n",
      ".\n"
     ]
    }
   ],
   "source": [
    "print(f'SVM1 Class. Report (all 20 features): {svm1_class_report}. \\nSVM2 Class. Report (top 6 features): {svm2_class_report}.')"
   ]
  },
  {
   "cell_type": "markdown",
   "id": "cda95392",
   "metadata": {},
   "source": [
    "#### Based on the above results, it appears that the model that uses all 20 features is slightly better than the one that uses only the top 6:\n",
    "- 66.4% accuracy vs. 64.8% accuracy.\n",
    "- 66% precision vs. 64% precision.\n",
    "- 66% recall vs. 65% recall.\n",
    "- 66% f1 score vs. 64% f1 score.\n",
    "\n",
    "# Final Support Vector Machine (SVM) Conclusion:\n",
    "### After running the two SVM models, I achieved a max accuracy score of 66% - this model used all 20 features. This is a slight decrease from the 69% accuracy of Random Forest 1 model, but is still good. Let's continue with one more model and see if it improves."
   ]
  },
  {
   "cell_type": "markdown",
   "id": "ad5d6560",
   "metadata": {},
   "source": [
    "# Gradient Boosted Trees (1 of 2):\n",
    "### We will run each model twice - once using all 20 features, and next, using only the top 5 most important features deemed by the first model.\n",
    "### This first GBT model will use all features."
   ]
  },
  {
   "cell_type": "code",
   "execution_count": 92,
   "id": "9e2c807c",
   "metadata": {},
   "outputs": [],
   "source": [
    "# New clean dataframe:\n",
    "df1_gbt1 = df_decision_tree1.copy()"
   ]
  },
  {
   "cell_type": "code",
   "execution_count": 93,
   "id": "279cc5e6",
   "metadata": {},
   "outputs": [],
   "source": [
    "# Set X (features) and y (target):\n",
    "X = df1_gbt1.drop('Pos', axis=1)\n",
    "y = df1_gbt1.loc[:, 'Pos']"
   ]
  },
  {
   "cell_type": "code",
   "execution_count": 94,
   "id": "8750e9f6",
   "metadata": {},
   "outputs": [
    {
     "data": {
      "text/plain": [
       "SG    607\n",
       "PG    535\n",
       "PF    530\n",
       "SF    464\n",
       "C     396\n",
       "Name: Pos, dtype: int64"
      ]
     },
     "execution_count": 94,
     "metadata": {},
     "output_type": "execute_result"
    }
   ],
   "source": [
    "# Check how many of each position in y-dataset:\n",
    "y.value_counts()"
   ]
  },
  {
   "cell_type": "code",
   "execution_count": 95,
   "id": "7c57e748",
   "metadata": {},
   "outputs": [],
   "source": [
    "# Apply position_dictionary established in Decision Tree 1 to this model:\n",
    "y = y.map(position_dictionary).values.reshape(-1,1)"
   ]
  },
  {
   "cell_type": "code",
   "execution_count": 96,
   "id": "0b3c336a",
   "metadata": {},
   "outputs": [
    {
     "name": "stdout",
     "output_type": "stream",
     "text": [
      "X_train: (1899, 20)\n",
      "y_train: (1899, 1)\n",
      "X_test: (633, 20)\n",
      "y_test: (633, 1)\n"
     ]
    }
   ],
   "source": [
    "# Split the X and y into X_train, X_test, y_train, y_test and check shape of each:\n",
    "X_train, X_test, y_train, y_test = train_test_split(X, y, random_state=1, stratify=y)\n",
    "print('X_train:', X_train.shape)\n",
    "print('y_train:', y_train.shape)\n",
    "print('X_test:', X_test.shape)\n",
    "print('y_test:', y_test.shape)"
   ]
  },
  {
   "cell_type": "code",
   "execution_count": 97,
   "id": "3e682ed7",
   "metadata": {},
   "outputs": [],
   "source": [
    "# Scale X-data:\n",
    "scaler = StandardScaler()\n",
    "X_scaler = scaler.fit(X_train)\n",
    "\n",
    "X_train_scaled = X_scaler.transform(X_train)\n",
    "X_test_scaled = X_scaler.transform(X_test)"
   ]
  },
  {
   "cell_type": "code",
   "execution_count": 98,
   "id": "645c265d",
   "metadata": {},
   "outputs": [
    {
     "name": "stdout",
     "output_type": "stream",
     "text": [
      "Learning rate:  0.05\n",
      "Accuracy score (training): 0.705\n",
      "Accuracy score (validation): 0.621\n",
      "\n",
      "Learning rate:  0.1\n",
      "Accuracy score (training): 0.754\n",
      "Accuracy score (validation): 0.645\n",
      "\n",
      "Learning rate:  0.25\n",
      "Accuracy score (training): 0.804\n",
      "Accuracy score (validation): 0.660\n",
      "\n",
      "Learning rate:  0.5\n",
      "Accuracy score (training): 0.868\n",
      "Accuracy score (validation): 0.652\n",
      "\n",
      "Learning rate:  0.75\n",
      "Accuracy score (training): 0.908\n",
      "Accuracy score (validation): 0.646\n",
      "\n",
      "Learning rate:  1\n",
      "Accuracy score (training): 0.930\n",
      "Accuracy score (validation): 0.621\n",
      "\n"
     ]
    }
   ],
   "source": [
    "# Initial Import:\n",
    "from sklearn.ensemble import GradientBoostingClassifier\n",
    "\n",
    "# Before creating Gradient Boosting Tree Model, determine best learning_rate to use in model:\n",
    "learning_rates = [0.05, 0.1, 0.25, 0.5, 0.75, 1]\n",
    "for learning_rate in learning_rates:\n",
    "    gbt1_model = GradientBoostingClassifier(n_estimators=20, learning_rate=learning_rate, max_features=5, max_depth=3, random_state=0)\n",
    "\n",
    "    # Fit the model\n",
    "    gbt1_model.fit(X_train_scaled, y_train.ravel())\n",
    "    print(\"Learning rate: \", learning_rate)\n",
    "\n",
    "    # Score the model\n",
    "    print(\"Accuracy score (training): {0:.3f}\".format(\n",
    "        gbt1_model.score(\n",
    "            X_train_scaled,\n",
    "            y_train.ravel())))\n",
    "    print(\"Accuracy score (validation): {0:.3f}\".format(\n",
    "        gbt1_model.score(\n",
    "            X_test_scaled,\n",
    "            y_test.ravel())))\n",
    "    print()"
   ]
  },
  {
   "cell_type": "markdown",
   "id": "f0ad759c",
   "metadata": {},
   "source": [
    "#### Based on the above Learning Rates, it looks like Learning Rate 0.75 is best, as it leads to the highest overall accuracy scores for the training and the testing datasets."
   ]
  },
  {
   "cell_type": "code",
   "execution_count": 99,
   "id": "a32664cb",
   "metadata": {},
   "outputs": [],
   "source": [
    "# Create, fit, and predict Gradient Boosted Tree Model:\n",
    "gbt1_model = GradientBoostingClassifier(n_estimators=20, learning_rate=0.75, max_depth=3, random_state=1)\n",
    "gbt1_model = gbt1_model.fit(X_train_scaled, y_train)\n",
    "predictions = gbt1_model.predict(X_test_scaled)"
   ]
  },
  {
   "cell_type": "code",
   "execution_count": 100,
   "id": "21c80d70",
   "metadata": {},
   "outputs": [
    {
     "data": {
      "text/plain": [
       "0.636650868878357"
      ]
     },
     "execution_count": 100,
     "metadata": {},
     "output_type": "execute_result"
    }
   ],
   "source": [
    "gbt1_accuracy_score = accuracy_score(y_test, predictions)\n",
    "gbt1_accuracy_score"
   ]
  },
  {
   "cell_type": "code",
   "execution_count": 101,
   "id": "beac4fb9",
   "metadata": {},
   "outputs": [
    {
     "data": {
      "image/png": "[encoded data removed]",
      "text/plain": [
       "<Figure size 648x504 with 2 Axes>"
      ]
     },
     "metadata": {},
     "output_type": "display_data"
    }
   ],
   "source": [
    "# Print confusion matrix using pre-defined function:\n",
    "cm8 = confusion_matrix_heatmap(y_test, predictions)"
   ]
  },
  {
   "cell_type": "markdown",
   "id": "b435f61a",
   "metadata": {},
   "source": [
    "#### The confusion matrix is a helpful way to visualize the model's accuracy. We can see in the above, for instance, that out of the 134 point guards included in the Testing Dataset (108+23+1+1+1), the model correctly predicted \"point guard\" 108 times. 23 times it thought the point guard was a shooting guard, 1 time it thought the point guard was a small forward, 1 time it thought the point guard was a power forward, and 1 time it thought the point guard was a center. That distribution makes sense - as the differing responsibilities of the positions increased, the model was less likely to predict that the point guard was that position."
   ]
  },
  {
   "cell_type": "code",
   "execution_count": 102,
   "id": "5c1e4650",
   "metadata": {},
   "outputs": [
    {
     "name": "stdout",
     "output_type": "stream",
     "text": [
      "              precision    recall  f1-score   support\n",
      "\n",
      "          PG       0.80      0.81      0.80       134\n",
      "          SG       0.58      0.58      0.58       152\n",
      "          SF       0.46      0.47      0.46       116\n",
      "          PF       0.59      0.58      0.59       132\n",
      "           C       0.78      0.77      0.77        99\n",
      "\n",
      "    accuracy                           0.64       633\n",
      "   macro avg       0.64      0.64      0.64       633\n",
      "weighted avg       0.64      0.64      0.64       633\n",
      "\n"
     ]
    }
   ],
   "source": [
    "# Print classification report:\n",
    "gbt1_class_report = classification_report(y_test, predictions, target_names = ['PG', 'SG', 'SF', 'PF', 'C'])\n",
    "print(gbt1_class_report)"
   ]
  },
  {
   "cell_type": "code",
   "execution_count": 103,
   "id": "2f60329e",
   "metadata": {},
   "outputs": [
    {
     "data": {
      "text/html": [
       "<div>\n",
       "<style scoped>\n",
       "    .dataframe tbody tr th:only-of-type {\n",
       "        vertical-align: middle;\n",
       "    }\n",
       "\n",
       "    .dataframe tbody tr th {\n",
       "        vertical-align: top;\n",
       "    }\n",
       "\n",
       "    .dataframe thead th {\n",
       "        text-align: right;\n",
       "    }\n",
       "</style>\n",
       "<table border=\"1\" class=\"dataframe\">\n",
       "  <thead>\n",
       "    <tr style=\"text-align: right;\">\n",
       "      <th></th>\n",
       "      <th>Importance</th>\n",
       "    </tr>\n",
       "  </thead>\n",
       "  <tbody>\n",
       "    <tr>\n",
       "      <th>AST</th>\n",
       "      <td>0.271894</td>\n",
       "    </tr>\n",
       "    <tr>\n",
       "      <th>TRB</th>\n",
       "      <td>0.267471</td>\n",
       "    </tr>\n",
       "    <tr>\n",
       "      <th>ORB</th>\n",
       "      <td>0.137947</td>\n",
       "    </tr>\n",
       "    <tr>\n",
       "      <th>BLK</th>\n",
       "      <td>0.042325</td>\n",
       "    </tr>\n",
       "    <tr>\n",
       "      <th>STL</th>\n",
       "      <td>0.038466</td>\n",
       "    </tr>\n",
       "    <tr>\n",
       "      <th>FG%</th>\n",
       "      <td>0.026311</td>\n",
       "    </tr>\n",
       "    <tr>\n",
       "      <th>2P%</th>\n",
       "      <td>0.023594</td>\n",
       "    </tr>\n",
       "    <tr>\n",
       "      <th>FT%</th>\n",
       "      <td>0.022192</td>\n",
       "    </tr>\n",
       "    <tr>\n",
       "      <th>2PA</th>\n",
       "      <td>0.021331</td>\n",
       "    </tr>\n",
       "    <tr>\n",
       "      <th>PF</th>\n",
       "      <td>0.019171</td>\n",
       "    </tr>\n",
       "    <tr>\n",
       "      <th>FGA</th>\n",
       "      <td>0.018803</td>\n",
       "    </tr>\n",
       "    <tr>\n",
       "      <th>3PA</th>\n",
       "      <td>0.016932</td>\n",
       "    </tr>\n",
       "    <tr>\n",
       "      <th>TOV</th>\n",
       "      <td>0.016423</td>\n",
       "    </tr>\n",
       "    <tr>\n",
       "      <th>PTS</th>\n",
       "      <td>0.013491</td>\n",
       "    </tr>\n",
       "    <tr>\n",
       "      <th>FT</th>\n",
       "      <td>0.011586</td>\n",
       "    </tr>\n",
       "    <tr>\n",
       "      <th>FG</th>\n",
       "      <td>0.011287</td>\n",
       "    </tr>\n",
       "    <tr>\n",
       "      <th>FTA</th>\n",
       "      <td>0.011215</td>\n",
       "    </tr>\n",
       "    <tr>\n",
       "      <th>3P%</th>\n",
       "      <td>0.010730</td>\n",
       "    </tr>\n",
       "    <tr>\n",
       "      <th>2P</th>\n",
       "      <td>0.010302</td>\n",
       "    </tr>\n",
       "    <tr>\n",
       "      <th>3P</th>\n",
       "      <td>0.008527</td>\n",
       "    </tr>\n",
       "  </tbody>\n",
       "</table>\n",
       "</div>"
      ],
      "text/plain": [
       "     Importance\n",
       "AST    0.271894\n",
       "TRB    0.267471\n",
       "ORB    0.137947\n",
       "BLK    0.042325\n",
       "STL    0.038466\n",
       "FG%    0.026311\n",
       "2P%    0.023594\n",
       "FT%    0.022192\n",
       "2PA    0.021331\n",
       "PF     0.019171\n",
       "FGA    0.018803\n",
       "3PA    0.016932\n",
       "TOV    0.016423\n",
       "PTS    0.013491\n",
       "FT     0.011586\n",
       "FG     0.011287\n",
       "FTA    0.011215\n",
       "3P%    0.010730\n",
       "2P     0.010302\n",
       "3P     0.008527"
      ]
     },
     "execution_count": 103,
     "metadata": {},
     "output_type": "execute_result"
    }
   ],
   "source": [
    "# List features ordered by feature importance:\n",
    "gbt1_importances = pd.DataFrame(gbt1_model.feature_importances_, index = X_train.columns, columns=['Importance']).sort_values('Importance', ascending=False)\n",
    "gbt1_importances"
   ]
  },
  {
   "cell_type": "markdown",
   "id": "77e5bcb6",
   "metadata": {},
   "source": [
    "#### We can see that Gradient Boosted Tree 1 deemed AST, TRB, ORB, BLK, and STL to be the most important features that help the model predict positions. It deemed FT, FG, FTA, 3P%, 2P and 3P to be the least important features. This makes sense - the categories in which average stats differ greatly position-by-position (like TRB and AST) the model deems to be important, while categories in which average stats do not differ greatly position-by-position (like FT and FG) the model deems to be unhelpful toward making predictions."
   ]
  },
  {
   "cell_type": "markdown",
   "id": "ac542571",
   "metadata": {},
   "source": [
    "# Gradient Boosted Trees (2 of 2):\n",
    "### This model will use the top 5 features, identified by GBT 1's \"Feature Importance\" chart, rather than all features."
   ]
  },
  {
   "cell_type": "code",
   "execution_count": 104,
   "id": "93ada72e",
   "metadata": {},
   "outputs": [
    {
     "data": {
      "text/html": [
       "<div>\n",
       "<style scoped>\n",
       "    .dataframe tbody tr th:only-of-type {\n",
       "        vertical-align: middle;\n",
       "    }\n",
       "\n",
       "    .dataframe tbody tr th {\n",
       "        vertical-align: top;\n",
       "    }\n",
       "\n",
       "    .dataframe thead th {\n",
       "        text-align: right;\n",
       "    }\n",
       "</style>\n",
       "<table border=\"1\" class=\"dataframe\">\n",
       "  <thead>\n",
       "    <tr style=\"text-align: right;\">\n",
       "      <th></th>\n",
       "      <th>AST</th>\n",
       "      <th>TRB</th>\n",
       "      <th>ORB</th>\n",
       "      <th>BLK</th>\n",
       "      <th>STL</th>\n",
       "      <th>Pos</th>\n",
       "    </tr>\n",
       "  </thead>\n",
       "  <tbody>\n",
       "    <tr>\n",
       "      <th>0</th>\n",
       "      <td>1.9</td>\n",
       "      <td>8.4</td>\n",
       "      <td>2.2</td>\n",
       "      <td>0.6</td>\n",
       "      <td>0.8</td>\n",
       "      <td>PF</td>\n",
       "    </tr>\n",
       "    <tr>\n",
       "      <th>2</th>\n",
       "      <td>1.3</td>\n",
       "      <td>10.6</td>\n",
       "      <td>4.0</td>\n",
       "      <td>1.7</td>\n",
       "      <td>0.8</td>\n",
       "      <td>C</td>\n",
       "    </tr>\n",
       "    <tr>\n",
       "      <th>4</th>\n",
       "      <td>1.9</td>\n",
       "      <td>3.6</td>\n",
       "      <td>0.4</td>\n",
       "      <td>0.1</td>\n",
       "      <td>0.6</td>\n",
       "      <td>SG</td>\n",
       "    </tr>\n",
       "    <tr>\n",
       "      <th>5</th>\n",
       "      <td>2.1</td>\n",
       "      <td>3.7</td>\n",
       "      <td>0.4</td>\n",
       "      <td>0.1</td>\n",
       "      <td>0.7</td>\n",
       "      <td>SG</td>\n",
       "    </tr>\n",
       "    <tr>\n",
       "      <th>10</th>\n",
       "      <td>1.8</td>\n",
       "      <td>10.4</td>\n",
       "      <td>2.5</td>\n",
       "      <td>1.0</td>\n",
       "      <td>0.7</td>\n",
       "      <td>PF</td>\n",
       "    </tr>\n",
       "  </tbody>\n",
       "</table>\n",
       "</div>"
      ],
      "text/plain": [
       "    AST   TRB  ORB  BLK  STL Pos\n",
       "0   1.9   8.4  2.2  0.6  0.8  PF\n",
       "2   1.3  10.6  4.0  1.7  0.8   C\n",
       "4   1.9   3.6  0.4  0.1  0.6  SG\n",
       "5   2.1   3.7  0.4  0.1  0.7  SG\n",
       "10  1.8  10.4  2.5  1.0  0.7  PF"
      ]
     },
     "execution_count": 104,
     "metadata": {},
     "output_type": "execute_result"
    }
   ],
   "source": [
    "# New clean dataframe:\n",
    "df2_gbt2 = df_decision_tree1.copy()\n",
    "df2_gbt2 = df2_gbt2[['AST', 'TRB', 'ORB', 'BLK', 'STL', 'Pos']]\n",
    "df2_gbt2.head()"
   ]
  },
  {
   "cell_type": "code",
   "execution_count": 105,
   "id": "2e390679",
   "metadata": {},
   "outputs": [],
   "source": [
    "# Set X (features) and y (target):\n",
    "X = df2_gbt2.drop('Pos', axis=1)\n",
    "y = df2_gbt2.loc[:, 'Pos']"
   ]
  },
  {
   "cell_type": "code",
   "execution_count": 106,
   "id": "2c2d1421",
   "metadata": {},
   "outputs": [
    {
     "data": {
      "text/plain": [
       "SG    607\n",
       "PG    535\n",
       "PF    530\n",
       "SF    464\n",
       "C     396\n",
       "Name: Pos, dtype: int64"
      ]
     },
     "execution_count": 106,
     "metadata": {},
     "output_type": "execute_result"
    }
   ],
   "source": [
    "# Check how many of each position in y-dataset:\n",
    "y.value_counts()"
   ]
  },
  {
   "cell_type": "code",
   "execution_count": 107,
   "id": "7ddf6b07",
   "metadata": {},
   "outputs": [],
   "source": [
    "# Apply position_dictionary established in Decision Tree 1 to this model:\n",
    "y = y.map(position_dictionary).values.reshape(-1,1)"
   ]
  },
  {
   "cell_type": "code",
   "execution_count": 108,
   "id": "ed0bf528",
   "metadata": {},
   "outputs": [
    {
     "name": "stdout",
     "output_type": "stream",
     "text": [
      "X_train: (1899, 5)\n",
      "y_train: (1899, 1)\n",
      "X_test: (633, 5)\n",
      "y_test: (633, 1)\n"
     ]
    }
   ],
   "source": [
    "# Split X and y into X_train, X_test, y_train, y_test and check shape of each:\n",
    "X_train, X_test, y_train, y_test = train_test_split(X, y, random_state=1, stratify=y)\n",
    "print('X_train:', X_train.shape)\n",
    "print('y_train:', y_train.shape)\n",
    "print('X_test:', X_test.shape)\n",
    "print('y_test:', y_test.shape)"
   ]
  },
  {
   "cell_type": "code",
   "execution_count": 109,
   "id": "016a34cd",
   "metadata": {},
   "outputs": [],
   "source": [
    "# Scale X-data:\n",
    "scaler = StandardScaler()\n",
    "X_scaler = scaler.fit(X_train)\n",
    "\n",
    "X_train_scaled = X_scaler.transform(X_train)\n",
    "X_test_scaled = X_scaler.transform(X_test)"
   ]
  },
  {
   "cell_type": "code",
   "execution_count": 110,
   "id": "60c901c9",
   "metadata": {},
   "outputs": [],
   "source": [
    "# Create, fit, and predict Gradient Boosted Tree Model:\n",
    "gbt2_model = GradientBoostingClassifier(n_estimators=20, learning_rate=0.75, max_depth=3, random_state=1)\n",
    "gbt2_model = gbt2_model.fit(X_train_scaled, y_train)\n",
    "predictions = gbt2_model.predict(X_test_scaled)"
   ]
  },
  {
   "cell_type": "code",
   "execution_count": 111,
   "id": "4ef2b7d0",
   "metadata": {},
   "outputs": [
    {
     "data": {
      "text/plain": [
       "0.6129541864139021"
      ]
     },
     "execution_count": 111,
     "metadata": {},
     "output_type": "execute_result"
    }
   ],
   "source": [
    "# Print accuracy score:\n",
    "gbt2_accuracy_score = accuracy_score(y_test, predictions)\n",
    "gbt2_accuracy_score"
   ]
  },
  {
   "cell_type": "code",
   "execution_count": 112,
   "id": "88bfe3c0",
   "metadata": {},
   "outputs": [
    {
     "data": {
      "image/png": "[encoded data removed]",
      "text/plain": [
       "<Figure size 648x504 with 2 Axes>"
      ]
     },
     "metadata": {},
     "output_type": "display_data"
    }
   ],
   "source": [
    "# Print confusion matrix using pre-defined function:  \n",
    "cm9 = confusion_matrix_heatmap(y_test, predictions)"
   ]
  },
  {
   "cell_type": "markdown",
   "id": "13faa66a",
   "metadata": {},
   "source": [
    "#### The confusion matrix is a helpful way to visualize the model's accuracy. We can see in the above, for instance, that out of the 134 point guards included in the Testing Dataset (113+17+2+2+0), the model correctly predicted \"point guard\" 113 times. 17 times it thought the point guard was a shooting guard, 2 times it thought the point guard was a small forward, 2 times it thought the point guard was a power forward, and 0 times it thought the point guard was a center. That distribution makes sense - as the differing responsibilities of the positions increased, the model was less likely to predict that the point guard was that position."
   ]
  },
  {
   "cell_type": "code",
   "execution_count": 113,
   "id": "a78747af",
   "metadata": {},
   "outputs": [
    {
     "name": "stdout",
     "output_type": "stream",
     "text": [
      "              precision    recall  f1-score   support\n",
      "\n",
      "          PG       0.77      0.84      0.80       134\n",
      "          SG       0.59      0.60      0.60       152\n",
      "          SF       0.41      0.35      0.38       116\n",
      "          PF       0.51      0.53      0.52       132\n",
      "           C       0.75      0.74      0.74        99\n",
      "\n",
      "    accuracy                           0.61       633\n",
      "   macro avg       0.61      0.61      0.61       633\n",
      "weighted avg       0.61      0.61      0.61       633\n",
      "\n"
     ]
    }
   ],
   "source": [
    "# Print classification report:\n",
    "gbt2_class_report = classification_report(y_test, predictions, target_names = ['PG', 'SG', 'SF', 'PF', 'C'])\n",
    "print(gbt2_class_report)"
   ]
  },
  {
   "cell_type": "markdown",
   "id": "46189488",
   "metadata": {},
   "source": [
    "### Compare the results of Gradient Boosted Tree 1 to those of Gradient Boosted Tree 2; did reducing features to the top 5 improve the model?"
   ]
  },
  {
   "cell_type": "code",
   "execution_count": 114,
   "id": "2e4173cc",
   "metadata": {},
   "outputs": [
    {
     "name": "stdout",
     "output_type": "stream",
     "text": [
      "GBT 1 Accuracy Score (all 20 features): 0.636650868878357. \n",
      "GBT 2 Accuracy Score (top 5 features): 0.6129541864139021.\n"
     ]
    }
   ],
   "source": [
    "print(f'GBT 1 Accuracy Score (all 20 features): {gbt1_accuracy_score}. \\nGBT 2 Accuracy Score (top 5 features): {gbt2_accuracy_score}.')"
   ]
  },
  {
   "cell_type": "code",
   "execution_count": 115,
   "id": "924aa333",
   "metadata": {},
   "outputs": [
    {
     "name": "stdout",
     "output_type": "stream",
     "text": [
      "GBT1 Class. Report (all 20 features):               precision    recall  f1-score   support\n",
      "\n",
      "          PG       0.80      0.81      0.80       134\n",
      "          SG       0.58      0.58      0.58       152\n",
      "          SF       0.46      0.47      0.46       116\n",
      "          PF       0.59      0.58      0.59       132\n",
      "           C       0.78      0.77      0.77        99\n",
      "\n",
      "    accuracy                           0.64       633\n",
      "   macro avg       0.64      0.64      0.64       633\n",
      "weighted avg       0.64      0.64      0.64       633\n",
      ". \n",
      "GBT2 Class. Report (top 5 features):               precision    recall  f1-score   support\n",
      "\n",
      "          PG       0.77      0.84      0.80       134\n",
      "          SG       0.59      0.60      0.60       152\n",
      "          SF       0.41      0.35      0.38       116\n",
      "          PF       0.51      0.53      0.52       132\n",
      "           C       0.75      0.74      0.74        99\n",
      "\n",
      "    accuracy                           0.61       633\n",
      "   macro avg       0.61      0.61      0.61       633\n",
      "weighted avg       0.61      0.61      0.61       633\n",
      ".\n"
     ]
    }
   ],
   "source": [
    "print(f'GBT1 Class. Report (all 20 features): {gbt1_class_report}. \\nGBT2 Class. Report (top 5 features): {gbt2_class_report}.')"
   ]
  },
  {
   "cell_type": "markdown",
   "id": "2259ae3f",
   "metadata": {},
   "source": [
    "#### Based on the above results, it appears that the model that uses all 20 features is slightly better than the one that uses only the top 5:\n",
    "- 63.7% accuracy vs. 61.3% accuracy.\n",
    "- 64% precision vs. 61% precision.\n",
    "- 64% recall vs. 61% recall.\n",
    "- 64% f1 score vs. 61% f1 score.\n",
    "\n",
    "# Final Gradient Boosted Trees (GBTs) Conclusion:\n",
    "### After running the two GBT models, I achieved a max accuracy score of 64% - this model used all 20 features. This is a decrease from the 69% accuracy of Random Forest 1 model."
   ]
  },
  {
   "cell_type": "markdown",
   "id": "a8c2344e",
   "metadata": {},
   "source": [
    "# Final Conclusion:\n",
    "#### Best Accuracy Score: Random Forest 1 model: 69.2%\n",
    "#### Best Classification Report Scores: Random Forest 1 model: 69% precision, 69% recall, 69% F1 score\n",
    "#### Best Overall Model: Random Forest 1 model"
   ]
  },
  {
   "cell_type": "markdown",
   "id": "579580a1",
   "metadata": {},
   "source": [
    "### Let's use the best model (Random Forest 1) and give it specific predictions, feeding it real stats of real players, and see how it classifies each player. We will use players who define their position well, which the model should correctly predict, along with players who play a more fluid game, a more \"positionless\" game, in which their skill-set is not confined to the traditional responsibilities of the position.\n",
    "### Select Specific Players/Rows:"
   ]
  },
  {
   "cell_type": "code",
   "execution_count": 116,
   "id": "b078c2f6",
   "metadata": {},
   "outputs": [],
   "source": [
    "# Select players who define their position well:\n",
    "pg_steph_row = original_df.loc[((original_df['Player'] == 'Stephen Curry') & (original_df['Age'] == 26))]\n",
    "sg_beal_row = original_df.loc[((original_df['Player'] == 'Bradley Beal') & (original_df['Age'] == 24))]\n",
    "sf_kawhi_row = original_df.loc[((original_df['Player'] == 'Kawhi Leonard') & (original_df['Age'] == 25))]\n",
    "pf_love_row = original_df.loc[((original_df['Player'] == 'Kevin Love') & (original_df['Age'] == 27))]\n",
    "c_embiid_row = original_df.loc[((original_df['Player'] == 'Joel Embiid') & (original_df['Age'] == 24))]\n",
    "\n",
    "# Concatenate above into one dataframe:\n",
    "position_players_df = pd.concat([pg_steph_row, sg_beal_row, sf_kawhi_row, pf_love_row, c_embiid_row], axis='rows', join='inner')\n",
    "\n",
    "# Drop/Re-order columns to mimic Random Forest 1's dataset:\n",
    "position_players_df = position_players_df[['PTS', 'TRB', 'ORB', 'AST', 'STL', 'BLK', 'FG', 'FGA', 'FG%', '3P', '3PA', '3P%', '2P', '2PA', '2P%', 'FT', 'FTA', 'FT%', 'PF', 'TOV']]\n",
    "\n",
    "# Scale data (model data was scaled, so this data needs to be scaled as well):\n",
    "position_players_df_scaled = scaler.fit_transform(position_players_df)"
   ]
  },
  {
   "cell_type": "code",
   "execution_count": 117,
   "id": "1cc83aa0",
   "metadata": {},
   "outputs": [],
   "source": [
    "# Select players who play a more \"positionless\" game, in which their stats are not confined to the traditional responsibilities of their position:\n",
    "pg_simmons_row = original_df.loc[((original_df['Player'] == 'Ben Simmons') & (original_df['Age'] == 22))]\n",
    "pg_westbrook_row = original_df.loc[((original_df['Player'] == 'Russell Westbrook') & (original_df['Age'] == 24))]\n",
    "sg_harden_row = original_df.loc[((original_df['Player'] == 'James Harden') & (original_df['Age'] == 26))]\n",
    "pf_lebron_row = original_df.loc[((original_df['Player'] == 'LeBron James') & (original_df['Age'] == 33))]\n",
    "pf_draymond_row = original_df.loc[((original_df['Player'] == 'Draymond Green') & (original_df['Age'] == 27))]\n",
    "pf_giannis_row = original_df.loc[((original_df['Player'] == 'Giannis Antetokounmpo') & (original_df['Age'] == 23))]\n",
    "c_davis_row = original_df.loc[((original_df['Player'] == 'Anthony Davis') & (original_df['Age'] == 26))]\n",
    "\n",
    "# Concatenate above into one dataframe:\n",
    "positionless_players_df = pd.concat([pg_simmons_row, pg_westbrook_row, sg_harden_row, pf_lebron_row, pf_draymond_row, pf_giannis_row, c_davis_row], axis='rows', join='inner')\n",
    "\n",
    "# Drop/Re-order columns to mimic Random Forest 1's dataset:\n",
    "positionless_players_df = positionless_players_df[['PTS', 'TRB', 'ORB', 'AST', 'STL', 'BLK', 'FG', 'FGA', 'FG%', '3P', '3PA', '3P%', '2P', '2PA', '2P%', 'FT', 'FTA', 'FT%', 'PF', 'TOV']]\n",
    "\n",
    "# Scale data (model data was scaled, so this data needs to be scaled as well):\n",
    "positionless_players_df_scaled = scaler.fit_transform(positionless_players_df)"
   ]
  },
  {
   "cell_type": "code",
   "execution_count": 118,
   "id": "473e9c05",
   "metadata": {},
   "outputs": [
    {
     "data": {
      "text/plain": [
       "array([1, 2, 3, 4, 5], dtype=int64)"
      ]
     },
     "execution_count": 118,
     "metadata": {},
     "output_type": "execute_result"
    }
   ],
   "source": [
    "# Predict first dataframe, containing players who define their position well:\n",
    "# A PG, SG, SF, PF, then C were loaded in.  Therefore, this output should be 1, 2, 3, 4, 5.\n",
    "# Also keep in mind order of players: PG Curry, SG Beal, SF Leonard, PF Love, C Embiid.\n",
    "position_predictions = rf1_model.predict(position_players_df_scaled)\n",
    "position_predictions"
   ]
  },
  {
   "cell_type": "markdown",
   "id": "1deab27f",
   "metadata": {},
   "source": [
    "### The Random Forest 1 model correctly predicted all 5 positions, as we expected it to because these players define their position well. Now, let's feed in the second dataframe, containing players who defy traditional position responsibilities. I expect that the model will not successfully identify these players. However, that is where the insight lays - what position does the model think the player plays?"
   ]
  },
  {
   "cell_type": "code",
   "execution_count": 119,
   "id": "18dc1933",
   "metadata": {},
   "outputs": [
    {
     "data": {
      "text/plain": [
       "array([4, 2, 1, 1, 4, 4], dtype=int64)"
      ]
     },
     "execution_count": 119,
     "metadata": {},
     "output_type": "execute_result"
    }
   ],
   "source": [
    "# Predict second dataframe, containing players who play a more \"positionless\" game:\n",
    "# A PG, PG, SG, PF, PF, PF, and C were loaded in.  Therefore, this output should be 1, 1, 2, 4, 4, 4, 5.\n",
    "# Also keep in mind order of players: PG Simmons, PG Westbrook, SG Harden, PF LeBron, PF Draymond, PF Giannis, C Gasol.\n",
    "positionless_predictions = rf1_model.predict(positionless_players_df_scaled)\n",
    "positionless_predictions"
   ]
  },
  {
   "cell_type": "markdown",
   "id": "7a1f1c9d",
   "metadata": {},
   "source": [
    "#### The Random Forest 1 model correctly predicted 3 of the 7 positions: it correctly predicted James Harden as a SG, Draymond Green as a PF, and Giannis Antetokounmpo as a PF.\n",
    "#### However, it thought PG Ben Simmons was a PF, PG Westbrook was a SG, PF LeBron James was a SF and C Marc Gasol was a PF.\n",
    "#### For a center to be mistaken for a power forward, and vice-versa, or for a point guard to be mistaken for a shooting guard, and vice-versa, is not an egregious error. These positions are similar and share similar responsibilities, and oftentimes, these players do in fact play both positions over the course of a season, or even at different points in the same game. The most interesting finding here is the one relating to PG Ben Simmons: the model thought he was a PF. This is something I expected to, and am glad to, see. Ben Simmons is 6'10\", which is very tall for a point guard. He is also a notoriously bad shooter for his position, rarely shooting from the outside, and mostly missing when he does. Therefore, his stats are more similar to those of power forwards, grabbing rebounds and shooting poorly from the outside. This is why the model thought he was a power forward."
   ]
  },
  {
   "cell_type": "markdown",
   "id": "144840a3",
   "metadata": {},
   "source": [
    "### Try it yourself! Feed the model hypothetical stats, and see what position it predicts! Keep in mind: stats are per 36 minutes, not per game."
   ]
  },
  {
   "cell_type": "code",
   "execution_count": 120,
   "id": "47ff9b9c",
   "metadata": {},
   "outputs": [],
   "source": [
    "# Create custom dataframe of hypothetical stats:\n",
    "my_stats_dict = {\n",
    "        'PTS': 20,\n",
    "        'TRB': 1,\n",
    "        'ORB': 0,\n",
    "        'AST': 10,\n",
    "        'STL': 2,\n",
    "        'BLK': 0,\n",
    "        'FG': 7,\n",
    "        'FGA': 17,\n",
    "        'FG%': 0.43,\n",
    "        '3P': 3,\n",
    "        '3PA': 8,\n",
    "        '3P%': 0.40,\n",
    "        '2P': 3,\n",
    "        '2PA': 9,\n",
    "        '2P%': 0.46,\n",
    "        'FT': 8,\n",
    "        'FTA': 5,\n",
    "        'FT%': 0.92,\n",
    "        'PF': 3,\n",
    "        'TOV': 3}\n",
    "index = range(1)\n",
    "my_stats_df = pd.DataFrame(my_stats_dict, index=index)\n",
    "\n",
    "# Manually scale each column using a for-loop (cannot use Standard Scaler for only 1 prediction, only 1 row of data):\n",
    "columns = ['PTS', 'TRB', 'ORB', 'AST', 'STL', 'BLK', 'FG', 'FGA', 'FG%', '3P', '3PA', '3P%', '2P', '2PA', '2P%', 'FT', 'FTA', 'FT%', 'PF', 'TOV']\n",
    "for item in columns:\n",
    "    my_stats_df[item] = (my_stats_df[item] - df[item].mean())/df[item].std()"
   ]
  },
  {
   "cell_type": "code",
   "execution_count": 121,
   "id": "eb27127c",
   "metadata": {},
   "outputs": [
    {
     "data": {
      "text/plain": [
       "array([1], dtype=int64)"
      ]
     },
     "execution_count": 121,
     "metadata": {},
     "output_type": "execute_result"
    }
   ],
   "source": [
    "# Make Prediction:\n",
    "# Keep in mind: PG = 1.  SG = 2.  SF = 3.  PF = 4.  C = 5.\n",
    "my_prediction = rf1_model.predict(my_stats_df)\n",
    "my_prediction"
   ]
  },
  {
   "cell_type": "markdown",
   "id": "a99934bc",
   "metadata": {},
   "source": [
    "# Ways to improve model:\n",
    "#### The first, and most obvious, way to improve the model would be to use a larger dataset; my dataset contained 15 seasons and 4051 rows of data (after filtering), which is not small, but a larger dataset with more training/testing data could have benefitted. Another way to improve the models' accuracy would be to filter the dataframe even further: I only included players with at least 820 minutes played in the season (10 min/game * 82 games), which I felt was a good number to use because it filtered out rarely-used players while still keeping a good amount of the data. Using a higher threshold of minutes played would ensure that the players included in the dataset are truly representative of that position's output.\n",
    "\n",
    "#### I also think a key feature was missing from the original dataset: the player's height. This is a huge factor in determining one's position, and I believe if that feature was included in the original dataset, it would have been deemed by the models as one of the most important feautures and would have ultimately increased accuracy scores across the board. More robust feature engineering in general would serve this dataset well.\n",
    "\n",
    "#### In addition, today's NBA is becoming increasingly more \"positionless\". Players' skill-sets are much more thorough and comprehensive than they used to be - back in the day, centers typically did not shoot three pointers and point guards did not grab many rebounds. But in today's game, one's \"position\" on paper does not mean all that much; players have a variety of skills, and like we saw above in Random Forest 1's predictions, it is not so easy to predict positions anymore in the NBA. Using seasons from many years ago, much older than 15 years - when the game was more rigid than it is today and players mainly stuck to the traditional responsibilities of their respective position - would make it easier for the model to make predictions. A next step could be to use another Random Forest model using the same 20 features, but this time, use a different dataset, one containing NBA data from, say, 1980-1990, and see how accurate the model is compared to the model's accuracy using more current NBA data."
   ]
  },
  {
   "cell_type": "code",
   "execution_count": null,
   "id": "2213cfe1",
   "metadata": {},
   "outputs": [],
   "source": []
  }
 ],
 "metadata": {
  "kernelspec": {
   "display_name": "Python 3 (ipykernel)",
   "language": "python",
   "name": "python3"
  },
  "language_info": {
   "codemirror_mode": {
    "name": "ipython",
    "version": 3
   },
   "file_extension": ".py",
   "mimetype": "text/x-python",
   "name": "python",
   "nbconvert_exporter": "python",
   "pygments_lexer": "ipython3",
   "version": "3.9.7"
  }
 },
 "nbformat": 4,
 "nbformat_minor": 5
}
